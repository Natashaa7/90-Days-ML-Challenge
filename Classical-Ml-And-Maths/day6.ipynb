{
 "cells": [
  {
   "cell_type": "markdown",
   "id": "a9d1a015-495e-4fd3-a375-126640014451",
   "metadata": {},
   "source": [
    "# Math Foundations (Linear Algebra & Probability Refresher)"
   ]
  },
  {
   "cell_type": "markdown",
   "id": "4930b623-4833-4e1f-a906-b111687bac9c",
   "metadata": {},
   "source": [
    "## Linear Algebra"
   ]
  },
  {
   "cell_type": "markdown",
   "id": "0a519414-b3b4-471e-bf91-bd95774dcc02",
   "metadata": {},
   "source": [
    "### 📍 Vectors\n",
    "<p>📘 Definition: A vector is an ordered list of numbers representing magnitude and direction in space.</p>\n",
    "<p>🔧 When to Use: When representing quantities with both magnitude and direction, like velocity or force.</p>\n",
    "<p>🌍 Where to Use: In physics simulations, computer graphics, and machine learning feature representation.</p>\n",
    "<p>💡 Use Case: Representing a 3D position as (x, y, z) in a game engine.</p>\n",
    "<p>⚠️ Limitations: Vectors alone cannot directly represent rotations or transformations without additional operations.</p>\n",
    "<p>✅ Advantages: Simple representation for directional and magnitude-based data.</p>\n",
    "<p>❓ Why is it Used?: To store and manipulate spatial or multi-dimensional data efficiently.</p>\n",
    "<p>> Magnitude of vectors: $|A| = √(x^2+y^2+z^2)$</p>\n",
    "<p>> Angle between two vectors: $θ = cos-1[(a·b)/|a||b|]$</p>\n",
    "<p>> Cross product of vectors: $A × B = (b1c2 - c1b2, a1c2 - c1a2, a1b2 - b1a2)$</p>\n",
    "<p>> Types of vectors: zero vector, unit vector, position vectors, equal vector, negative vector, parallel vector, orthogonal vector, co-initial vector</p>\n",
    "\n",
    "#### Zero Vector\n",
    "A vector with zero magnitude and no direction, written as (0,0,0). It’s called the additive identity because adding it to any vector doesn’t change the vector.\n",
    "\n",
    "#### Unit Vector\n",
    "A vector with magnitude 1, used mainly to indicate direction. Denoted with a “hat” (e.g., â), it’s the multiplicative identity for vectors.\n",
    "\n",
    "#### Position Vector\n",
    "Represents the location of a point in space relative to an origin. It shows both the position and direction of movement in 3D space.\n",
    "\n",
    "#### Equal Vectors\n",
    "Two vectors are equal if their corresponding components are equal, meaning they have the same magnitude and direction, even if their starting points are different.\n",
    "\n",
    "#### Negative Vector\n",
    "A vector with the same magnitude as another but pointing in the opposite direction. For example, if A = −B, they are negatives of each other.\n",
    "\n",
    "#### Parallel Vectors\n",
    "Vectors that have the same direction but may have different magnitudes. If they point in exactly opposite directions, they are antiparallel.\n",
    "\n",
    "#### Orthogonal Vectors\n",
    "Vectors that meet at a right angle (90°). Their dot product is always zero. \n",
    "$a·b = |a|·|b|cos90° = 0$\n",
    "\n",
    "#### Co-initial Vectors\n",
    "Vectors that start from the same initial point, regardless of their directions or magnitudes."
   ]
  },
  {
   "cell_type": "code",
   "execution_count": 16,
   "id": "8d30efc6-90df-488f-a7ff-4c487baffaaf",
   "metadata": {
    "scrolled": true
   },
   "outputs": [
    {
     "name": "stdout",
     "output_type": "stream",
     "text": [
      "[2 3 4]\n"
     ]
    }
   ],
   "source": [
    "import numpy as np\n",
    "v = np.array([2, 3, 4])\n",
    "print(v)"
   ]
  },
  {
   "cell_type": "markdown",
   "id": "8dc68baa-d6e3-4690-806e-c54696d0afc9",
   "metadata": {},
   "source": [
    "### Vector operations"
   ]
  },
  {
   "cell_type": "code",
   "execution_count": 76,
   "id": "943df940-1694-41d6-a08b-6ee8bec179b8",
   "metadata": {},
   "outputs": [
    {
     "name": "stdout",
     "output_type": "stream",
     "text": [
      "Vector a: [3 4 0]\n",
      "Vector b: [1 2 3]\n",
      "\n",
      "Addition (a + b): [4 6 3]\n",
      "Subtraction (a - b): [ 2  2 -3]\n",
      "Scalar Multiplication (2 * a): [6 8 0]\n",
      "\n",
      "Dot Product (a · b): 11\n",
      "Cross Product (a × b): [12 -9  2]\n",
      "\n",
      "Magnitude of a: 5.0\n",
      "Magnitude of b: 3.7416573867739413\n",
      "Unit Vector of a: [0.6 0.8 0. ]\n",
      "\n",
      "Angle between a and b (degrees): 53.986579610270475\n"
     ]
    }
   ],
   "source": [
    "import numpy as np\n",
    "\n",
    "# Define two vectors\n",
    "a = np.array([3, 4, 0])\n",
    "b = np.array([1, 2, 3])\n",
    "\n",
    "print(\"Vector a:\", a)\n",
    "print(\"Vector b:\", b)\n",
    "\n",
    "# 1. Vector Addition\n",
    "add = a + b\n",
    "print(\"\\nAddition (a + b):\", add)\n",
    "\n",
    "# 2. Vector Subtraction\n",
    "sub = a - b\n",
    "print(\"Subtraction (a - b):\", sub)\n",
    "\n",
    "# 3. Scalar Multiplication\n",
    "scalar = 2 * a\n",
    "print(\"Scalar Multiplication (2 * a):\", scalar)\n",
    "\n",
    "# 4. Dot Product\n",
    "dot_product = np.dot(a, b)\n",
    "print(\"\\nDot Product (a · b):\", dot_product)\n",
    "\n",
    "# 5. Cross Product\n",
    "cross_product = np.cross(a, b)\n",
    "print(\"Cross Product (a × b):\", cross_product)\n",
    "\n",
    "# 6. Magnitude (Length) of a Vector\n",
    "magnitude_a = np.linalg.norm(a)\n",
    "magnitude_b = np.linalg.norm(b)\n",
    "print(\"\\nMagnitude of a:\", magnitude_a)\n",
    "print(\"Magnitude of b:\", magnitude_b)\n",
    "\n",
    "# 7. Unit Vector (Direction)\n",
    "unit_a = a / magnitude_a\n",
    "print(\"Unit Vector of a:\", unit_a)\n",
    "\n",
    "# 8. Angle Between Two Vectors (in degrees)\n",
    "cos_theta = dot_product / (magnitude_a * magnitude_b)\n",
    "angle_rad = np.arccos(cos_theta)  # in radians\n",
    "angle_deg = np.degrees(angle_rad) # in degrees\n",
    "print(\"\\nAngle between a and b (degrees):\", angle_deg)"
   ]
  },
  {
   "cell_type": "markdown",
   "id": "c6a3c338-8e91-4112-a2ea-7d73a1b2d17c",
   "metadata": {},
   "source": [
    "### 🔹 Dot product\n",
    "<p>📘 Definition: The dot product is a scalar result of multiplying corresponding vector elements and summing them.</p>\n",
    "<p>🔧 When to Use: To measure similarity, projection, or angle between two vectors.</p>\n",
    "<p>🌍 Where to Use: In cosine similarity, physics work calculations, and machine learning.</p>\n",
    "<p>💡 Use Case: Determining how similar two text embeddings are in NLP.</p>\n",
    "<p>⚠️ Limitations: Only applies to vectors of equal length and doesn’t produce directional output.</p>\n",
    "<p>✅ Advantages: Quick way to get similarity and projection information.</p>\n",
    "<p>❓ Why is it Used?: To measure alignment or perform projections in various applications.</p>\n",
    "<p>> Dot product of two vectors: $a·b = |a||b| cosθ$</p>\n",
    "$(a1i + b1j + c1k) . (a2i + b2j + c2k) = (a1·a2) + (b1·b2) + (c1·c2)$"
   ]
  },
  {
   "cell_type": "code",
   "execution_count": 68,
   "id": "bd1fcc03-cdda-4967-a9da-b0385b15f0cc",
   "metadata": {},
   "outputs": [
    {
     "name": "stdout",
     "output_type": "stream",
     "text": [
      "32\n"
     ]
    }
   ],
   "source": [
    "a = np.array([1, 2, 3])\n",
    "b = np.array([4, 5, 6])\n",
    "dot = np.dot(a, b)\n",
    "print(dot)  # 32"
   ]
  },
  {
   "cell_type": "markdown",
   "id": "1cc0ddbe-cd9d-4d98-8a12-2a412b1016c5",
   "metadata": {},
   "source": [
    "### Matrices\n",
    "<p>📘 Definition: A matrix is a rectangular array of numbers arranged in rows and columns.</p>\n",
    "<p>🔧 When to Use: When dealing with linear transformations, equations, and data storage.</p>\n",
    "<p>🌍 Where to Use: In 3D graphics transformations, neural networks, and solving linear systems.</p>\n",
    "<p>💡 Use Case: Storing pixel intensities of a grayscale image in a 2D array.</p>\n",
    "<p>⚠️ Limitations: Large matrices can be memory-intensive and slow without optimized libraries.</p>\n",
    "<p>✅ Advantages: Efficient structure for storing and operating on large datasets.</p>\n",
    "<p>❓ Why is it Used?: To perform linear operations and represent data or transformations compactly.</p>"
   ]
  },
  {
   "cell_type": "code",
   "execution_count": 18,
   "id": "4b4e5261-1483-4002-bef5-185504df7c2d",
   "metadata": {},
   "outputs": [
    {
     "name": "stdout",
     "output_type": "stream",
     "text": [
      "[[1 2]\n",
      " [3 4]]\n"
     ]
    }
   ],
   "source": [
    "A = np.array([[1, 2], [3, 4]])\n",
    "print(A)"
   ]
  },
  {
   "cell_type": "markdown",
   "id": "29f5a2fa-0b07-492f-98c3-b6b285701dfb",
   "metadata": {},
   "source": [
    "#### Singleton Matrix\n",
    "A matrix with only one element.\n",
    "Order is 1×1 (one row and one column).\n",
    "Example: [5] has just one value, 5."
   ]
  },
  {
   "cell_type": "code",
   "execution_count": 110,
   "id": "91051342-84e7-46e1-9523-9333edf81c54",
   "metadata": {},
   "outputs": [
    {
     "name": "stdout",
     "output_type": "stream",
     "text": [
      "(1, 1)\n"
     ]
    }
   ],
   "source": [
    "import numpy as np\n",
    "singleton = np.array([[5]])\n",
    "print(singleton.shape)  # (1, 1)"
   ]
  },
  {
   "cell_type": "markdown",
   "id": "2f425941-306c-489a-92b7-38b158fcebea",
   "metadata": {},
   "source": [
    "#### Null (Zero) Matrix\n",
    "All elements are zero.\n",
    "Can be of any order (e.g., 3×3, 2×4, etc.)."
   ]
  },
  {
   "cell_type": "code",
   "execution_count": 113,
   "id": "0f8cc360-8604-4274-8860-4a7eaea765d9",
   "metadata": {},
   "outputs": [
    {
     "name": "stdout",
     "output_type": "stream",
     "text": [
      "[[0. 0. 0.]\n",
      " [0. 0. 0.]\n",
      " [0. 0. 0.]]\n"
     ]
    }
   ],
   "source": [
    "zero_matrix = np.zeros((3, 3))\n",
    "print(zero_matrix)"
   ]
  },
  {
   "cell_type": "markdown",
   "id": "cd1bd53a-e4c3-4220-8a7c-a10997415c29",
   "metadata": {},
   "source": [
    "#### Row Matrix\n",
    "Contains only one row but can have many columns.\n",
    "Represented as 1×n, where 𝑛 is the number of columns."
   ]
  },
  {
   "cell_type": "code",
   "execution_count": 116,
   "id": "5c52e5e2-b586-4080-b9eb-8d2634a3e065",
   "metadata": {},
   "outputs": [
    {
     "name": "stdout",
     "output_type": "stream",
     "text": [
      "(1, 3)\n"
     ]
    }
   ],
   "source": [
    "row_matrix = np.array([[1, 2, 3]])\n",
    "print(row_matrix.shape)  # (1, 3)"
   ]
  },
  {
   "cell_type": "markdown",
   "id": "5e7f9949-f166-4e9b-85a1-2ce01d90dc07",
   "metadata": {},
   "source": [
    "#### Column Matrix\n",
    "Contains only one column but can have many rows.\n",
    "Represented as n×1, where 𝑛 is the number of rows."
   ]
  },
  {
   "cell_type": "code",
   "execution_count": 134,
   "id": "fcf664b6-f695-495f-88cf-ccabb08fe5ac",
   "metadata": {},
   "outputs": [
    {
     "name": "stdout",
     "output_type": "stream",
     "text": [
      "(3, 1)\n"
     ]
    },
    {
     "data": {
      "text/plain": [
       "array([[1],\n",
       "       [2],\n",
       "       [3]])"
      ]
     },
     "execution_count": 134,
     "metadata": {},
     "output_type": "execute_result"
    }
   ],
   "source": [
    "col_matrix = np.array([[1], [2], [3]])\n",
    "print(col_matrix.shape)  # (3, 1)\n",
    "col_matrix"
   ]
  },
  {
   "cell_type": "markdown",
   "id": "053253b0-9787-4e76-b63f-d8718612f68b",
   "metadata": {},
   "source": [
    "#### Horizontal Matrix\n",
    "Has fewer rows than columns (𝑟𝑜𝑤𝑠<𝑐𝑜𝑙𝑢𝑚𝑛𝑠).\n",
    "Example: 2×4 matrix."
   ]
  },
  {
   "cell_type": "code",
   "execution_count": 137,
   "id": "c30d5f18-c9fd-4465-864a-9ffb6210b93d",
   "metadata": {},
   "outputs": [
    {
     "name": "stdout",
     "output_type": "stream",
     "text": [
      "(2, 4)\n"
     ]
    }
   ],
   "source": [
    "horizontal = np.array([[1, 2, 3, 4], [5, 6, 7, 8]])\n",
    "print(horizontal.shape)  # (2, 4)"
   ]
  },
  {
   "cell_type": "markdown",
   "id": "9f9d05bf-023d-4f21-93ec-ad33a0946461",
   "metadata": {},
   "source": [
    "#### Vertical Matrix\n",
    "\n",
    "Has more rows than columns (𝑟𝑜𝑤𝑠>𝑐𝑜𝑙𝑢𝑚𝑛𝑠).\n",
    "Example: 4×2 matrix."
   ]
  },
  {
   "cell_type": "code",
   "execution_count": 140,
   "id": "8bee6e4e-3f91-4558-b83a-ad533bcd94cc",
   "metadata": {},
   "outputs": [
    {
     "name": "stdout",
     "output_type": "stream",
     "text": [
      "(4, 2)\n"
     ]
    }
   ],
   "source": [
    "vertical = np.array([[1, 2], [3, 4], [5, 6], [7, 8]])\n",
    "print(vertical.shape)  # (4, 2)"
   ]
  },
  {
   "cell_type": "markdown",
   "id": "9bc780c9-b1f0-4997-8d63-d28bb1818188",
   "metadata": {},
   "source": [
    "#### Rectangular Matrix\n",
    "Number of rows and columns are not equal (𝑚≠𝑛).\n",
    "Both horizontal and vertical matrices are special cases of rectangular matrices.\n"
   ]
  },
  {
   "cell_type": "code",
   "execution_count": 143,
   "id": "b96c653d-1f23-4b00-8651-885fa6128604",
   "metadata": {},
   "outputs": [
    {
     "name": "stdout",
     "output_type": "stream",
     "text": [
      "(2, 3)\n"
     ]
    }
   ],
   "source": [
    "rectangular = np.array([[1, 2, 3], [4, 5, 6]])\n",
    "print(rectangular.shape)  # (2, 3)"
   ]
  },
  {
   "cell_type": "markdown",
   "id": "af5c8580-7398-4bff-86fe-da0cf3422f7e",
   "metadata": {},
   "source": [
    "#### Square Matrix\n",
    "Number of rows and columns are equal (𝑛×𝑛).\n",
    "Can have special forms like diagonal, scalar, or identity matrices."
   ]
  },
  {
   "cell_type": "code",
   "execution_count": 131,
   "id": "59fc5966-4869-4cfa-a6d8-1b78227e54b0",
   "metadata": {},
   "outputs": [
    {
     "name": "stdout",
     "output_type": "stream",
     "text": [
      "(2, 2)\n"
     ]
    }
   ],
   "source": [
    "square = np.array([[1, 2], [3, 4]])\n",
    "print(square.shape)  # (2, 2)"
   ]
  },
  {
   "cell_type": "markdown",
   "id": "6314d0c0-04b5-4270-9c87-e2c5603f43d2",
   "metadata": {},
   "source": [
    "#### Diagonal Matrix\n",
    "\n",
    "A square matrix where all non-diagonal elements are zero.\n",
    "Only the diagonal elements (from top-left to bottom-right) may be non-zero.\n"
   ]
  },
  {
   "cell_type": "code",
   "execution_count": 146,
   "id": "e4e8eb87-085a-45e6-b7cf-a6a4093f578a",
   "metadata": {},
   "outputs": [
    {
     "name": "stdout",
     "output_type": "stream",
     "text": [
      "[[3 0 0]\n",
      " [0 5 0]\n",
      " [0 0 7]]\n"
     ]
    }
   ],
   "source": [
    "import numpy as np\n",
    "D = np.diag([3, 5, 7])\n",
    "print(D)"
   ]
  },
  {
   "cell_type": "markdown",
   "id": "1eb2f827-d2e8-4948-a803-1545a1b4b7e8",
   "metadata": {},
   "source": [
    "#### Scalar Matrix\n",
    "\n",
    "A diagonal matrix where all diagonal elements are equal and non-zero.\n",
    "Example: All diagonal elements = 4."
   ]
  },
  {
   "cell_type": "code",
   "execution_count": 149,
   "id": "a067b5cd-d745-4535-8d34-20a96b10d8e0",
   "metadata": {},
   "outputs": [
    {
     "name": "stdout",
     "output_type": "stream",
     "text": [
      "[[4. 0. 0.]\n",
      " [0. 4. 0.]\n",
      " [0. 0. 4.]]\n"
     ]
    }
   ],
   "source": [
    "S = 4 * np.identity(3)\n",
    "print(S)"
   ]
  },
  {
   "cell_type": "markdown",
   "id": "e53c7347-1b97-4d82-8a41-e5d1e5db3998",
   "metadata": {},
   "source": [
    "#### Identity (Unit) Matrix\n",
    "\n",
    "A diagonal matrix where all diagonal elements are 1 and all non-diagonal elements are 0.\n",
    "Represented as Iₙ for an 𝑛×𝑛 matrix."
   ]
  },
  {
   "cell_type": "code",
   "execution_count": 152,
   "id": "e9ad208f-a732-4262-8889-ebd7d45f8a00",
   "metadata": {},
   "outputs": [
    {
     "name": "stdout",
     "output_type": "stream",
     "text": [
      "[[1. 0. 0.]\n",
      " [0. 1. 0.]\n",
      " [0. 0. 1.]]\n"
     ]
    }
   ],
   "source": [
    "I = np.identity(3)\n",
    "print(I)"
   ]
  },
  {
   "cell_type": "markdown",
   "id": "90890697-7f05-4abc-87f9-f313c599ddb4",
   "metadata": {},
   "source": [
    "#### Triangular Matrix\n",
    "\n",
    "Upper Triangular Matrix: A square matrix where all elements below the diagonal are zero; only diagonal and above can be non-zero.\n",
    "\n",
    "Lower Triangular Matrix: A square matrix where all elements above the diagonal are zero; only diagonal and below can be non-zero.\n"
   ]
  },
  {
   "cell_type": "code",
   "execution_count": 155,
   "id": "5dcc6bb0-e238-4bf6-b3b3-395b3b7d8ea2",
   "metadata": {},
   "outputs": [
    {
     "name": "stdout",
     "output_type": "stream",
     "text": [
      "Upper Triangular:\n",
      " [[2 3 4]\n",
      " [0 5 6]\n",
      " [0 0 7]]\n",
      "Lower Triangular:\n",
      " [[2 0 0]\n",
      " [3 5 0]\n",
      " [1 4 7]]\n"
     ]
    }
   ],
   "source": [
    "U = np.array([[2, 3, 4],\n",
    "              [0, 5, 6],\n",
    "              [0, 0, 7]])\n",
    "L = np.array([[2, 0, 0],\n",
    "              [3, 5, 0],\n",
    "              [1, 4, 7]])\n",
    "print(\"Upper Triangular:\\n\", U)\n",
    "print(\"Lower Triangular:\\n\", L)"
   ]
  },
  {
   "cell_type": "markdown",
   "id": "76d64959-a394-4a42-a10c-e1e66242e14b",
   "metadata": {},
   "source": [
    "#### Singular Matrix\n",
    "\n",
    "A square matrix with determinant = 0.\n",
    "Not invertible (no inverse exists)."
   ]
  },
  {
   "cell_type": "code",
   "execution_count": 158,
   "id": "380f8f22-64aa-40eb-b4be-588146ac07c8",
   "metadata": {},
   "outputs": [
    {
     "name": "stdout",
     "output_type": "stream",
     "text": [
      "Determinant: 0.0\n"
     ]
    }
   ],
   "source": [
    "A = np.array([[2, 3], [4, 6]])\n",
    "print(\"Determinant:\", np.linalg.det(A))  # 0 → Singular"
   ]
  },
  {
   "cell_type": "markdown",
   "id": "d62a214f-e0dc-4a2b-84a7-666d18c83075",
   "metadata": {},
   "source": [
    "#### Non-Singular Matrix\n",
    "\n",
    "A square matrix with determinant ≠ 0.\n",
    "Invertible (inverse exists).\n"
   ]
  },
  {
   "cell_type": "markdown",
   "id": "3b5c9b25-5ebd-4fcd-86eb-9f06d15a812e",
   "metadata": {},
   "source": [
    "#### Symmetric Matrix\n",
    "\n",
    "<p>A square matrix where transpose = original matrix ($𝐴^𝑇=𝐴$).\n",
    "This means element 𝑎𝑖𝑗=𝑎𝑗𝑖 for all 𝑖,𝑗."
   ]
  },
  {
   "cell_type": "code",
   "execution_count": 162,
   "id": "f6adb7f9-b650-4aaa-a61d-a3c9a1fb7b79",
   "metadata": {},
   "outputs": [
    {
     "name": "stdout",
     "output_type": "stream",
     "text": [
      "True\n"
     ]
    }
   ],
   "source": [
    "A = np.array([[2, 1, 3],\n",
    "              [1, 4, 5],\n",
    "              [3, 5, 6]])\n",
    "print(np.allclose(A, A.T))  # True → Symmetric"
   ]
  },
  {
   "cell_type": "markdown",
   "id": "58e22f87-9e4e-4bdb-bc52-180123112190",
   "metadata": {},
   "source": [
    "### Skew-Symmetric Matrix\n",
    "A square matrix where $A^T=−A$ (the transpose equals the negative of the original)."
   ]
  },
  {
   "cell_type": "code",
   "execution_count": 6,
   "id": "96ea432e-f0e9-43d8-8809-9fee7cb042ed",
   "metadata": {},
   "outputs": [
    {
     "name": "stdout",
     "output_type": "stream",
     "text": [
      "True\n"
     ]
    }
   ],
   "source": [
    "import numpy as np\n",
    "A = np.array([[0, -2, 4],\n",
    "              [2, 0, -3],\n",
    "              [-4, 3, 0]])\n",
    "print(np.allclose(A.T, -A))  # True"
   ]
  },
  {
   "cell_type": "markdown",
   "id": "fc04918c-143c-4303-bfbc-fdba3b1d60d6",
   "metadata": {},
   "source": [
    "### Orthogonal Matrix\n",
    "A square matrix where $A^TA=I$ (transpose equals the inverse)."
   ]
  },
  {
   "cell_type": "code",
   "execution_count": 10,
   "id": "b106e850-ea11-4f5f-ad87-79d6485e0850",
   "metadata": {},
   "outputs": [
    {
     "name": "stdout",
     "output_type": "stream",
     "text": [
      "True\n"
     ]
    }
   ],
   "source": [
    "Q = np.array([[0, 1], [1, 0]])\n",
    "print(np.allclose(Q.T @ Q, np.identity(2)))  # True"
   ]
  },
  {
   "cell_type": "markdown",
   "id": "9e32a014-d103-4a8f-b24f-8e89584562fe",
   "metadata": {},
   "source": [
    "### Hermitian Matrix\n",
    "A complex square matrix where $A^∗=A$ (conjugate transpose equals itself)."
   ]
  },
  {
   "cell_type": "code",
   "execution_count": 14,
   "id": "4448251a-407a-48e4-add9-35cec0f10c2e",
   "metadata": {},
   "outputs": [
    {
     "name": "stdout",
     "output_type": "stream",
     "text": [
      "True\n"
     ]
    }
   ],
   "source": [
    "H = np.array([[2+0j, 3-1j],\n",
    "              [3+1j, 5+0j]])\n",
    "print(np.allclose(H.conj().T, H))  # True"
   ]
  },
  {
   "cell_type": "markdown",
   "id": "0d6544f4-6659-4c7a-bbed-e9b4c53fd894",
   "metadata": {},
   "source": [
    "### Sparse Matrix\n",
    "A matrix where most elements are zero."
   ]
  },
  {
   "cell_type": "code",
   "execution_count": 19,
   "id": "e1398503-7dfd-423b-b9d3-bb21bf1b2101",
   "metadata": {},
   "outputs": [
    {
     "name": "stdout",
     "output_type": "stream",
     "text": [
      "  (0, 2)\t3\n",
      "  (1, 0)\t4\n"
     ]
    }
   ],
   "source": [
    "from scipy.sparse import csr_matrix\n",
    "dense = np.array([[0, 0, 3],\n",
    "                  [4, 0, 0],\n",
    "                  [0, 0, 0]])\n",
    "sparse = csr_matrix(dense)\n",
    "print(sparse)"
   ]
  },
  {
   "cell_type": "markdown",
   "id": "c4ee8b86-55bf-4632-b326-1f306125ebaf",
   "metadata": {},
   "source": [
    "### ✖️ Matrix Multiplication\n",
    "📘 Definition:\n",
    "Matrix multiplication combines two matrices by multiplying rows by columns to produce a new matrix.\n",
    "<p>🔧 When to Use: When applying linear transformations or combining data relationships.</p>\n",
    "<p>🌍 Where to Use: In 3D transformations, neural network weight calculations, and systems of equations.</p>\n",
    "<p>💡 Use Case: Rotating and scaling an object in computer graphics using transformation matrices.</p>\n",
    "<p>⚠️ Limitations: Not commutative (AB ≠ BA) and can be computationally expensive for large matrices.</p>\n",
    "<p>✅ Advantages: Allows combination of multiple transformations into one operation.</p>\n",
    "<p>❓ Why is it Used?: To apply transformations and solve systems efficiently in linear algebra problems.</p>"
   ]
  },
  {
   "cell_type": "code",
   "execution_count": 165,
   "id": "f78819f9-c38c-4711-a4c3-afc6cca87faf",
   "metadata": {},
   "outputs": [
    {
     "name": "stdout",
     "output_type": "stream",
     "text": [
      "[[19 22]\n",
      " [43 50]]\n"
     ]
    }
   ],
   "source": [
    "A = np.array([[1, 2], [3, 4]])\n",
    "B = np.array([[5, 6], [7, 8]])\n",
    "C = np.matmul(A, B)\n",
    "print(C)"
   ]
  },
  {
   "cell_type": "markdown",
   "id": "8020d440-403d-4b2b-8977-5365c370b0ac",
   "metadata": {},
   "source": [
    "### 🔄 Transpose\n",
    "<p>📘 Definition: The transpose of a matrix is obtained by swapping its rows and columns.</p>\n",
    "<p>🔧 When to Use: When converting between row and column representations or in mathematical derivations.</p>\n",
    "<p>🌍 Where to Use: In machine learning (covariance matrices), linear transformations, and solving equations.</p>\n",
    "<p>💡 Use Case: Switching a dataset from row-wise to column-wise features in data preprocessing.</p>\n",
    "<p>⚠️ Limitations: Does not change the matrix’s fundamental properties except orientation.</p>\n",
    "<p>✅ Advantages: Makes certain matrix operations easier (e.g., symmetric matrices where A = Aᵀ).</p>\n",
    "<p>❓ Why is it Used?: To rearrange data for calculations or represent transformations in alternate forms.</p>\n",
    "$A ij^T​=A ji​$"
   ]
  },
  {
   "cell_type": "code",
   "execution_count": 24,
   "id": "b5dcd297-0c09-40c2-af66-b77cf25f0c86",
   "metadata": {},
   "outputs": [
    {
     "name": "stdout",
     "output_type": "stream",
     "text": [
      "[[1 4]\n",
      " [2 5]\n",
      " [3 6]]\n"
     ]
    }
   ],
   "source": [
    "A = np.array([[1, 2, 3], [4, 5, 6]])\n",
    "print(A.T)"
   ]
  },
  {
   "cell_type": "markdown",
   "id": "48b29d00-8dd6-45b5-95b6-2b9d2db40e59",
   "metadata": {},
   "source": [
    "### Determinants\n",
    "<p>📘 Definition: The determinant of a square matrix is a scalar value that encodes certain properties of the matrix, such as invertibility and volume scaling.</p>\n",
    "\n",
    "<p>🔧 When to Use: When checking if a matrix is invertible, or understanding transformation scaling in linear systems.</p>\n",
    "<p>🌍 Where to Use: In solving systems of linear equations, computer graphics transformations, and differential equations.</p>\n",
    "<p>❓ Why is it Used?: To determine properties of linear transformations and solve equations efficiently.</p>\n",
    "<p>✅ Advantages: Quick way to test invertibility and assess transformation effects.</p>\n",
    "<p><⚠️ Limitations: Not defined for non-square matrices; computationally expensive for very large matrices./p>\n",
    "<p>💡 Use Case: Determining if a matrix has an inverse (determinant ≠ 0).</p>\n",
    "Determinant of 2×2 matrix - $det(A)=ad−bc$\n",
    "    \n",
    "Determinant of 3×3 matrix - $det(A) = a(ei−fh)−b(di−gf)+c(dh−ge)$"
   ]
  },
  {
   "cell_type": "code",
   "execution_count": 35,
   "id": "50f7f896-e6c7-40f1-9d1a-f7bd6b71b0fe",
   "metadata": {},
   "outputs": [
    {
     "name": "stdout",
     "output_type": "stream",
     "text": [
      "5.000000000000001\n"
     ]
    }
   ],
   "source": [
    "import numpy as np\n",
    "\n",
    "A = np.array([[2, 3], [1, 4]])\n",
    "det_A = np.linalg.det(A)\n",
    "print(det_A)  # 5.0"
   ]
  },
  {
   "cell_type": "markdown",
   "id": "9ea8001d-55e6-497f-b772-ceca576e2a90",
   "metadata": {},
   "source": [
    "### 🔁 Inverse\n",
    "<p>📘 Definition: The inverse of a square matrix is another matrix that, when multiplied with it, yields the identity matrix.</p>\n",
    "<p>🔧 When to Use: When solving linear equations or reversing transformations.</p>\n",
    "<p>🌍 Where to Use: In cryptography, control systems, and solving systems of linear equations.</p>\n",
    "<p>💡 Use Case: Undoing a geometric transformation in 3D graphics.</p>\n",
    "<p>⚠️ Limitations: Not all matrices have an inverse (singular matrices don’t).</p>\n",
    "<p>✅ Advantages: Allows reversing transformations and finding exact solutions.</p>\n",
    "<p>❓ Why is it Used?: To undo operations and solve linear systems directly.</p>\n",
    "$det(A)=ad−bc$\n",
    "\n",
    "$adj(A) = A^T$\n",
    "\n",
    "$A ^-1 = 1/det(A)​ ⋅adj(A)$"
   ]
  },
  {
   "cell_type": "code",
   "execution_count": 26,
   "id": "456ed0b6-eff4-4bcc-a7e1-6799865763f9",
   "metadata": {},
   "outputs": [
    {
     "name": "stdout",
     "output_type": "stream",
     "text": [
      "[[-2.   1. ]\n",
      " [ 1.5 -0.5]]\n"
     ]
    }
   ],
   "source": [
    "A = np.array([[1, 2], [3, 4]])\n",
    "A_inv = np.linalg.inv(A)\n",
    "print(A_inv)"
   ]
  },
  {
   "cell_type": "markdown",
   "id": "b1130d59-9fe3-4944-9d08-a12f6cf27068",
   "metadata": {},
   "source": [
    "### 📊 Rank\n",
    "<p>📘 Definition: The rank of a matrix is the maximum number of linearly independent rows or columns. It essentially determines the dimensionality of the vector space formed by the rows or columns of the matrix.</p>\n",
    "<p>🔧 When to Use: When determining the amount of unique information in a dataset or checking solvability of equations.</p>\n",
    "<p>🌍 Where to Use: In data compression, dimensionality reduction, and system solvability analysis.</p>\n",
    "<p>💡 Use Case: Checking if a system of equations has a unique, infinite, or no solution.</p>\n",
    "<p>⚠️ Limitations: Rank calculation can be computationally expensive for large matrices.</p>\n",
    "<p>✅ Advantages: Helps in understanding data redundancy and dimensionality.</p>\n",
    "<p>❓ Why is it Used?: To measure information content and determine linear independence in data.</p>\n",
    "3 methods can be used to get the rank of any given matrix. These methods are as follows:\n",
    "\n",
    "1. Minor Method\n",
    "2. Using Echelon Form\n",
    "3. Using Normal Form"
   ]
  },
  {
   "cell_type": "code",
   "execution_count": 28,
   "id": "7340dc24-7056-4fd9-8a5a-2e7156c12952",
   "metadata": {},
   "outputs": [
    {
     "name": "stdout",
     "output_type": "stream",
     "text": [
      "1\n"
     ]
    }
   ],
   "source": [
    "A = np.array([[1, 2], [2, 4]])\n",
    "rank = np.linalg.matrix_rank(A)\n",
    "print(rank)  # 1"
   ]
  },
  {
   "cell_type": "markdown",
   "id": "f32d8def-435c-460b-a395-b5ab76c384fb",
   "metadata": {},
   "source": [
    "### Eigenvalues & Eigenvectors (Intuition)\n",
    "<p>📘 Definition: For a square matrix, an eigenvector is a non-zero vector whose direction remains unchanged when the matrix is applied; its corresponding eigenvalue is the scalar factor by which it is stretched or shrunk.</p>\n",
    "<p>🔧 When to Use: When analyzing transformations to find principal directions and scaling factors.</p>\n",
    "<p>🌍 Where to Use: In PCA (Principal Component Analysis), stability analysis, quantum mechanics, and network analysis.</p>\n",
    "<p>💡 Use Case: Finding dominant directions in data for dimensionality reduction in machine learning.</p>\n",
    "<p>⚠️ Limitations: Only defined for square matrices; numerical instability may occur for nearly defective matrices.</p>\n",
    "<p>✅ Advantages: Reveals intrinsic properties of transformations, such as invariant directions and magnitudes.</p>\n",
    "<p>❓ Why is it Used?: To simplify complex transformations and uncover structure in data.</p>\n",
    "$A v =λ v$\n",
    "\n",
    "$A = matrix$\n",
    "\n",
    "$v = eigenvector$\n",
    "\n",
    "$λ = eigenvalue$"
   ]
  },
  {
   "cell_type": "code",
   "execution_count": 51,
   "id": "f707e5fa-b40f-4947-8ecd-cb911e57f469",
   "metadata": {},
   "outputs": [
    {
     "name": "stdout",
     "output_type": "stream",
     "text": [
      "Eigenvalues: [5. 2.]\n",
      "Eigenvectors:\n",
      " [[ 0.89442719 -0.70710678]\n",
      " [ 0.4472136   0.70710678]]\n"
     ]
    }
   ],
   "source": [
    "A = np.array([[4, 2], [1, 3]])\n",
    "eigenvalues, eigenvectors = np.linalg.eig(A)\n",
    "\n",
    "print(\"Eigenvalues:\", eigenvalues)\n",
    "print(\"Eigenvectors:\\n\", eigenvectors)"
   ]
  },
  {
   "cell_type": "markdown",
   "id": "10738e44-19fd-4a87-8910-f096fc6a514e",
   "metadata": {},
   "source": [
    "## Probability & Stats"
   ]
  },
  {
   "cell_type": "markdown",
   "id": "5c8d52c4-5444-47f9-8f74-29a072160026",
   "metadata": {},
   "source": [
    "### Random variables, PMF/PDF\n",
    "\n",
    "<p>📘 Definition: A variable whose numerical value is determined by the outcome of a random process or experiment.</p>\n",
    "<p>🔧 When to Use: When modeling uncertainty and variability in real-world data or simulations.</p>\n",
    "<p>🌍 Where to Use: Probability theory, statistical modeling, machine learning, and predictive analysis.</p>\n",
    "<p>💡 Use Case: Representing the number of heads obtained in 10 consecutive coin tosses.</p>\n",
    "<p>⚠️ Limitations: Assumes a fixed probability distribution, which may differ from real-world behavior.</p>\n",
    "<p>✅ Advantages: Provides a structured mathematical framework for analyzing randomness.</p>\n",
    "<p>❓ Why is it Used?: To quantify uncertainty and allow logical probabilistic reasoning in models.</p>"
   ]
  },
  {
   "cell_type": "code",
   "execution_count": 53,
   "id": "69776b4e-ce34-47b7-826a-5efe82787e02",
   "metadata": {},
   "outputs": [
    {
     "name": "stdout",
     "output_type": "stream",
     "text": [
      "Random Variable Samples: [0 1 0 0 1 0 1 0 1 1]\n"
     ]
    }
   ],
   "source": [
    "# Example: Simulating a discrete random variable\n",
    "outcomes = np.random.choice([0, 1], size=10, p=[0.5, 0.5])\n",
    "print(\"Random Variable Samples:\", outcomes)"
   ]
  },
  {
   "cell_type": "markdown",
   "id": "f299e1a7-6e34-4a2f-b0d4-6e1b501d7e9e",
   "metadata": {},
   "source": [
    "### PMF (Probability Mass Function)\n",
    "<p>📘 Definition: A function that returns the probability for each possible outcome of a discrete random variable.</p>\n",
    "<p>🔧 When to Use: For analyzing discrete outcomes such as dice rolls, coin tosses, or count-based data.</p>\n",
    "<p>🌍 Where to Use: Game theory, statistical probability, NLP, and decision-making under uncertainty.</p>\n",
    "<p>💡 Use Case: Calculating the probability of rolling exactly a “4” on a fair six-sided die.</p>\n",
    "<p>⚠️ Limitations: Works only for discrete random variables, and probabilities must sum exactly to 1.</p>\n",
    "<p>✅ Advantages: Very easy to compute, visualize, and interpret for small discrete cases.</p>\n",
    "<p>❓ Why is it Used?: To explicitly describe how probabilities are distributed among discrete values.</p>"
   ]
  },
  {
   "cell_type": "code",
   "execution_count": 55,
   "id": "cce176f0-792e-48f7-8c8e-8501b1c03fc3",
   "metadata": {
    "jp-MarkdownHeadingCollapsed": true
   },
   "outputs": [
    {
     "name": "stdout",
     "output_type": "stream",
     "text": [
      "PMF: {5: 0.165, 1: 0.163, 6: 0.164, 2: 0.185, 4: 0.141, 3: 0.182}\n"
     ]
    }
   ],
   "source": [
    "from collections import Counter\n",
    "\n",
    "data = np.random.choice([1, 2, 3, 4, 5, 6], size=1000)\n",
    "counts = Counter(data)\n",
    "pmf = {k: v/1000 for k, v in counts.items()}\n",
    "print(\"PMF:\", pmf)"
   ]
  },
  {
   "cell_type": "markdown",
   "id": "b1147c10-2f93-4885-bb0f-708e82ea5fcc",
   "metadata": {},
   "source": [
    "### PDF (Probability Density Function)\n",
    "\n",
    "<p>📘 Definition: A function that describes the likelihood of a continuous random variable taking values in a specific range.</p>\n",
    "<p>🔧 When to Use: For continuous outcomes such as heights, weights, time durations, or signal measurements.</p>\n",
    "<p>🌍 Where to Use: Signal processing, continuous probability theory, machine learning, and scientific research.</p>\n",
    "<p>💡 Use Case: Modeling the probability distribution of adult human heights in a population study.</p>\n",
    "<p>⚠️ Limitations: PDF value at a point is not a probability; probability is calculated as area under the curve.</p>\n",
    "<p>✅ Advantages: Can represent many real-world continuous processes with flexible mathematical models.</p>\n",
    "<p>❓ Why is it Used?: To understand how continuous values are distributed and predict their likelihood ranges.</p>"
   ]
  },
  {
   "cell_type": "code",
   "execution_count": 40,
   "id": "60909ff1-3328-4732-9187-7a9ec5fecad0",
   "metadata": {
    "jp-MarkdownHeadingCollapsed": true
   },
   "outputs": [
    {
     "data": {
      "image/png": "[encoded data removed]",
      "text/plain": [
       "<Figure size 640x480 with 1 Axes>"
      ]
     },
     "metadata": {},
     "output_type": "display_data"
    }
   ],
   "source": [
    "import matplotlib.pyplot as plt\n",
    "from scipy.stats import norm\n",
    "\n",
    "x = np.linspace(-3, 3, 100)\n",
    "pdf_values = norm.pdf(x, loc=0, scale=1)\n",
    "plt.plot(x, pdf_values)\n",
    "plt.title(\"Normal Distribution PDF\")\n",
    "plt.show()"
   ]
  },
  {
   "cell_type": "markdown",
   "id": "c9b12d2b-7b18-4f70-b219-31ef41b75436",
   "metadata": {},
   "source": [
    "### Mean\n",
    "<p>📘 Definition: The average value of a dataset or the long-run expected value of a random variable over many trials.</p>\n",
    "<p>🔧 When to Use: When summarizing the central tendency or balancing point of your dataset.</p>\n",
    "<p>🌍 Where to Use: In data analysis, probability theory, economics, AI models, and quality control processes.</p>\n",
    "<p>💡 Use Case: Calculating the average score of students in a class after an exam.</p>\n",
    "<p>⚠️ Limitations: Can be heavily influenced by outliers and extreme values in the dataset.</p>\n",
    "<p>✅ Advantages: Very simple to compute and provides a quick summary of the dataset.</p>\n",
    "<p>❓ Why is it Used?: To represent the central value of the dataset for interpretation and comparison.</p>"
   ]
  },
  {
   "cell_type": "code",
   "execution_count": 48,
   "id": "beb9c95c-f22b-46d6-a504-495308eb2bbd",
   "metadata": {
    "jp-MarkdownHeadingCollapsed": true
   },
   "outputs": [
    {
     "name": "stdout",
     "output_type": "stream",
     "text": [
      "Mean: 6.0\n"
     ]
    }
   ],
   "source": [
    "data = [2, 4, 6, 8, 10]\n",
    "mean_value = np.mean(data)\n",
    "print(\"Mean:\", mean_value)"
   ]
  },
  {
   "cell_type": "markdown",
   "id": "a24af94b-e420-48f0-9b14-909b9a978d9d",
   "metadata": {},
   "source": [
    "### Variance\n",
    "<p>📘 Definition: A measure of how spread out the data values are from the mean, calculated as the average of squared deviations.</p>\n",
    "<p>🔧 When to Use: When you want to measure variability or consistency in data distribution.</p>\n",
    "<p>🌍 Where to Use: Risk analysis, finance, machine learning feature analysis, and experimental data evaluation.</p>\n",
    "<p>💡 Use Case: Assessing how much students’ test scores differ from the class average score.</p>\n",
    "<p>⚠️ Limitations: Units are squared, which can make direct interpretation less intuitive.</p>\n",
    "<p>✅ Advantages: Captures overall data spread and is useful for comparing different datasets.</p>\n",
    "<p>❓ Why is it Used?: To quantify how dispersed the values are around the mean in a dataset.</p>"
   ]
  },
  {
   "cell_type": "code",
   "execution_count": 46,
   "id": "5447b26c-ad59-41fd-82df-e65eb9c9a4a3",
   "metadata": {},
   "outputs": [
    {
     "name": "stdout",
     "output_type": "stream",
     "text": [
      "Variance: 8.0\n"
     ]
    }
   ],
   "source": [
    "variance_value = np.var(data)\n",
    "print(\"Variance:\", variance_value)"
   ]
  },
  {
   "cell_type": "markdown",
   "id": "500f0e0b-e8af-455c-841b-cadd10e72edf",
   "metadata": {},
   "source": [
    "### Standard deviation\n",
    "<p>📘 Definition: The square root of variance, representing the average distance of each data point from the mean.</p>\n",
    "<p>🔧 When to Use: When measuring the spread of data in the same units as the original values.</p>\n",
    "<p>🌍 Where to Use: In finance for volatility, manufacturing quality control, and machine learning model evaluation.</p>\n",
    "<p>💡 Use Case: Checking consistency of daily sales numbers in a retail store over one month.</p>\n",
    "<p>⚠️ Limitations: Like the mean, it can be affected by extreme outliers in the dataset.</p>\n",
    "<p>✅ Advantages: Same units as original data, making it easier to interpret compared to variance.</p>\n",
    "<p>❓ Why is it Used?: To measure typical deviations from the mean and assess overall data consistency.</p>"
   ]
  },
  {
   "cell_type": "code",
   "execution_count": 58,
   "id": "d1c84b6a-bb72-4478-a833-9e4bb5c7bcff",
   "metadata": {},
   "outputs": [
    {
     "name": "stdout",
     "output_type": "stream",
     "text": [
      "Standard Deviation: 1.7057831046179346\n"
     ]
    }
   ],
   "source": [
    "std_deviation = np.std(data)\n",
    "print(\"Standard Deviation:\", std_deviation)"
   ]
  },
  {
   "cell_type": "markdown",
   "id": "1ffac134-24d9-4309-b84d-98c1608e97ff",
   "metadata": {},
   "source": [
    "### Conditional Probability\n",
    "\n",
    "<p>📘 Definition: The probability of an event occurring given that another related event has already occurred.</p>\n",
    "<p>🔧 When to Use: When analyzing dependent events where one outcome affects the likelihood of another.</p>\n",
    "<p>🌍 Where to Use: In medical testing, reliability analysis, fraud detection, and risk assessment scenarios.</p>\n",
    "<p>💡 Use Case: Calculating the probability of having a disease given that the test result is positive.</p>\n",
    "<p>⚠️ Limitations: Requires accurate prior probabilities, which may be hard to estimate.</p>\n",
    "<p>✅ Advantages: Helps refine predictions when new relevant information becomes available.</p>\n",
    "<p>❓ Why is it Used?: To adjust probability estimates when additional context or conditions are known.</p>\n",
    "Formula: $P(A∣B)= P(A∩B)|P(B)$"
   ]
  },
  {
   "cell_type": "code",
   "execution_count": 64,
   "id": "79410689-e7d7-4a0b-a97c-33664fe2f813",
   "metadata": {},
   "outputs": [
    {
     "name": "stdout",
     "output_type": "stream",
     "text": [
      "P(Rain|Cloudy): 0.6\n"
     ]
    }
   ],
   "source": [
    "# Example: P(Rain|Cloudy)\n",
    "P_A_and_B = 0.3  # P(Rain AND Cloudy)\n",
    "P_B = 0.5        # P(Cloudy)\n",
    "P_A_given_B = P_A_and_B / P_B\n",
    "print(\"P(Rain|Cloudy):\", P_A_given_B)"
   ]
  },
  {
   "cell_type": "markdown",
   "id": "c7579117-7e5d-4169-8fdb-ebeffc786b36",
   "metadata": {},
   "source": [
    "### Bayes’ Theorem\n",
    "<p>📘 Definition: A mathematical rule that uses prior probability and new evidence to calculate the updated probability of an event.</p>\n",
    "<p>🔧 When to Use: When updating beliefs or predictions after receiving new evidence or data.</p>\n",
    "<p>🌍 Where to Use: In spam filtering, medical diagnosis, machine learning classification, and predictive modeling.</p>\n",
    "<p>💡 Use Case: Updating the probability of an email being spam after checking for certain suspicious keywords.</p>\n",
    "<p>⚠️ Limitations: Assumes independence of evidence, which may not hold in real-world situations.</p>\n",
    "<p>✅ Advantages: Provides a formal, logical way to incorporate new evidence into probability estimates.</p>\n",
    "<p>❓ Why is it Used?: To update prior beliefs with observed evidence in a mathematically sound way.</p>\n",
    "Formula: $ P(A∣B)= P(B∣A)⋅P(A)/P(B)$"
   ]
  },
  {
   "cell_type": "code",
   "execution_count": 70,
   "id": "ccf0e828-0d17-47ae-94f0-48028b06977b",
   "metadata": {},
   "outputs": [
    {
     "name": "stdout",
     "output_type": "stream",
     "text": [
      "P(Disease|Positive Test): 0.16666666666666669\n"
     ]
    }
   ],
   "source": [
    "# Example: Medical Test Probability\n",
    "P_Disease = 0.01       # Prior probability of having disease\n",
    "P_Positive_given_Disease = 0.99  # Sensitivity\n",
    "P_Positive_given_No_Disease = 0.05  # False positive rate\n",
    "P_No_Disease = 1 - P_Disease\n",
    "\n",
    "# Total probability of positive test\n",
    "P_Positive = (P_Positive_given_Disease * P_Disease) + \\\n",
    "             (P_Positive_given_No_Disease * P_No_Disease)\n",
    "\n",
    "# Bayes’ theorem\n",
    "P_Disease_given_Positive = (P_Positive_given_Disease * P_Disease) / P_Positive\n",
    "print(\"P(Disease|Positive Test):\", P_Disease_given_Positive)"
   ]
  },
  {
   "cell_type": "markdown",
   "id": "a4ef3f93-620d-4951-83f5-39257a207001",
   "metadata": {},
   "source": [
    "### Probability distributions \n",
    "<p>Normal Distribution → A continuous, bell-shaped curve where values are most likely near the mean and less likely as you move away.</p>\n",
    "<p>Uniform Distribution → A continuous distribution where every value within a range is equally likely.</p>\n",
    "<p>Exponential Distribution → A continuous distribution that models the time between events in a Poisson process, with probabilities decreasing exponentially.</p>\n",
    "<p>Binomial Distribution → A discrete distribution that gives the probability of a certain number of successes in a fixed number of independent trials.</p>"
   ]
  },
  {
   "cell_type": "code",
   "execution_count": 93,
   "id": "2d8fa24a-b514-42e9-8e10-ca60138c2b8d",
   "metadata": {},
   "outputs": [
    {
     "data": {
      "image/png": "[encoded data removed]",
      "text/plain": [
       "<Figure size 1200x800 with 4 Axes>"
      ]
     },
     "metadata": {},
     "output_type": "display_data"
    }
   ],
   "source": [
    "from scipy.stats import binom\n",
    "\n",
    "# --- Data for Distributions ---\n",
    "\n",
    "# Normal Distribution (mean=0, std=1)\n",
    "x_normal = np.linspace(-4, 4, 1000)\n",
    "y_normal = (1 / (np.sqrt(2 * np.pi))) * np.exp(-0.5 * x_normal**2)\n",
    "\n",
    "# Uniform Distribution (from -2 to 2)\n",
    "x_uniform = np.linspace(-2, 2, 1000)\n",
    "y_uniform = np.ones_like(x_uniform) * 0.25\n",
    "\n",
    "# Exponential Distribution (lambda = 1)\n",
    "x_exp = np.linspace(0, 5, 1000)\n",
    "y_exp = np.exp(-x_exp)\n",
    "\n",
    "# Binomial Distribution (n=10, p=0.5)\n",
    "n = 10\n",
    "p = 0.5\n",
    "x_binom = np.arange(0, n+1)\n",
    "y_binom = binom.pmf(x_binom, n, p)\n",
    "\n",
    "# --- Plotting ---\n",
    "fig, axs = plt.subplots(2, 2, figsize=(12, 8))\n",
    "\n",
    "# Normal\n",
    "axs[0, 0].plot(x_normal, y_normal, color=\"blue\")\n",
    "axs[0, 0].set_title(\"Normal Distribution\")\n",
    "axs[0, 0].grid(True, linestyle=\"--\", alpha=0.6)\n",
    "\n",
    "# Uniform\n",
    "axs[0, 1].plot(x_uniform, y_uniform, color=\"green\")\n",
    "axs[0, 1].set_title(\"Uniform Distribution\")\n",
    "axs[0, 1].grid(True, linestyle=\"--\", alpha=0.6)\n",
    "\n",
    "# Exponential\n",
    "axs[1, 0].plot(x_exp, y_exp, color=\"red\")\n",
    "axs[1, 0].set_title(\"Exponential Distribution\")\n",
    "axs[1, 0].grid(True, linestyle=\"--\", alpha=0.6)\n",
    "\n",
    "# Binomial\n",
    "axs[1, 1].stem(x_binom, y_binom, linefmt=\"orange\", markerfmt=\"o\", basefmt=\" \")\n",
    "axs[1, 1].set_title(\"Binomial Distribution (n=10, p=0.5)\")\n",
    "axs[1, 1].grid(True, linestyle=\"--\", alpha=0.6)\n",
    "\n",
    "# Adjust layout\n",
    "plt.tight_layout()\n",
    "plt.show()"
   ]
  },
  {
   "cell_type": "code",
   "execution_count": null,
   "id": "fb14e7bd-8687-45fa-8375-9f35e7ca7bce",
   "metadata": {},
   "outputs": [],
   "source": []
  }
 ],
 "metadata": {
  "kernelspec": {
   "display_name": "Python [conda env:base] *",
   "language": "python",
   "name": "conda-base-py"
  },
  "language_info": {
   "codemirror_mode": {
    "name": "ipython",
    "version": 3
   },
   "file_extension": ".py",
   "mimetype": "text/x-python",
   "name": "python",
   "nbconvert_exporter": "python",
   "pygments_lexer": "ipython3",
   "version": "3.12.7"
  }
 },
 "nbformat": 4,
 "nbformat_minor": 5
}
