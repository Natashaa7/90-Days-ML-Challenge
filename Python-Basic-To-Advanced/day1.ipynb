{
 "cells": [
  {
   "cell_type": "markdown",
   "id": "b3699527-db92-4239-b8b8-dd08356d44b6",
   "metadata": {},
   "source": [
    "### 1. Python basics level"
   ]
  },
  {
   "cell_type": "code",
   "execution_count": 2,
   "id": "2300b468-3802-4ba9-b18c-80e2254c1f16",
   "metadata": {},
   "outputs": [
    {
     "name": "stdout",
     "output_type": "stream",
     "text": [
      "Hello world\n"
     ]
    }
   ],
   "source": [
    "#print and comments\n",
    "print(\"Hello world\") #This is a comment"
   ]
  },
  {
   "cell_type": "code",
   "execution_count": 4,
   "id": "2d9d1b20-0db5-4dd9-a7fc-c3cd074bed5c",
   "metadata": {},
   "outputs": [
    {
     "data": {
      "text/plain": [
       "(6, 7.5, 'Hello world', True)"
      ]
     },
     "execution_count": 4,
     "metadata": {},
     "output_type": "execute_result"
    }
   ],
   "source": [
    "# declaring variables with data types\n",
    "a = 6 #integer\n",
    "b = 7.5 #float\n",
    "c = \"Hello world\" #string\n",
    "d = True #boolean\n",
    "a,b,c,d"
   ]
  },
  {
   "cell_type": "code",
   "execution_count": 6,
   "id": "e8209986-1ce8-4be7-ac74-56a852f9f570",
   "metadata": {},
   "outputs": [
    {
     "name": "stdin",
     "output_type": "stream",
     "text": [
      "Enter a number:  1\n"
     ]
    },
    {
     "name": "stdout",
     "output_type": "stream",
     "text": [
      "The number is:  1\n"
     ]
    }
   ],
   "source": [
    "# use of input function\n",
    "# for integer\n",
    "n = int(input(\"Enter a number: \"))\n",
    "print(\"The number is: \", n)"
   ]
  },
  {
   "cell_type": "code",
   "execution_count": 8,
   "id": "de53348c-2ead-4bd2-a316-d4008f2473d5",
   "metadata": {},
   "outputs": [
    {
     "name": "stdin",
     "output_type": "stream",
     "text": [
      "Enter the price:  12\n"
     ]
    },
    {
     "name": "stdout",
     "output_type": "stream",
     "text": [
      "The price is:  12.0\n"
     ]
    }
   ],
   "source": [
    "#for float\n",
    "a = float(input(\"Enter the price: \"))\n",
    "print(\"The price is: \", a)"
   ]
  },
  {
   "cell_type": "code",
   "execution_count": 55,
   "id": "8de1393b-3537-48d9-b070-d2a288349a4c",
   "metadata": {},
   "outputs": [
    {
     "name": "stdin",
     "output_type": "stream",
     "text": [
      "Enter a name:  Natasha\n"
     ]
    },
    {
     "name": "stdout",
     "output_type": "stream",
     "text": [
      "My name is:  Natasha\n"
     ]
    }
   ],
   "source": [
    "#for string\n",
    "t = input(\"Enter a name: \")\n",
    "print(\"My name is: \", t)"
   ]
  },
  {
   "cell_type": "code",
   "execution_count": 43,
   "id": "e6e5bd44-d8bd-409f-a56a-b81cf379ebd8",
   "metadata": {},
   "outputs": [
    {
     "name": "stdin",
     "output_type": "stream",
     "text": [
      "Enter a condition:  2\n"
     ]
    },
    {
     "name": "stdout",
     "output_type": "stream",
     "text": [
      "The condition is:  True\n"
     ]
    }
   ],
   "source": [
    "#for boolean\n",
    "s = bool(input(\"Enter a condition: \"))\n",
    "print(\"The condition is: \", s)"
   ]
  },
  {
   "cell_type": "code",
   "execution_count": 81,
   "id": "f9aa1a40-12c2-490e-a6f6-df1ef91f1efa",
   "metadata": {},
   "outputs": [
    {
     "name": "stdout",
     "output_type": "stream",
     "text": [
      "The data type of variable 'n' is <class 'int'>\n",
      "The data type of variable 'a' is <class 'float'>\n",
      "The data type of variable 't' is <class 'str'>\n",
      "The data type of variable 's' is <class 'bool'>\n",
      "24.0\n",
      "The data type of variable 'num' is <class 'float'>\n",
      "The data type of variable 'num' is <class 'str'>\n",
      "The number is 123\n",
      "The data type of variable 'num' is <class 'int'>\n",
      "The data type of variable 'ft_num' is <class 'float'>\n",
      "The number is:  12\n",
      "The data type of variable 'int_num' is <class 'int'>\n"
     ]
    }
   ],
   "source": [
    "#Type casting and conversion\n",
    "print(f\"The data type of variable 'n' is {type(n)}\")\n",
    "print(f\"The data type of variable 'a' is {type(a)}\")\n",
    "print(f\"The data type of variable 't' is {type(t)}\")\n",
    "print(f\"The data type of variable 's' is {type(s)}\")\n",
    "\n",
    "#implicit type conversion\n",
    "g = n + a #n is implicitly converted into float\n",
    "print(g)\n",
    "print(f\"The data type of variable 'num' is {type(g)}\")\n",
    "\n",
    "#explicit type casting\n",
    "str_num = \"123\"\n",
    "print(f\"The data type of variable 'num' is {type(str_num)}\")\n",
    "num = int(str_num) #str_num is converted from string to integer\n",
    "print(\"The number is\", num)\n",
    "print(f\"The data type of variable 'num' is {type(num)}\")\n",
    "\n",
    "ft_num = 12.6\n",
    "print(f\"The data type of variable 'ft_num' is {type(ft_num)}\")\n",
    "int_num = int(ft_num) #ft_num is converted from float to integer\n",
    "print(\"The number is: \", int_num)\n",
    "print(f\"The data type of variable 'int_num' is {type(int_num)}\")"
   ]
  },
  {
   "cell_type": "code",
   "execution_count": 100,
   "id": "90eda108-f1aa-4a02-b04a-8e4c442499c3",
   "metadata": {},
   "outputs": [
    {
     "name": "stdout",
     "output_type": "stream",
     "text": [
      "The difference is 5\n",
      "The sum is 39\n",
      "The product is 374\n",
      "The value is 1.2941176470588236\n",
      "The value is 1\n",
      "The remainder is 5\n",
      "The power is 66249952919459433152512\n"
     ]
    }
   ],
   "source": [
    "#Arithmetic operators\n",
    "q = 22\n",
    "w = 17\n",
    "k = q - w #Subtraction\n",
    "print(f\"The difference is {k}\")\n",
    "l = q + w #Addition\n",
    "print(f\"The sum is {l}\")\n",
    "m = q * w #Multiplication\n",
    "print(f\"The product is {m}\")\n",
    "u = q / w #Division\n",
    "print(f\"The value is {u}\")\n",
    "r = q // w #Floor division\n",
    "print(f\"The value is {r}\")\n",
    "p = q % w #Modulus\n",
    "print(f\"The remainder is {p}\")\n",
    "o = q ** w #Exponentiation\n",
    "print(f\"The power is {o}\")"
   ]
  },
  {
   "cell_type": "code",
   "execution_count": 87,
   "id": "32081c9d-e209-4f4f-8470-d03e937cd281",
   "metadata": {},
   "outputs": [
    {
     "name": "stdout",
     "output_type": "stream",
     "text": [
      "Equal?: False\n",
      "Not equal?: True\n",
      "Greater than w?: True\n",
      "Less than w?: False\n",
      "Greater than or equal to w?: True\n",
      "Less than or equal to w?: False\n"
     ]
    }
   ],
   "source": [
    "#Comparison operators\n",
    "print(f\"Equal?: {q==w}\")\n",
    "print(f\"Not equal?: {q!=w}\")\n",
    "print(f\"Greater than w?: {q>w}\")\n",
    "print(f\"Less than w?: {q<w}\")\n",
    "print(f\"Greater than or equal to w?: {q>=w}\")\n",
    "print(f\"Less than or equal to w?: {q<=w}\")"
   ]
  },
  {
   "cell_type": "code",
   "execution_count": 95,
   "id": "7ef703e3-7287-462b-b0fa-9a627ce3cda6",
   "metadata": {},
   "outputs": [
    {
     "name": "stdout",
     "output_type": "stream",
     "text": [
      "Does 19 lie between q and w?: True\n",
      "Suitable?: True\n",
      "Is the condition true?: True\n"
     ]
    }
   ],
   "source": [
    "#Logical operators\n",
    "print(f\"Does 19 lie between q and w?: {19 < q and 19 > w}\")\n",
    "print(f\"Suitable?: {19 < q or 19 < w}\")\n",
    "print(f\"Is the condition true?: {not(19 > q and 19 < w)}\")"
   ]
  },
  {
   "cell_type": "markdown",
   "id": "bde315e4-3796-4de3-8c80-2922aeaaa63b",
   "metadata": {},
   "source": [
    "### 2. Control Flow"
   ]
  },
  {
   "cell_type": "code",
   "execution_count": 112,
   "id": "cdde376b-810c-4ef5-9b6a-326b91f3f888",
   "metadata": {},
   "outputs": [
    {
     "name": "stdin",
     "output_type": "stream",
     "text": [
      "Enter first number:  1\n",
      "Enter second number:  2\n",
      "Enter third number:  3\n"
     ]
    },
    {
     "name": "stdout",
     "output_type": "stream",
     "text": [
      "The greatest is z\n"
     ]
    }
   ],
   "source": [
    "#if elif else statements\n",
    "x = int(input(\"Enter first number: \"))\n",
    "y = int(input(\"Enter second number: \"))\n",
    "z = int(input(\"Enter third number: \"))\n",
    "if x > y and x > z:\n",
    "    print(\"The greatest is x\")\n",
    "elif y > x and y > z:\n",
    "    print(\"The greatest is y\")\n",
    "else:\n",
    "    print(\"The greatest is z\")"
   ]
  },
  {
   "cell_type": "code",
   "execution_count": 126,
   "id": "368de61d-d9d3-47b3-abc6-ef38dff9e885",
   "metadata": {},
   "outputs": [
    {
     "name": "stdin",
     "output_type": "stream",
     "text": [
      "Enter your age:  22\n",
      "Are you a member?:  YES\n"
     ]
    },
    {
     "name": "stdout",
     "output_type": "stream",
     "text": [
      "You are a member\n"
     ]
    }
   ],
   "source": [
    "#nested if conditions\n",
    "s= int(input(\"Enter your age: \"))\n",
    "member = input(\"Are you a member?: \").lower()\n",
    "if s > 18:\n",
    "    if member == \"yes\":\n",
    "        print(\"You are a member\")\n",
    "    else:\n",
    "        print(\"Not a member\")\n",
    "else:\n",
    "    print(\"Minor\")"
   ]
  },
  {
   "cell_type": "code",
   "execution_count": 139,
   "id": "07f16b99-2c32-4e4a-8c0e-800c505fb64c",
   "metadata": {},
   "outputs": [
    {
     "name": "stdout",
     "output_type": "stream",
     "text": [
      "False\n",
      "True\n",
      "False\n"
     ]
    }
   ],
   "source": [
    "#boolean logic\n",
    "a = True\n",
    "b = True\n",
    "c = False\n",
    "\n",
    "print(a and c) # and: Both conditions must be True\n",
    "\n",
    "print(b or c) # or: At least one of the conditions must be True\n",
    "\n",
    "print(not b) # not: Outputs the opposite condition"
   ]
  },
  {
   "cell_type": "markdown",
   "id": "711f7d4a-3eec-429f-868a-63edfeaa72ea",
   "metadata": {},
   "source": [
    "### 3. Loops"
   ]
  },
  {
   "cell_type": "code",
   "execution_count": 157,
   "id": "efffa693-5334-4b66-8324-bf8318ffeb7c",
   "metadata": {},
   "outputs": [
    {
     "name": "stdout",
     "output_type": "stream",
     "text": [
      "2\n",
      "4\n",
      "6\n",
      "8\n",
      "10\n",
      "12\n",
      "14\n",
      "16\n",
      "18\n",
      "20\n"
     ]
    }
   ],
   "source": [
    "#for loops\n",
    "for i in range(2, 21, 2):\n",
    "    print(i)"
   ]
  },
  {
   "cell_type": "code",
   "execution_count": 1,
   "id": "5227c237-f782-44bb-8a9f-273d7a1ad6e7",
   "metadata": {},
   "outputs": [
    {
     "name": "stdout",
     "output_type": "stream",
     "text": [
      "6\n",
      "7\n",
      "8\n"
     ]
    }
   ],
   "source": [
    "num = [1,2,3,4,5,6,7,8]\n",
    "for i in num:\n",
    "    if i > 5:\n",
    "        print(i)"
   ]
  },
  {
   "cell_type": "code",
   "execution_count": 10,
   "id": "e7c7c351-36d8-4283-8669-02fbecc6ee23",
   "metadata": {},
   "outputs": [
    {
     "name": "stdout",
     "output_type": "stream",
     "text": [
      "12\n",
      "13\n",
      "14\n",
      "15\n",
      "16\n",
      "17\n",
      "18\n",
      "19\n"
     ]
    }
   ],
   "source": [
    "# while loops\n",
    "i = 12\n",
    "while i < 20:\n",
    "    print(i)\n",
    "    i += 1"
   ]
  },
  {
   "cell_type": "code",
   "execution_count": 20,
   "id": "dba0500c-e1c1-4010-9691-4721c0d7a0a1",
   "metadata": {},
   "outputs": [
    {
     "name": "stdout",
     "output_type": "stream",
     "text": [
      "3\n",
      "4\n",
      "5\n",
      "6\n",
      "7\n",
      "8\n",
      "9\n"
     ]
    }
   ],
   "source": [
    "#break\n",
    "for i in range(3,12):\n",
    "    if i == 10:\n",
    "        break\n",
    "    print(i)"
   ]
  },
  {
   "cell_type": "code",
   "execution_count": 22,
   "id": "661f440a-6b39-40b1-8186-ed764f3abdcd",
   "metadata": {},
   "outputs": [
    {
     "name": "stdout",
     "output_type": "stream",
     "text": [
      "0\n",
      "1\n",
      "2\n",
      "3\n",
      "5\n",
      "6\n"
     ]
    }
   ],
   "source": [
    "# continue\n",
    "for i in range(7):\n",
    "    if i == 4:\n",
    "        continue\n",
    "    print(i)"
   ]
  },
  {
   "cell_type": "code",
   "execution_count": 26,
   "id": "fe027f51-0d9e-4865-ab9c-7637421ae183",
   "metadata": {},
   "outputs": [
    {
     "name": "stdout",
     "output_type": "stream",
     "text": [
      "1\n",
      "2\n",
      "3\n"
     ]
    }
   ],
   "source": [
    "#pass\n",
    "for i in range(1, 4):\n",
    "    if i == 2:\n",
    "        pass  # placeholder, no action needed for this condition\n",
    "    print(i)"
   ]
  },
  {
   "cell_type": "code",
   "execution_count": 34,
   "id": "cc9d6c17-18dc-4d77-80bc-4454a708e058",
   "metadata": {},
   "outputs": [
    {
     "name": "stdout",
     "output_type": "stream",
     "text": [
      "Item 1: apple\n",
      "Item 2: banana\n",
      "Item 3: orange\n",
      "Item 4: grapes\n",
      "Item 5: mango\n"
     ]
    }
   ],
   "source": [
    "#enumerate keeps track of number of iterations in the loop\n",
    "fruits = [\"apple\", \"banana\", \"orange\", \"grapes\", \"mango\"]\n",
    "for index, item in enumerate(fruits, start=1):\n",
    "    print(f\"Item {index}: {item}\")"
   ]
  },
  {
   "cell_type": "code",
   "execution_count": 49,
   "id": "91bfced8-5dd7-408d-9489-6f045ea24b84",
   "metadata": {},
   "outputs": [
    {
     "name": "stdout",
     "output_type": "stream",
     "text": [
      "Item 1: ('apple', 120)\n",
      "Item 2: ('banana', 122)\n",
      "Item 3: ('orange', 234)\n",
      "Item 4: ('grapes', 523)\n",
      "Item 5: ('mango', 132)\n"
     ]
    }
   ],
   "source": [
    "#zip combines the list\n",
    "price = [120, 122, 234, 523, 132, 123]\n",
    "combine = list(zip(fruits, price))\n",
    "for index, item in enumerate(combine, start=1):\n",
    "    print(f\"Item {index}: {item}\")"
   ]
  },
  {
   "cell_type": "markdown",
   "id": "e88bb35e-4346-4461-a4cc-bc1065fd5b6b",
   "metadata": {},
   "source": [
    "### 4. Data Structures"
   ]
  },
  {
   "cell_type": "code",
   "execution_count": 184,
   "id": "512485fb-a3ae-4e31-83df-fdba9a5b4246",
   "metadata": {},
   "outputs": [
    {
     "name": "stdout",
     "output_type": "stream",
     "text": [
      "[12, 14, 16, 17, 18, 20, 12, 'hi', True]\n",
      "18\n",
      "[16, 17]\n",
      "[20, 12, 'hi']\n",
      "[12, 14, 16, 17, 18, 20, 12, 'hi', True, 'bye']\n",
      "[12, 14, 45, 16, 17, 18, 20, 12, 'hi', True, 'bye']\n",
      "[12, 14, 45, 17, 18, 20, 12, 'hi', True, 'bye']\n"
     ]
    },
    {
     "data": {
      "text/plain": [
       "[12, 14, 45, 90, 18, 20, 12, 'hi', True, 'bye']"
      ]
     },
     "execution_count": 184,
     "metadata": {},
     "output_type": "execute_result"
    }
   ],
   "source": [
    "#list\n",
    "age = [12, 14, 16, 17, 18, 20, 12, \"hi\", True] \n",
    "print(age)\n",
    "print(age[4]) #indexing\n",
    "print(age[2:4]) #slicing\n",
    "print(age[-4:-1]) #slicing\n",
    "age.append(\"bye\") # adding element into the list\n",
    "print(age)\n",
    "age.insert(2, 45) #adding index element into the list\n",
    "print(age)\n",
    "age.remove(16) # removing element\n",
    "print(age)\n",
    "age[3] = 90\n",
    "age"
   ]
  },
  {
   "cell_type": "code",
   "execution_count": 3,
   "id": "4f2278b4-e78d-4a11-ba66-ca41c2466a8f",
   "metadata": {},
   "outputs": [
    {
     "name": "stdout",
     "output_type": "stream",
     "text": [
      "('nat', 'sam', 'rose', 'aaditi')\n",
      "rose\n",
      "('nat', 'kiwi', 'rose', 'aaditi')\n"
     ]
    }
   ],
   "source": [
    "#tuple\n",
    "name = (\"nat\", \"sam\", \"rose\", \"aaditi\") #tuple\n",
    "print(name)\n",
    "print(name[2]) # indexing\n",
    "# updating tuple by converting it into a list\n",
    "y = list(name) #converting tuple into the list\n",
    "y[1] = \"kiwi\"\n",
    "name = tuple(y) #converting list into tuple\n",
    "print(name)"
   ]
  },
  {
   "cell_type": "code",
   "execution_count": 188,
   "id": "62bb17dc-414c-4ad5-92f1-546cb2df061a",
   "metadata": {},
   "outputs": [
    {
     "name": "stdout",
     "output_type": "stream",
     "text": [
      "Sam\n",
      "Rose\n"
     ]
    },
    {
     "data": {
      "text/plain": [
       "{1: 'Nat', 2: 'Sam', 3: 'Aaditi', 4: 'Pandu'}"
      ]
     },
     "execution_count": 188,
     "metadata": {},
     "output_type": "execute_result"
    }
   ],
   "source": [
    "#dictionary\n",
    "dt = {1: \"Nat\", 2: \"Sam\", 3:\"Aaditi\", 4:\"Rose\"}\n",
    "print(dt.get(2)) #indexing\n",
    "print(dt.get(4)) #indexing\n",
    "dt.update({4:\"Pandu\"}) #updating dict\n",
    "dt[5]=\"Rose\"\n",
    "dt.pop(5) #removing element according to index\n",
    "dt"
   ]
  },
  {
   "cell_type": "code",
   "execution_count": 190,
   "id": "047337cf-249d-4567-8f10-273f017c385c",
   "metadata": {},
   "outputs": [
    {
     "name": "stdout",
     "output_type": "stream",
     "text": [
      "banana\n",
      "berry\n",
      "cherry\n",
      "apple\n",
      "{'berry', 'apple', 'banana', 'cherry', 'orange'}\n",
      "{'berry', 'pineapple', 'apple', 'mango', 'banana', 'cherry', 'orange', 'papaya'}\n"
     ]
    },
    {
     "data": {
      "text/plain": [
       "{'apple', 'banana', 'berry', 'mango', 'orange', 'papaya', 'pineapple'}"
      ]
     },
     "execution_count": 190,
     "metadata": {},
     "output_type": "execute_result"
    }
   ],
   "source": [
    "#sets\n",
    "sets = {\"apple\", \"banana\", \"cherry\", \"berry\", \"apple\"}\n",
    "\n",
    "for each in sets: #iterating through each element\n",
    "    print(each)\n",
    "\n",
    "sets.add(\"orange\") #add element\n",
    "print(sets)\n",
    "tropical = {\"pineapple\", \"mango\", \"papaya\"}\n",
    "sets.update(tropical) # update all elements into the list\n",
    "print(sets)\n",
    "sets.remove(\"cherry\")\n",
    "sets"
   ]
  },
  {
   "cell_type": "code",
   "execution_count": 206,
   "id": "00687dc7-9eae-4f87-82b5-9ec7c51ce7d5",
   "metadata": {},
   "outputs": [
    {
     "name": "stdout",
     "output_type": "stream",
     "text": [
      "[8]\n",
      "{1: -1, 2: 0, 3: 1, 4: 2, 5: 3, 6: 4, 7: 5, 8: 6, 9: 7}\n",
      "{16, 1, 4, 9}\n"
     ]
    }
   ],
   "source": [
    "#Comprehensions\n",
    "#list\n",
    "a = [x**3 for x in range(1, 5) if x==2] \n",
    "print(a)\n",
    "\n",
    "#dictionary\n",
    "b = {x: x-2 for x in range(1, 10)}\n",
    "print(b)\n",
    "\n",
    "#set\n",
    "c = {x**2 for x in [1, 2, 2, 3, 3, 4]}\n",
    "print(c)"
   ]
  },
  {
   "cell_type": "markdown",
   "id": "556d60bc-7c5d-477d-b0fa-6ca3843925ae",
   "metadata": {},
   "source": [
    "### 5. Functions"
   ]
  },
  {
   "cell_type": "code",
   "execution_count": 217,
   "id": "6f541854-0ba1-4569-9ad1-9d432f7b5491",
   "metadata": {},
   "outputs": [
    {
     "name": "stdin",
     "output_type": "stream",
     "text": [
      "Enter first number:  3\n",
      "Enter second number:  4\n"
     ]
    },
    {
     "name": "stdout",
     "output_type": "stream",
     "text": [
      "The sum is:  7\n",
      "The difference is:  -1\n",
      "The product is:  12\n"
     ]
    }
   ],
   "source": [
    "# defining functions with def\n",
    "def cal(a, b):\n",
    "    return a+b, a-b, a*b\n",
    "\n",
    "a = int(input(\"Enter first number: \"))\n",
    "b = int(input(\"Enter second number: \"))\n",
    "\n",
    "summ, diff, pro = cal(a,b)\n",
    "\n",
    "print(\"The sum is: \", summ)\n",
    "print(\"The difference is: \", diff)\n",
    "print(\"The product is: \", pro)"
   ]
  },
  {
   "cell_type": "code",
   "execution_count": 229,
   "id": "1b901ca3-0eff-4635-ae0e-dcc8a6082cf3",
   "metadata": {},
   "outputs": [
    {
     "name": "stdout",
     "output_type": "stream",
     "text": [
      "I am from  Kathmandu\n",
      "I am from  Lalitpur\n"
     ]
    }
   ],
   "source": [
    "#default arguments\n",
    "def home(name = \"Lalitpur\"): # passes default value if no argument is called\n",
    "    print(\"I am from \", name)\n",
    "\n",
    "home(\"Kathmandu\")\n",
    "home()"
   ]
  },
  {
   "cell_type": "code",
   "execution_count": 235,
   "id": "56575188-8d76-4273-8a55-3d7b35ae84f6",
   "metadata": {},
   "outputs": [
    {
     "name": "stdout",
     "output_type": "stream",
     "text": [
      "The first to win the race is: elle\n"
     ]
    }
   ],
   "source": [
    "#keyword arguments\n",
    "def ranking(second, third, first) :\n",
    "    print(\"The first to win the race is:\", first)\n",
    "\n",
    "ranking(third=\"dustin\", second=\"mike\", first=\"elle\") #order will not matter"
   ]
  },
  {
   "cell_type": "code",
   "execution_count": 237,
   "id": "80c44079-ac58-41fa-a7ba-8383b517773b",
   "metadata": {},
   "outputs": [
    {
     "name": "stdout",
     "output_type": "stream",
     "text": [
      "The name of students enrolled:  ('Nat', 'Aaditi', 'Rose', 'Sam')\n"
     ]
    }
   ],
   "source": [
    "#Arbitrary arguments *args\n",
    "def stud_num(*stud): # used when number of arguments is not fixed\n",
    "    print(\"The name of students enrolled: \", stud)\n",
    "\n",
    "stud_num(\"Nat\", \"Aaditi\", \"Rose\", \"Sam\")"
   ]
  },
  {
   "cell_type": "code",
   "execution_count": 239,
   "id": "edef7825-8911-43f0-bd95-1ae59bcfbdab",
   "metadata": {},
   "outputs": [
    {
     "name": "stdout",
     "output_type": "stream",
     "text": [
      "The price for mango is:  234\n"
     ]
    }
   ],
   "source": [
    "#Arbitrary keyword arguments *kwargs\n",
    "def fruits(**price):\n",
    "    print(\"The price for mango is: \", price[\"mango\"])\n",
    "\n",
    "fruits(apple=120, grapes=62, berry=322, mango=234)"
   ]
  },
  {
   "cell_type": "code",
   "execution_count": 249,
   "id": "06b1e834-5b2f-4922-a849-ba99357b9634",
   "metadata": {},
   "outputs": [
    {
     "name": "stdout",
     "output_type": "stream",
     "text": [
      "27\n"
     ]
    }
   ],
   "source": [
    "#Lamda functions, anonymous function that can take many arguments but have only one expression\n",
    "x = lambda a, b, c : a * b + c\n",
    "print(x(3,6,9))"
   ]
  },
  {
   "cell_type": "code",
   "execution_count": 5,
   "id": "eb30d578-9e38-484a-bc5d-f41407ca1868",
   "metadata": {},
   "outputs": [
    {
     "name": "stdout",
     "output_type": "stream",
     "text": [
      "1000\n"
     ]
    }
   ],
   "source": [
    "#local scope, can only be used inside the function where it is declared\n",
    "def num():\n",
    "    x = 1000\n",
    "    if x % 2 == 0:\n",
    "        print(x)\n",
    "num()"
   ]
  },
  {
   "cell_type": "code",
   "execution_count": 269,
   "id": "64eded19-31ba-4350-90b4-a479c5cb086d",
   "metadata": {},
   "outputs": [
    {
     "name": "stdout",
     "output_type": "stream",
     "text": [
      "My name is:  Natasha\n",
      "Natasha\n"
     ]
    }
   ],
   "source": [
    "#global scope, can be used both inside and outside the function, is created in the main body\n",
    "n = \"Natasha\"\n",
    "\n",
    "def name():\n",
    "    print(\"My name is: \", n)\n",
    "\n",
    "name()\n",
    "print(n)"
   ]
  },
  {
   "cell_type": "code",
   "execution_count": 277,
   "id": "942076f6-1fef-44b2-8c6e-37d291bf48c9",
   "metadata": {},
   "outputs": [
    {
     "name": "stdout",
     "output_type": "stream",
     "text": [
      "250\n"
     ]
    }
   ],
   "source": [
    "#global keyword\n",
    "x = 500\n",
    "def myfunc():\n",
    "    global x\n",
    "    x = 250\n",
    "\n",
    "myfunc()\n",
    "print(x)"
   ]
  },
  {
   "cell_type": "markdown",
   "id": "65c77fbf-c561-44d6-9262-05af3211ad30",
   "metadata": {},
   "source": [
    "### 6. Basic string and file operations"
   ]
  },
  {
   "cell_type": "code",
   "execution_count": 292,
   "id": "591655e2-83f9-4073-8f67-91d78208dbce",
   "metadata": {},
   "outputs": [
    {
     "name": "stdout",
     "output_type": "stream",
     "text": [
      " hello, my name is  natasha \n",
      " HELLO, MY NAME IS  NATASHA \n",
      "Hello, my name is  Natasha\n",
      " Hello, my name is  Nat \n",
      "[' Hello', ' my name is  Natasha ']\n",
      "True\n"
     ]
    }
   ],
   "source": [
    "#String methods\n",
    "n = \" Hello, my name is  Natasha \"\n",
    "print(n.lower()) #converts in lower case\n",
    "print(n.upper()) #converts in upper case\n",
    "print(n.strip()) #removes all white spaces\n",
    "print(n.replace(\"Natasha\", \"Nat\")) #replaces element with another\n",
    "print(n.split(\",\")) #splits text\n",
    "print(\"natasha\" in n.lower()) #checks if the condition is true"
   ]
  },
  {
   "cell_type": "code",
   "execution_count": 294,
   "id": "6f01674a-0928-4560-82e3-5c4e91c347d1",
   "metadata": {},
   "outputs": [
    {
     "name": "stdout",
     "output_type": "stream",
     "text": [
      "My name is Natasha and I am 19 years old.\n",
      "My name is Natasha and I am 19 years old.\n"
     ]
    }
   ],
   "source": [
    "#String formatting\n",
    "name = \"Natasha\"\n",
    "age = 19\n",
    "\n",
    "print(\"My name is {} and I am {} years old.\".format(name, age))\n",
    "print(f\"My name is {name} and I am {age} years old.\") #f-strings"
   ]
  },
  {
   "cell_type": "code",
   "execution_count": 300,
   "id": "6907e7d6-c096-4da4-a0a3-45134a811b4e",
   "metadata": {},
   "outputs": [],
   "source": [
    "#writing files\n",
    "with open(\"Nat.txt\", \"w\") as file:\n",
    "    file.write(\"Hello everybody!!!\\n\")\n",
    "    file.write(\"My name is Natashaaaa.\")"
   ]
  },
  {
   "cell_type": "code",
   "execution_count": 304,
   "id": "638c459b-e372-4f82-952b-9c36036b75cc",
   "metadata": {},
   "outputs": [
    {
     "name": "stdout",
     "output_type": "stream",
     "text": [
      "Hello everybody!!!\n",
      "My name is Natashaaaa.\n",
      "I live in Lalitpur, Nepal.\n"
     ]
    }
   ],
   "source": [
    "with open(\"Nat.txt\", \"r\") as file:\n",
    "    content = file.read()\n",
    "    print(content)"
   ]
  },
  {
   "cell_type": "code",
   "execution_count": 310,
   "id": "07f93733-0388-4a23-a20d-db5ecb7bf235",
   "metadata": {},
   "outputs": [],
   "source": [
    "with open(\"Nat.txt\", \"a\") as file:\n",
    "    file.write(\"\\nThis line was added/appended.\\n\")"
   ]
  },
  {
   "cell_type": "markdown",
   "id": "57602bf0-f5c8-4519-8128-65d66dcf93b1",
   "metadata": {},
   "source": [
    "### 7. Python intermediate level\n",
    "### Modules and packages"
   ]
  },
  {
   "cell_type": "code",
   "execution_count": 316,
   "id": "983e2b01-e2bf-4090-acb1-17cf31062f5e",
   "metadata": {},
   "outputs": [],
   "source": [
    "import numpy as np\n",
    "import pandas as pd\n",
    "import math\n",
    "import datetime\n",
    "import random\n",
    "import sys\n",
    "import json\n",
    "import requests"
   ]
  },
  {
   "cell_type": "code",
   "execution_count": 320,
   "id": "a5964b01-3b50-4852-af87-a532ccff9006",
   "metadata": {},
   "outputs": [],
   "source": [
    "def eligible(n):\n",
    "    if n > 18:\n",
    "        return \"Eligible\"\n",
    "    else:\n",
    "        return \"Not eligible\""
   ]
  },
  {
   "cell_type": "code",
   "execution_count": null,
   "id": "f7a034b0-615b-4642-8177-9db9a8dace76",
   "metadata": {},
   "outputs": [],
   "source": []
  }
 ],
 "metadata": {
  "kernelspec": {
   "display_name": "Python [conda env:base] *",
   "language": "python",
   "name": "conda-base-py"
  },
  "language_info": {
   "codemirror_mode": {
    "name": "ipython",
    "version": 3
   },
   "file_extension": ".py",
   "mimetype": "text/x-python",
   "name": "python",
   "nbconvert_exporter": "python",
   "pygments_lexer": "ipython3",
   "version": "3.12.7"
  }
 },
 "nbformat": 4,
 "nbformat_minor": 5
}
