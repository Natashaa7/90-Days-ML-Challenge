{
 "cells": [
  {
   "cell_type": "markdown",
   "id": "0a6409b4-37b2-49ea-9551-0845c311bd83",
   "metadata": {},
   "source": [
    "# Advanced Level\n",
    "### 13. Advanced OOP\n",
    "<p>Advanced Object-Oriented Programming (OOP) refers to the deeper and more complex features of oop such as multiple inheritance, MRO, metaclasses, decorators.</p>\n",
    "<p>These concepts help write more modular, reusable, and maintainable code, and are especially useful in large or complex applications.</p>"
   ]
  },
  {
   "cell_type": "markdown",
   "id": "754cfbc9-1d2e-470c-969f-60034c06c113",
   "metadata": {},
   "source": [
    "### Multiple inheritance\n",
    "\n",
    "<p>Defintion: The inheritance where a class can inherit attributes and methods from more than one parent class.</p> \n",
    "<p>When to use: To combine functionality from different classes, when the class logically fits into more than one category/type.</p> \n",
    "<p>Where to use: In applications using mixins (small classes using utility functions) to add timestamp or soft delete behavior.</p> \n",
    "<p>Limitations: ambiguity, complexity, diamond problem.</p>\n",
    "<p>Advantages: code reusability, modularity, flexibilty.</p>\n",
    "<p>Why is it used?: To enable a class to inherit and combine behavior from multiple sources, support modular design, avoid redundant code and promote reuse.</p> "
   ]
  },
  {
   "cell_type": "code",
   "execution_count": 66,
   "id": "557008d9-1757-4c57-bbba-7b3eedf44a07",
   "metadata": {},
   "outputs": [
    {
     "name": "stdout",
     "output_type": "stream",
     "text": [
      "Connected to WiFi\n",
      "Connected to Bluetooth\n"
     ]
    }
   ],
   "source": [
    "class WiFiEnabled:\n",
    "    def connect_wifi(self):\n",
    "        print(\"Connected to WiFi\")\n",
    "\n",
    "class BluetoothEnabled:\n",
    "    def connect_bluetooth(self):\n",
    "        print(\"Connected to Bluetooth\")\n",
    "\n",
    "class SmartSpeaker(WiFiEnabled, BluetoothEnabled):\n",
    "    pass\n",
    "\n",
    "device = SmartSpeaker()\n",
    "device.connect_wifi()       \n",
    "device.connect_bluetooth()  "
   ]
  },
  {
   "cell_type": "markdown",
   "id": "57c8c618-fb0e-4dac-926b-078c740a634f",
   "metadata": {},
   "source": [
    "### MRO (Method Resolution Order)\n",
    "<p>Definition: the order in which Python looks for a method or attribute in a hierarchy of classes when it is called on an object.</p>\n",
    "<p>When to use: Use MRO understanding when dealing with multiple inheritance to know which method will be called.</p>\n",
    "<p>Where to use: MRO is applied in complex class hierarchies, especially where multiple inheritance or mixins are involved.</p>\n",
    "<p>Use case: In a diamond inheritance structure, MRO determines which version of a shared method is executed to avoid ambiguity.</p>\n",
    "<p>Limitations: MRO can be hard to trace and understand in deeply nested or conflicting class hierarchies.</p>\n",
    "<p>Advantages: Advantages: It provides a clear and consistent rule for method lookup, ensuring predictable behavior in inheritance.</p>\n",
    "<p>Why is it Used?: MRO is used to resolve method conflicts and define the order in which classes are searched for methods.</p>"
   ]
  },
  {
   "cell_type": "code",
   "execution_count": 69,
   "id": "ccd39641-38ff-4fb0-8eda-15a7ebf797d3",
   "metadata": {},
   "outputs": [
    {
     "name": "stdout",
     "output_type": "stream",
     "text": [
      "B\n",
      "(<class '__main__.D'>, <class '__main__.B'>, <class '__main__.C'>, <class '__main__.A'>, <class 'object'>)\n"
     ]
    }
   ],
   "source": [
    "class A:\n",
    "    def show(self):\n",
    "        print(\"A\")\n",
    "\n",
    "class B(A):\n",
    "    def show(self):\n",
    "        print(\"B\")\n",
    "\n",
    "class C(A):\n",
    "    def show(self):\n",
    "        print(\"C\")\n",
    "\n",
    "class D(B, C):\n",
    "    pass\n",
    "\n",
    "d = D()\n",
    "d.show()\n",
    "print(D.__mro__)"
   ]
  },
  {
   "cell_type": "markdown",
   "id": "61065b64-7f0f-4e36-9d8e-3abbc54c8535",
   "metadata": {},
   "source": [
    "### Class method\n",
    "<p>Definition: A class method is a method that receives the class (cls) as its first argument and can modify class-level state/attributes.</p>\n",
    "<p>When to Use: Use class methods when you need to create methods that operate on the class itself, not on instances.</p>\n",
    "<p>Where to Use: They are commonly used for factory methods, alternative constructors, or class-wide configuration.</p>\n",
    "<p>Limitations: Class methods can't directly access or modify instance-specific data.</p>\n",
    "<p>Advantages: They allow encapsulating logic related to the class itself and enable flexible object creation.</p>\n",
    "<p>Why is it Used?: It’s used to perform operations that are related to the class rather than any individual instance.</p>"
   ]
  },
  {
   "cell_type": "code",
   "execution_count": 72,
   "id": "e27d71ff-f0e4-4d88-bcb9-becdb1162389",
   "metadata": {},
   "outputs": [
    {
     "name": "stdout",
     "output_type": "stream",
     "text": [
      "Canis\n"
     ]
    }
   ],
   "source": [
    "class Dog:\n",
    "    species = \"Canis\"\n",
    "\n",
    "    @classmethod\n",
    "    def get_species(cls):\n",
    "        return cls.species\n",
    "\n",
    "print(Dog.get_species())  # Canis"
   ]
  },
  {
   "cell_type": "markdown",
   "id": "485e76b1-7b06-4399-8183-ea1880441aec",
   "metadata": {},
   "source": [
    "### Static methods\n",
    "<p>Definition: A static method is a method that doesn’t take self or cls as the first argument and behaves like a regular function inside a class.</p>\n",
    "<p>When to Use: Use static methods when the logic is related to the class contextually but doesn’t need to access class or instance data.</p>\n",
    "<p>Where to Use: They’re ideal for utility functions that help in calculations or formatting but don’t need instance/class access.</p>\n",
    "<p>Use Case: A static method in a Math class might perform basic arithmetic operations like add(x, y).</p>\n",
    "<p>Limitations: Static methods have no access to class or instance variables, limiting their interaction with class internals.</p>\n",
    "<p>Advantages: They keep related functions organized within the class and avoid unnecessary instance or class references.</p>\n",
    "<p>Why is it Used?: Static methods are used to group logically related functions with a class without needing access to the class or its objects.</p>"
   ]
  },
  {
   "cell_type": "code",
   "execution_count": 75,
   "id": "7f7608ea-e9ac-4e47-ae95-591f0e455a1c",
   "metadata": {},
   "outputs": [
    {
     "name": "stdout",
     "output_type": "stream",
     "text": [
      "7\n"
     ]
    }
   ],
   "source": [
    "class Math:\n",
    "    @staticmethod\n",
    "    def add(a, b):\n",
    "        return a + b\n",
    "\n",
    "print(Math.add(3, 4))  # 7"
   ]
  },
  {
   "cell_type": "markdown",
   "id": "57d514ff-ecf4-438f-a58d-07d70e2e6499",
   "metadata": {},
   "source": [
    "### Metaclasses\n",
    "<p>Definition: A metaclass is a class of a class, which defines how classes themselves are created and customized. The classes that generate other classes are defined as metaclasses.</p>\n",
    "<p>When to Use: Use metaclasses when you need to control or modify class creation behavior dynamically.</p>\n",
    "<p>Where to Use: They are used in frameworks, ORMs, and libraries to enforce rules, register classes, or inject methods automatically.</p>\n",
    "<p>Use Case: A metaclass can automatically add or validate attributes when a new class is defined (e.g., ensuring all models have a Meta class).</p>\n",
    "<p>Limitations: Metaclasses are complex and can make code harder to read, maintain, and debug.</p>\n",
    "<p>Advantages: They offer fine-grained control over class behavior, enabling reusable and powerful design patterns.</p>\n",
    "<p>Why is it Used?: Metaclasses are used to customize class creation, enforce constraints, and implement advanced OOP features like auto-registration and code generation.</p>"
   ]
  },
  {
   "cell_type": "code",
   "execution_count": 78,
   "id": "ac9f73ec-ecd5-4796-8393-d683822e4d9c",
   "metadata": {},
   "outputs": [
    {
     "name": "stdout",
     "output_type": "stream",
     "text": [
      "Creating class MyClass\n"
     ]
    }
   ],
   "source": [
    "class MyMeta(type):\n",
    "    def __new__(cls, name, bases, dct):\n",
    "        print(f\"Creating class {name}\")\n",
    "        return super().__new__(cls, name, bases, dct)\n",
    "\n",
    "class MyClass(metaclass=MyMeta):\n",
    "    pass"
   ]
  },
  {
   "cell_type": "markdown",
   "id": "49d57097-9eb7-4a35-8e16-974d01009336",
   "metadata": {},
   "source": [
    "### Properties (@property decorator)\n",
    "<p>Definition: The @property decorator allows you to define methods that can be accessed like attributes, enabling controlled access to private data.</p>\n",
    "<p>When to Use: Use @property when you want to make a method behave like an attribute while still controlling getting, setting, or deleting behavior.</p>\n",
    "<p>Where to Use: Common in encapsulation, data validation, and when you want to expose read-only or computed values as attributes.</p>\n",
    "<p>Limitations: Overusing properties can hide complexity and make debugging harder if they involve heavy computation or side effects.</p>\n",
    "<p>Advantages: They improve code readability, maintain encapsulation, and allow safe attribute access without breaking interface compatibility.</p>\n",
    "<p>Why is it Used?: @property is used to control attribute access transparently while maintaining a clean and intuitive interface.</p>"
   ]
  },
  {
   "cell_type": "code",
   "execution_count": 81,
   "id": "dce8e472-0ff5-47fd-8b0c-8af16278597d",
   "metadata": {},
   "outputs": [
    {
     "name": "stdout",
     "output_type": "stream",
     "text": [
      "78.5\n"
     ]
    }
   ],
   "source": [
    "class Circle:\n",
    "    def __init__(self, radius):\n",
    "        self._radius = radius\n",
    "\n",
    "    @property # converts method into read-only attribute\n",
    "    def area(self):\n",
    "        return 3.14 * self._radius ** 2\n",
    "\n",
    "c = Circle(5)\n",
    "print(c.area)  # No parentheses! Output: 78.5"
   ]
  },
  {
   "cell_type": "markdown",
   "id": "30cd3795-4bc9-4393-8791-c4bd5941afe3",
   "metadata": {},
   "source": [
    "### 14. Concurrency and Parallelism\n",
    "<p>Concurrency is about handling multiple tasks at the same time, potentially interleaving their execution on a single processor.</p> \n",
    "<p>Parallelism is about executing multiple tasks simultaneously on multiple processors or cores.</p>"
   ]
  },
  {
   "cell_type": "markdown",
   "id": "48b53449-6f31-4f16-b774-fa58c8b2f1c6",
   "metadata": {},
   "source": [
    "### Threading\n",
    "<p>Definition: Threading allows concurrent execution of multiple threads (lightweight subprocesses) within a single process to improve responsiveness.</p>\n",
    "<p>When to Use: Use threading when tasks are I/O-bound (like file operations, network calls) and benefit from being performed concurrently.</p>\n",
    "<p>Where to Use: Threading is used in web servers, downloaders, chat applications, and any situation where waiting on I/O would block the program.</p>\n",
    "<p>Limitations: Due to Python's Global Interpreter Lock (GIL), threading doesn’t provide true parallelism for CPU-bound tasks.</p>\n",
    "<p>Advantages: Threading improves application responsiveness, supports concurrent I/O operations, and allows simpler program structure for asynchronous tasks.</p>\n",
    "<p>Why is it Used?: It is used to perform multiple operations concurrently within a single process, enhancing performance for I/O-heavy tasks.</p>"
   ]
  },
  {
   "cell_type": "code",
   "execution_count": 85,
   "id": "c980e9f8-8810-402e-8c9d-e9e51c02e625",
   "metadata": {},
   "outputs": [
    {
     "name": "stdout",
     "output_type": "stream",
     "text": [
      "Running in thread\n"
     ]
    }
   ],
   "source": [
    "import threading\n",
    "\n",
    "def task():\n",
    "    print(\"Running in thread\")\n",
    "\n",
    "t = threading.Thread(target=task)\n",
    "t.start()"
   ]
  },
  {
   "cell_type": "markdown",
   "id": "6bf45ad6-e1fc-4ba3-b204-1f9e2a6fa744",
   "metadata": {},
   "source": [
    "### Multiprocessing\n",
    "<p>Definition: Multiprocessing allows parallel execution of code by running multiple processes, each with its own Python interpreter and memory space.</p>\n",
    "<p>When to Use: Use multiprocessing for CPU-bound tasks that require intensive computation and can benefit from true parallelism.</p>\n",
    "<p>Where to Use: Commonly used in data processing, image rendering, machine learning, and scientific computing where heavy computation is involved.</p>\n",
    "<p>Limitations: It involves higher overhead due to process creation and inter-process communication can be slower than threads.</p>\n",
    "<p>Advantages: Provides true parallelism, bypasses the GIL, and is ideal for maximizing CPU usage on multi-core systems.</p>\n",
    "<p>Why is it Used?: It's used to speed up CPU-intensive tasks by distributing work across multiple processor cores.</p>"
   ]
  },
  {
   "cell_type": "code",
   "execution_count": 88,
   "id": "12b2fb30-54be-431d-9546-8458a951f8eb",
   "metadata": {},
   "outputs": [
    {
     "name": "stdout",
     "output_type": "stream",
     "text": [
      "Running\n"
     ]
    }
   ],
   "source": [
    "import threading, multiprocessing\n",
    "\n",
    "def task():\n",
    "    print(\"Running\")\n",
    "\n",
    "# Thread\n",
    "thread = threading.Thread(target=task)\n",
    "thread.start()\n",
    "\n",
    "# Process\n",
    "process = multiprocessing.Process(target=task)\n",
    "process.start()"
   ]
  },
  {
   "cell_type": "markdown",
   "id": "7dc0c419-7ba5-4d43-8812-f2b702ed6cb7",
   "metadata": {},
   "source": [
    "### Asyncio\n",
    "<p>Definition: asyncio is Python’s library for writing single-threaded, asynchronous code using async and await syntax.</p>\n",
    "<p>When to Use: Use asyncio for highly concurrent I/O-bound tasks where thousands of  operations need to run without blocking the main thread.</p>\n",
    "<p>Where to Use: Common in web scraping, networking, real-time applications, and asynchronous web servers like FastAPI or aiohttp.</p>\n",
    "<p>Limitations: Async code can be hard to debug, requires a different programming style, and doesn’t improve performance for CPU-bound tasks.</p>\n",
    "<p>Advantages: It’s memory-efficient, allows massive concurrency with minimal overhead, and avoids the complexity of threads and locks.</p>\n",
    "<p>Why is it Used?: Asyncio is used to handle many I/O operations concurrently in a non-blocking, efficient manner using a single thread.</p>"
   ]
  },
  {
   "cell_type": "code",
   "execution_count": 91,
   "id": "d150bd6f-6f98-44d7-9f50-192236bf677f",
   "metadata": {},
   "outputs": [
    {
     "name": "stdout",
     "output_type": "stream",
     "text": [
      "Start A\n",
      "Start B\n",
      "Start C\n",
      "End A\n",
      "End B\n",
      "End C\n"
     ]
    }
   ],
   "source": [
    "# async\n",
    "import asyncio\n",
    "\n",
    "async def task(name):\n",
    "    print(f\"Start {name}\")\n",
    "    await asyncio.sleep(1)\n",
    "    print(f\"End {name}\")\n",
    "\n",
    "async def main():\n",
    "    await asyncio.gather(\n",
    "        task(\"A\"),\n",
    "        task(\"B\"),\n",
    "        task(\"C\"),\n",
    "    )\n",
    "\n",
    "await main()"
   ]
  },
  {
   "cell_type": "code",
   "execution_count": 92,
   "id": "8e7f32d2-2dbb-4fa4-a2b8-27a8c00fe816",
   "metadata": {},
   "outputs": [
    {
     "name": "stdout",
     "output_type": "stream",
     "text": [
      "0\n",
      "1\n",
      "2\n"
     ]
    }
   ],
   "source": [
    "# async for\n",
    "import asyncio\n",
    "\n",
    "async def async_gen():\n",
    "    for i in range(3):\n",
    "        await asyncio.sleep(1)\n",
    "        yield i\n",
    "\n",
    "async def main():\n",
    "    async for val in async_gen():\n",
    "        print(val)\n",
    "\n",
    "await main()"
   ]
  },
  {
   "cell_type": "code",
   "execution_count": 95,
   "id": "63e31be0-208d-4228-b597-c2bb47f1168c",
   "metadata": {},
   "outputs": [
    {
     "name": "stdout",
     "output_type": "stream",
     "text": [
      "Requirement already satisfied: aiofiles in /opt/anaconda3/lib/python3.12/site-packages (24.1.0)\n",
      "Hello everybody!!!\n",
      "My name is Natashaaaa.\n",
      "This line was added/appended.\n",
      "\n"
     ]
    }
   ],
   "source": [
    "# async with\n",
    "!pip install aiofiles\n",
    "import aiofiles  # Needs: pip install aiofiles\n",
    "import asyncio\n",
    "\n",
    "async def read_file():\n",
    "    async with aiofiles.open('Nat.txt', mode='r') as f:\n",
    "        content = await f.read()\n",
    "        print(content)\n",
    "\n",
    "await read_file()"
   ]
  },
  {
   "cell_type": "markdown",
   "id": "181fda78-3dbb-48c2-819f-937fef53a46d",
   "metadata": {},
   "source": [
    "### Queues and Synchronisation\n",
    "<p>Definition: Queues and synchronization tools (like Locks, Semaphores) manage safe communication and data access between threads or processes.</p>\n",
    "<p>When to Use: Use them when multiple threads/processes share resources and need to coordinate without causing race conditions.</p>\n",
    "<p>Where to Use: They are used in producer-consumer problems, task scheduling, and thread-safe communication pipelines.</p>\n",
    "<p>Use Case: A thread-safe queue can let one thread produce data and another thread consume it without corrupting shared memory.</p>\n",
    "<p>Limitations: Improper use can lead to deadlocks, resource contention, and complex debugging.</p>\n",
    "<p>Advantages: Ensures safe and predictable behavior in concurrent programs by avoiding data corruption and race conditions.</p>\n",
    "<p>Why is it Used?: Queues and synchronization primitives are used to coordinate concurrent tasks and manage shared resources safely.</p>"
   ]
  },
  {
   "cell_type": "code",
   "execution_count": 98,
   "id": "c11dadf4-abf8-46d5-9ee5-136cdbdbf3c3",
   "metadata": {},
   "outputs": [
    {
     "name": "stdout",
     "output_type": "stream",
     "text": [
      "0\n",
      "1\n",
      "2\n"
     ]
    }
   ],
   "source": [
    "# queue\n",
    "import threading\n",
    "import queue\n",
    "\n",
    "q = queue.Queue()\n",
    "\n",
    "def producer():\n",
    "    for i in range(3):\n",
    "        q.put(i)\n",
    "\n",
    "def consumer():\n",
    "    while not q.empty():\n",
    "        print(q.get())\n",
    "\n",
    "t1 = threading.Thread(target=producer)\n",
    "t2 = threading.Thread(target=consumer)\n",
    "\n",
    "t1.start()\n",
    "t1.join()\n",
    "t2.start()\n",
    "t2.join()"
   ]
  },
  {
   "cell_type": "code",
   "execution_count": 100,
   "id": "1165abc0-5c30-41ba-875b-edebdeb7673d",
   "metadata": {},
   "outputs": [
    {
     "name": "stdout",
     "output_type": "stream",
     "text": [
      "10000\n"
     ]
    }
   ],
   "source": [
    "lock = threading.Lock()\n",
    "count = 0\n",
    "\n",
    "def increment():\n",
    "    global count\n",
    "    for _ in range(1000):\n",
    "        with lock:\n",
    "            count += 1\n",
    "\n",
    "threads = [threading.Thread(target=increment) for _ in range(10)]\n",
    "[t.start() for t in threads]\n",
    "[t.join() for t in threads]\n",
    "\n",
    "print(count)  # Always 10000 with lock"
   ]
  }
 ],
 "metadata": {
  "kernelspec": {
   "display_name": "Python [conda env:base] *",
   "language": "python",
   "name": "conda-base-py"
  },
  "language_info": {
   "codemirror_mode": {
    "name": "ipython",
    "version": 3
   },
   "file_extension": ".py",
   "mimetype": "text/x-python",
   "name": "python",
   "nbconvert_exporter": "python",
   "pygments_lexer": "ipython3",
   "version": "3.12.7"
  }
 },
 "nbformat": 4,
 "nbformat_minor": 5
}
