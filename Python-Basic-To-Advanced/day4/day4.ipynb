{
 "cells": [
  {
   "cell_type": "markdown",
   "id": "c2e9352b-afef-424f-9443-56239333bcae",
   "metadata": {},
   "source": [
    "### 15. Type Hints & Annotations\n",
    "\n",
    "<p>Type hints (also called type annotations) let you declare the expected data types of variables, function parameters, and return values.</p>\n",
    "<p>Helps indicate it expects a certain data type and returns that data type.</p>\n",
    "<p>Where to Use: They are widely used in API design, library development, and any project where clarity and tooling support are important.</p>\n",
    "<p>When to Use: Use type hints to make code more readable, self-documenting, and maintainable, especially in large or collaborative projects.</p>\n",
    "<p>Limitations: Python doesn't enforce types at runtime, so type hints alone won’t prevent type-related bugs without external tools.</p>\n",
    "<p>Advantages: Improves code clarity, enables IDE autocompletion, and helps catch bugs early with static analysis tools.</p>"
   ]
  },
  {
   "cell_type": "code",
   "execution_count": 312,
   "id": "583cfc54-14dd-494d-9dd8-1db15f188131",
   "metadata": {},
   "outputs": [
    {
     "name": "stdout",
     "output_type": "stream",
     "text": [
      "25\n",
      "False\n"
     ]
    }
   ],
   "source": [
    "def greet(name: str) -> str:\n",
    "    return f\"Hello, {name}\"\n",
    "\n",
    "age: int = 25\n",
    "is_admin: bool = False\n",
    "print(age)\n",
    "print(is_admin)"
   ]
  },
  {
   "cell_type": "markdown",
   "id": "e2bbf442-6acb-4c58-ab11-434a62b7e4ab",
   "metadata": {},
   "source": [
    "### Static Type Checking with mypy\n",
    "<p>Definition: mypy is a static type checker for Python that analyzes code with type hints to find type-related errors before runtime.</p>\n",
    "<p>When to Use: Use mypy during development to catch type mismatches early and ensure your code adheres to the declared types.</p>\n",
    "<p>Where to Use: It’s useful in large codebases, production-level software, and typed APIs or SDKs where correctness is critical.</p>\n",
    "<p>Use Case: If a function expects an int but receives a str, mypy will raise an error before the code runs.</p>\n",
    "<p>Limitations: It only checks types statically, so runtime errors from dynamic behavior or incorrect logic may still occur.</p>\n",
    "<p>Advantages: Helps find bugs early, improves code reliability, and integrates well with IDEs and CI pipelines.</p>\n",
    "<p>Why is it Used?: mypy is used to enforce type correctness in Python codebases, improving code safety without sacrificing Python’s flexibility.</p>"
   ]
  },
  {
   "cell_type": "code",
   "execution_count": 315,
   "id": "848cda90-260e-4164-8cca-929f64770153",
   "metadata": {},
   "outputs": [
    {
     "ename": "TypeError",
     "evalue": "can only concatenate str (not \"int\") to str",
     "output_type": "error",
     "traceback": [
      "\u001b[0;31m---------------------------------------------------------------------------\u001b[0m",
      "\u001b[0;31mTypeError\u001b[0m                                 Traceback (most recent call last)",
      "Cell \u001b[0;32mIn[315], line 4\u001b[0m\n\u001b[1;32m      1\u001b[0m \u001b[38;5;28;01mdef\u001b[39;00m \u001b[38;5;21madd\u001b[39m(a: \u001b[38;5;28mint\u001b[39m, b: \u001b[38;5;28mint\u001b[39m) \u001b[38;5;241m-\u001b[39m\u001b[38;5;241m>\u001b[39m \u001b[38;5;28mint\u001b[39m:\n\u001b[1;32m      2\u001b[0m     \u001b[38;5;28;01mreturn\u001b[39;00m a \u001b[38;5;241m+\u001b[39m b\n\u001b[0;32m----> 4\u001b[0m add(\u001b[38;5;124m\"\u001b[39m\u001b[38;5;124m10\u001b[39m\u001b[38;5;124m\"\u001b[39m, \u001b[38;5;241m5\u001b[39m)\n",
      "Cell \u001b[0;32mIn[315], line 2\u001b[0m, in \u001b[0;36madd\u001b[0;34m(a, b)\u001b[0m\n\u001b[1;32m      1\u001b[0m \u001b[38;5;28;01mdef\u001b[39;00m \u001b[38;5;21madd\u001b[39m(a: \u001b[38;5;28mint\u001b[39m, b: \u001b[38;5;28mint\u001b[39m) \u001b[38;5;241m-\u001b[39m\u001b[38;5;241m>\u001b[39m \u001b[38;5;28mint\u001b[39m:\n\u001b[0;32m----> 2\u001b[0m     \u001b[38;5;28;01mreturn\u001b[39;00m a \u001b[38;5;241m+\u001b[39m b\n",
      "\u001b[0;31mTypeError\u001b[0m: can only concatenate str (not \"int\") to str"
     ]
    }
   ],
   "source": [
    "def add(a: int, b: int) -> int:\n",
    "    return a + b\n",
    "\n",
    "add(\"10\", 5)  # ❌ Error: str and int"
   ]
  },
  {
   "cell_type": "markdown",
   "id": "721f9e0b-fe0e-4526-92b4-93cd0756d5e9",
   "metadata": {},
   "source": [
    "### Using typing module (List, Dict, Union, Optional, etc.)\n",
    "<p>The typing module provides type hinting tools like List, Dict, Union, and Optional to declare more complex data types in Python.</p>\n",
    "<p>When to Use: Use the typing module when you want to explicitly define the structure of collections or support multiple possible types in type annotations.</p>\n",
    "<p>Where to Use: Commonly used in function definitions, APIs, and data models where inputs/outputs involve lists, dictionaries, or nullable/variant types.</p>\n",
    "<p>Use Case: A function signature like def get_user(id: int) -> Optional[Dict[str, str]]: clearly indicates that it may return a dictionary or None.</p>\n",
    "<p>Limitations: Using complex types can make function signatures harder to read, and not all types are checked at runtime without tools like mypy.</p>\n",
    "<p>Advantages: Enhances code clarity, improves static type checking, and helps IDEs offer better autocompletion and error detection.</p>\n",
    "<p>Why is it Used?: It is used to describe complex data structures and enable type-aware tools to analyze and assist in writing correct code.</p>"
   ]
  },
  {
   "cell_type": "code",
   "execution_count": 318,
   "id": "3ef0f4ba-7313-4f06-b059-01496dc440ba",
   "metadata": {},
   "outputs": [],
   "source": [
    "# importing List, Dict, Tuple, Union, Optional, Any\n",
    "from typing import List, Dict, Tuple, Union, Optional, Any"
   ]
  },
  {
   "cell_type": "code",
   "execution_count": 320,
   "id": "14a47c74-6410-436e-a9c5-268fb9bb4e90",
   "metadata": {},
   "outputs": [],
   "source": [
    "# List\n",
    "numbers: List[int] = [1, 2, 3]\n",
    "names: List[str] = [\"Alice\", \"Bob\"]"
   ]
  },
  {
   "cell_type": "code",
   "execution_count": 322,
   "id": "e6a58349-b654-4a33-9de6-e37b0d985150",
   "metadata": {},
   "outputs": [],
   "source": [
    "# Dictionary\n",
    "grades: Dict[str, int] = {\n",
    "    \"Math\": 90,\n",
    "    \"Science\": 85\n",
    "}"
   ]
  },
  {
   "cell_type": "code",
   "execution_count": 324,
   "id": "9ba2d9ae-0dab-46e2-8696-01468334a9db",
   "metadata": {},
   "outputs": [],
   "source": [
    "# Tuple\n",
    "coordinates: Tuple[float, float] = (27.7, 85.3)"
   ]
  },
  {
   "cell_type": "code",
   "execution_count": 326,
   "id": "0304bd60-38c3-43cf-a5bf-bbfe6ab68020",
   "metadata": {},
   "outputs": [],
   "source": [
    "# Union\n",
    "def get_id(user: Union[int, str]) -> str:\n",
    "    return f\"ID: {user}\""
   ]
  },
  {
   "cell_type": "code",
   "execution_count": 328,
   "id": "42781108-f987-404b-b341-a79854ea0c08",
   "metadata": {},
   "outputs": [],
   "source": [
    "# Optional\n",
    "def greet(name: Optional[str]) -> None:\n",
    "    if name:\n",
    "        print(f\"Hello, {name}\")\n",
    "    else:\n",
    "        print(\"Hello, guest\")"
   ]
  },
  {
   "cell_type": "code",
   "execution_count": 330,
   "id": "956f36a2-8861-465e-9d02-1b94c5359c2b",
   "metadata": {},
   "outputs": [],
   "source": [
    "# Any\n",
    "def log(message: Any) -> None:\n",
    "    print(\"LOG:\", message)"
   ]
  },
  {
   "cell_type": "code",
   "execution_count": 332,
   "id": "7b6f4493-e208-4661-97a2-90ef814fc5ec",
   "metadata": {},
   "outputs": [],
   "source": [
    "# Callable\n",
    "def run(callback: Callable[[int], str]) -> str:\n",
    "    return callback(42)"
   ]
  },
  {
   "cell_type": "markdown",
   "id": "41e8adb5-ba1f-4941-9e87-2b77566fd9b1",
   "metadata": {},
   "source": [
    "### Dataclasses\n",
    "\n",
    "<p>Definition: A dataclass is a Python class automatically equipped with special methods like __init__, __repr__, and __eq__, using the @dataclass decorator to reduce boilerplate code.</p>\n",
    "<p>When to Use: Use dataclasses when you need a simple class to store and manage data without writing repetitive code.</p>\n",
    "<p>Where to Use: Commonly used in configuration objects, data models, serialization, and any scenario where you manage structured data.</p>\n",
    "<p>Use Case: You can define a user with @dataclass as class User: name: str; age: int, and it automatically gets an initializer and a readable string representation.</p>\n",
    "<p>Limitations: Dataclasses offer limited customization compared to full classes and are best for simple, flat structures (not complex inheritance).</p>\n",
    "<p>Advantages: They simplify code, improve readability, and eliminate boilerplate when creating data-holding classes.</p>\n",
    "<p>Why is it Used?: Dataclasses are used to quickly define clean and efficient data containers with minimal effort and clear syntax.</p>"
   ]
  },
  {
   "cell_type": "code",
   "execution_count": 335,
   "id": "a94cf269-f7be-45fc-90bc-35594f0e3b1e",
   "metadata": {},
   "outputs": [
    {
     "name": "stdout",
     "output_type": "stream",
     "text": [
      "Course Title: Python Basics\n",
      "Instructor: Nat\n",
      "Students: ['Madam', 'Sam', 'Rose']\n",
      "Resources: {'slides': 'link1', 'repo': 'link2'}\n",
      "Auto-generated __repr__: Course(title='Python Basics', instructor='Nat', age=19, enrolled_students=['Madam', 'Sam', 'Rose'], resources={'slides': 'link1', 'repo': 'link2'})\n"
     ]
    }
   ],
   "source": [
    "from dataclasses import dataclass, field\n",
    "from typing import List, Dict, Optional\n",
    "\n",
    "@dataclass\n",
    "class Course:\n",
    "    title: str\n",
    "    instructor: str\n",
    "    age: int\n",
    "    enrolled_students: List[str] = field(default_factory=list) # for mutable types like lists or dicts\n",
    "    resources: Optional[Dict[str, str]] = None\n",
    "\n",
    "course = Course(\n",
    "    title=\"Python Basics\",\n",
    "    instructor=\"Nat\",\n",
    "    age=19,\n",
    "    enrolled_students=[\"Madam\", \"Sam\", \"Rose\"],\n",
    "    resources={\"slides\": \"link1\", \"repo\": \"link2\"}\n",
    ")\n",
    "\n",
    "print(\"Course Title:\", course.title)\n",
    "print(\"Instructor:\", course.instructor)\n",
    "print(\"Students:\", course.enrolled_students)\n",
    "print(\"Resources:\", course.resources)\n",
    "print(\"Auto-generated __repr__:\", course)"
   ]
  },
  {
   "cell_type": "markdown",
   "id": "93c9e4ba-f103-44ab-852b-b82a9eef87af",
   "metadata": {},
   "source": [
    "### 16. Testing and debugging\n",
    "<p>Testing verifies and validates that a software or application is bug-free, meets technical requirements, and effectively handles exceptional and boundary cases to meet user requirements.</p>\n",
    "<p>Debugging is the process of fixing a bug in the software. It can be defined as identifying, analyzing, and removing errors.</p>"
   ]
  },
  {
   "cell_type": "markdown",
   "id": "5a62629e-2e20-4a98-a4ad-2980a405ebdb",
   "metadata": {},
   "source": [
    "### unittest\n",
    "<p>When to Use:\n",
    "Use unittest when you need a structured, standard approach to writing test cases in Python, especially for larger projects.</p>\n",
    "<p>Where to Use: Widely used in enterprise applications, libraries, and where standard library-only testing is preferred.</p>\n",
    "<p>Use Case: You can test a function by writing a class that inherits from unittest.TestCase and defining methods like test_addition(self).</p>\n",
    "<p>Limitations: Verbose syntax and less readable output compared to modern alternatives like pytest.</p>\n",
    "<p>Advantages: It’s built-in, requires no external installation, and supports test discovery and fixtures.</p>\n",
    "<p>Why is it Used?: Used for unit-level testing to ensure individual components work as expected in a structured, reusable format.</p>"
   ]
  },
  {
   "cell_type": "code",
   "execution_count": 339,
   "id": "35caada3-e074-49ce-b3d1-9d6dc0443fca",
   "metadata": {},
   "outputs": [
    {
     "name": "stderr",
     "output_type": "stream",
     "text": [
      ".\n",
      "----------------------------------------------------------------------\n",
      "Ran 1 test in 0.002s\n",
      "\n",
      "OK\n"
     ]
    }
   ],
   "source": [
    "import unittest\n",
    "\n",
    "def add(a, b):\n",
    "    return a + b\n",
    "\n",
    "class TestMath(unittest.TestCase):\n",
    "\n",
    "    def test_add(self):\n",
    "        self.assertEqual(add(2, 3), 5)\n",
    "        self.assertNotEqual(add(2, 2), 5)\n",
    "\n",
    "if __name__ == \"__main__\":\n",
    "    unittest.TextTestRunner().run(unittest.TestLoader().loadTestsFromTestCase(TestMath))"
   ]
  },
  {
   "cell_type": "markdown",
   "id": "c5a01245-405c-47fb-9caf-c402f9f12058",
   "metadata": {},
   "source": [
    "### pytest\n",
    "<p>Definition: pytest is a third-party Python testing framework that makes writing simple and scalable test cases easy with concise syntax and rich features.</p>\n",
    "<p>When to Use: Use pytest when you want to write tests quickly and clearly, and take advantage of advanced features like fixtures, parameterization, and plugins.</p>\n",
    "<p>Where to Use: Commonly used in modern development workflows, open-source projects, and CI/CD pipelines.</p>\n",
    "<p>Use Case: With pytest, you can test functions using plain assert statements, like assert add(2, 3) == 5.</p>\n",
    "<p>Limitations: Requires external installation, and the flexibility can lead to inconsistencies without good conventions.</p>\n",
    "<p>Advantages: It’s simple, powerful, supports rich plugins, and provides detailed error output.</p>\n",
    "<p></p>"
   ]
  },
  {
   "cell_type": "code",
   "execution_count": 342,
   "id": "63b0fd70-8aa9-4e7b-971a-ba2a936d30d7",
   "metadata": {},
   "outputs": [
    {
     "name": "stdout",
     "output_type": "stream",
     "text": [
      "\u001b[1m============================= test session starts ==============================\u001b[0m\n",
      "platform darwin -- Python 3.12.7, pytest-7.4.4, pluggy-1.0.0\n",
      "rootdir: /Users/natashababu/Documents/internship/week 1\n",
      "plugins: anyio-4.2.0\n",
      "collected 1 item                                                               \u001b[0m\n",
      "\n",
      "test.py \u001b[32m.\u001b[0m\u001b[32m                                                                [100%]\u001b[0m\n",
      "\n",
      "\u001b[32m============================== \u001b[32m\u001b[1m1 passed\u001b[0m\u001b[32m in 0.01s\u001b[0m\u001b[32m ===============================\u001b[0m\n"
     ]
    }
   ],
   "source": [
    "# Write to a .py file\n",
    "with open(\"test.py\", \"w\") as f:\n",
    "    f.write('''\n",
    "def add(a, b):\n",
    "    return a + b\n",
    "\n",
    "def test_add():\n",
    "    assert add(1, 2) == 3\n",
    "    assert add(-1, 1) == 0\n",
    "''')\n",
    "!pytest test.py"
   ]
  },
  {
   "cell_type": "markdown",
   "id": "e944e016-33bd-4052-8b05-940de779f15c",
   "metadata": {},
   "source": [
    "### Mocking\n",
    "<p>Definition: Mocking is a technique where you replace parts of your system under test with mock objects to simulate behavior and isolate dependencies.</p>\n",
    "<p>When to Use: Use mocking when you need to test code that interacts with external systems, like databases, APIs, file systems, or time-based functions.</p>\n",
    "<p>Where to Use: Widely used in unit tests to avoid calling real external resources and to simulate edge cases or failures.</p>\n",
    "<p>Use Case: You can mock an API call using unittest.mock so your test runs offline and returns predefined data.</p>\n",
    "<p>Limitations: Excessive mocking can make tests less realistic, hard to maintain, and can hide integration issues.</p>\n",
    "<p>Advantages: It helps write faster, isolated, and reliable unit tests by eliminating unpredictable external behavior.</p>\n",
    "<p>Why is it Used?: Mocking is used to control dependencies and test in isolation, ensuring your logic is correct without relying on real external systems.</p>"
   ]
  },
  {
   "cell_type": "code",
   "execution_count": 345,
   "id": "0c376066-d9a5-4405-8059-ec53cc5da0e7",
   "metadata": {},
   "outputs": [
    {
     "name": "stdout",
     "output_type": "stream",
     "text": [
      "rainy\n"
     ]
    }
   ],
   "source": [
    "from unittest.mock import Mock\n",
    "\n",
    "# Fake API function\n",
    "def get_weather():\n",
    "    return \"sunny\"\n",
    "\n",
    "# Test function using mock\n",
    "weather = Mock(return_value=\"rainy\")\n",
    "print(weather())  # Output: rainy"
   ]
  },
  {
   "cell_type": "markdown",
   "id": "579f04e3-a7cf-4507-b489-8a06a5b7310e",
   "metadata": {},
   "source": [
    "### Assert statements\n",
    "<p>Definition:\n",
    "An assert statement checks whether a condition is True, and raises an AssertionError if it's not, making it a simple way to validate expectations in code and tests.</p>\n",
    "<p>When to Use: Use assert statements in unit tests to confirm that your code behaves as expected by comparing actual and expected results.</p>\n",
    "<p>Where to Use: Common in both built-in tests (unittest) and third-party frameworks (like pytest) for checking return values, exceptions, and conditions.</p>\n",
    "<p>Use Case: assert add(2, 3) == 5 ensures the add() function returns the correct result.</p>\n",
    "<p>Limitations: Assertions stop at the first failure, and careless use may lead to unhelpful error messages without context.</p>\n",
    "<p>Advantages: They are concise, readable, and work well with static and dynamic testing tools.</p>\n",
    "<p>Why is it Used?: Assert statements are used to verify correctness of code during development and testing by automatically flagging unexpected behavior.</p>"
   ]
  },
  {
   "cell_type": "code",
   "execution_count": 348,
   "id": "dada378b-92f4-43b2-aeff-00d4e6fe4be2",
   "metadata": {},
   "outputs": [
    {
     "name": "stdout",
     "output_type": "stream",
     "text": [
      "All tests passed!\n"
     ]
    }
   ],
   "source": [
    "def add(a, b):\n",
    "    return a + b\n",
    "\n",
    "# Test cases using assert\n",
    "assert add(1, 2) == 3\n",
    "assert add(-1, 1) == 0\n",
    "assert add(0, 0) == 0\n",
    "assert add(100, 200) == 300\n",
    "assert add(-5, -7) == -12\n",
    "\n",
    "print(\"All tests passed!\")"
   ]
  },
  {
   "cell_type": "markdown",
   "id": "035be82e-5045-4c75-85ab-dbbff90c5658",
   "metadata": {},
   "source": [
    "### Logging (logging)\n",
    "<p>Definition:\n",
    "The logging module lets you record messages from your program at different severity levels (DEBUG, INFO, WARNING, ERROR, CRITICAL) to track execution and diagnose problems.</p>\n",
    "<p>When to Use: Use logging when you want to monitor or trace program behavior without stopping execution—especially in production code.</p>\n",
    "<p>Where to Use: Used in applications, scripts, APIs, and services where real-time insight into internal states and errors is needed.</p>\n",
    "<p>Use Case: logging.warning(\"Invalid user input!\") records a warning message to the log file or console.</p>\n",
    "<p>Limitations: Overusing or misconfiguring logging can lead to performance issues and cluttered log files.</p>\n",
    "<p>Advantages: Enables non-intrusive debugging, persistent logs, and adjustable verbosity using logging levels.\n",
    "</p>\n",
    "<p>Why is it Used?: Logging is used to track events and troubleshoot errors without interrupting program flow, especially in long-running or critical systems.</p>"
   ]
  },
  {
   "cell_type": "code",
   "execution_count": 351,
   "id": "0d269846-dfaa-4643-bd8e-a06fedb505d6",
   "metadata": {},
   "outputs": [
    {
     "name": "stderr",
     "output_type": "stream",
     "text": [
      "INFO:root:The value of x is 42\n"
     ]
    }
   ],
   "source": [
    "import logging\n",
    "\n",
    "logging.basicConfig(level=logging.INFO)\n",
    "\n",
    "x = 42\n",
    "logging.info(f\"The value of x is {x}\")"
   ]
  },
  {
   "cell_type": "markdown",
   "id": "bf6a719d-0c40-4d8d-a977-b9a565530ff8",
   "metadata": {},
   "source": [
    "### debugging (pdb)\n",
    "<p>Definition:\n",
    "pdb is Python’s built-in interactive debugger that allows you to pause program execution, inspect variables, and step through code line by line.</p>\n",
    "<p>When to Use: Use pdb when you need to closely examine runtime behavior, especially for unexpected bugs or logic errors.</p>\n",
    "<p>Where to Use: Useful during development or debugging sessions, especially in scripts or while exploring unfamiliar code.</p>\n",
    "<p>Use Case: Insert import pdb; pdb.set_trace() to pause execution and enter an interactive debugging session.</p>\n",
    "<p>Limitations: It’s manual, and not ideal for large-scale applications or non-terminal environments.</p>\n",
    "<p>Advantages: Offers fine-grained control over execution, lets you inspect and modify program state in real-time.</p>\n",
    "<p>Why is it Used?: pdb is used to debug interactively, providing a hands-on way to find and fix logical or runtime issues.</p>"
   ]
  },
  {
   "cell_type": "code",
   "execution_count": 354,
   "id": "b6a2849e-e539-4a46-b0a0-7c8b7d83c570",
   "metadata": {},
   "outputs": [
    {
     "name": "stdout",
     "output_type": "stream",
     "text": [
      "--Return--\n",
      "None\n",
      "> \u001b[0;32m/var/folders/27/22jm3g7n11183w1td1pll88m0000gn/T/ipykernel_3835/2585434092.py\u001b[0m(6)\u001b[0;36m<module>\u001b[0;34m()\u001b[0m\n",
      "\u001b[0;32m      4 \u001b[0;31m\u001b[0mb\u001b[0m \u001b[0;34m=\u001b[0m \u001b[0;36m5\u001b[0m\u001b[0;34m\u001b[0m\u001b[0;34m\u001b[0m\u001b[0m\n",
      "\u001b[0m\u001b[0;32m      5 \u001b[0;31m\u001b[0;34m\u001b[0m\u001b[0m\n",
      "\u001b[0m\u001b[0;32m----> 6 \u001b[0;31m\u001b[0mpdb\u001b[0m\u001b[0;34m.\u001b[0m\u001b[0mset_trace\u001b[0m\u001b[0;34m(\u001b[0m\u001b[0;34m)\u001b[0m  \u001b[0;31m# ← This line pauses execution. You can inspect vars.\u001b[0m\u001b[0;34m\u001b[0m\u001b[0;34m\u001b[0m\u001b[0m\n",
      "\u001b[0m\u001b[0;32m      7 \u001b[0;31m\u001b[0;34m\u001b[0m\u001b[0m\n",
      "\u001b[0m\u001b[0;32m      8 \u001b[0;31m\u001b[0mc\u001b[0m \u001b[0;34m=\u001b[0m \u001b[0ma\u001b[0m \u001b[0;34m+\u001b[0m \u001b[0mb\u001b[0m\u001b[0;34m\u001b[0m\u001b[0;34m\u001b[0m\u001b[0m\n",
      "\u001b[0m\n"
     ]
    },
    {
     "name": "stdin",
     "output_type": "stream",
     "text": [
      "ipdb>  5\n"
     ]
    },
    {
     "name": "stdout",
     "output_type": "stream",
     "text": [
      "5\n"
     ]
    },
    {
     "name": "stdin",
     "output_type": "stream",
     "text": [
      "ipdb>  10\n"
     ]
    },
    {
     "name": "stdout",
     "output_type": "stream",
     "text": [
      "10\n"
     ]
    },
    {
     "name": "stdin",
     "output_type": "stream",
     "text": [
      "ipdb>  name\n"
     ]
    },
    {
     "name": "stdout",
     "output_type": "stream",
     "text": [
      "*** NameError: name 'name' is not defined\n"
     ]
    },
    {
     "name": "stdin",
     "output_type": "stream",
     "text": [
      "ipdb>  q\n"
     ]
    }
   ],
   "source": [
    "import pdb\n",
    "\n",
    "a = 10\n",
    "b = 5\n",
    "\n",
    "pdb.set_trace()  # ← This line pauses execution. You can inspect vars.\n",
    "\n",
    "c = a + b\n",
    "print(c)"
   ]
  },
  {
   "cell_type": "markdown",
   "id": "74d752f2-fa6e-4575-b2c1-61e57719fcc7",
   "metadata": {
    "jp-MarkdownHeadingCollapsed": true
   },
   "source": [
    "### 17. Regular Expressions\n",
    "<p>Regular expressions are powerful tools for searching, matching, and manipulating text patterns. Python provides the re module to work with RegEx.</p>"
   ]
  },
  {
   "cell_type": "markdown",
   "id": "96a590d0-b671-4008-befc-dafc5819677e",
   "metadata": {},
   "source": [
    "### re module\n",
    "<p>The re module in Python provides support for regular expressions, allowing you to search, match, and manipulate strings using pattern-based rules.</p>\n",
    "<p>When to Use: Use regular expressions when you need to validate, extract, or transform text based on patterns (e.g., emails, phone numbers, tokens).</p>\n",
    "<p>Where to Use: They are commonly used in text parsing, log analysis, form validation, web scraping, and data cleaning.</p>\n",
    "<p>Use Case: For eg. you can use re.findall(r'\\d+', text) to extract all numbers from a string.</p>\n",
    "<p>Limitations: Regex patterns can be hard to read, debug, and maintain, especially for complex cases.</p>\n",
    "<p>Advantages: They are powerful and concise tools for advanced string matching and manipulation with minimal code.</p>\n",
    "<p> Why is it Used?: Regular expressions are used to efficiently process and analyze text using patterns that define what to match.</p>"
   ]
  },
  {
   "cell_type": "code",
   "execution_count": 358,
   "id": "ce95a24a-c5e9-4d93-ae0d-e263d92000a7",
   "metadata": {},
   "outputs": [
    {
     "name": "stdout",
     "output_type": "stream",
     "text": [
      "['977', '9832323749', '23']\n"
     ]
    }
   ],
   "source": [
    "# re module\n",
    "import re\n",
    "\n",
    "text = \"My phone number is +977 9832323749 and age is 23\"\n",
    "\n",
    "# Find all numbers\n",
    "numbers = re.findall(r'\\d+', text)\n",
    "print(numbers)  "
   ]
  },
  {
   "cell_type": "markdown",
   "id": "1a79332a-0591-40a8-ac5c-48acde2bac3c",
   "metadata": {},
   "source": [
    "### Pattern matching\n",
    "<p>Definition: Pattern matching refers to checking if a string conforms to a specific sequence of characters or structure, using regular expressions.\n",
    "<p>When to Use: Use it to validate inputs, recognize tokens, or ensure strings follow specific formats (e.g., email, phone number).</p>\n",
    "<p>Where to Use: Common in form validation, syntax checking, and lexical analysis.</p>\n",
    "<p>Use Case: A regex like r'^[a-zA-Z0-9_]+$' ensures a username only contains letters, digits, and underscores.</p>\n",
    "<p>Limitations: Complex patterns can be hard to write and maintain, and overmatching may occur without careful design.</p>\n",
    "<p>Advantages: Allows for powerful and flexible string validation using concise patterns.</p>\n",
    "<p>Why is it Used?: It’s used to check if a string fits a defined structure or rule.</p></p>"
   ]
  },
  {
   "cell_type": "code",
   "execution_count": 361,
   "id": "cd6ed2b0-b98e-40f5-a1d0-63198237d21d",
   "metadata": {},
   "outputs": [
    {
     "name": "stdout",
     "output_type": "stream",
     "text": [
      "Valid\n"
     ]
    }
   ],
   "source": [
    "# re.match()\n",
    "phone = \"9841-234-567\"\n",
    "pattern = r\"^\\d{4}-\\d{3}-\\d{3}$\"\n",
    "\n",
    "if re.match(pattern, phone):\n",
    "    print(\"Valid\")\n",
    "else:\n",
    "    print(\"Invalid\")"
   ]
  },
  {
   "cell_type": "code",
   "execution_count": 363,
   "id": "61467115-038b-419a-90f7-fe430a5d23e3",
   "metadata": {},
   "outputs": [
    {
     "name": "stdout",
     "output_type": "stream",
     "text": [
      "True\n"
     ]
    }
   ],
   "source": [
    "# re.fullmatch()\n",
    "text = \"abc123\"\n",
    "match = re.fullmatch(r\"\\w+\", text)\n",
    "print(bool(match))  # True"
   ]
  },
  {
   "cell_type": "markdown",
   "id": "20e3d139-b16f-4f38-9c0c-ad31bc0a576b",
   "metadata": {},
   "source": [
    "### Search\n",
    "<p>Definition: Search refers to finding a pattern’s location in a string using functions like re.search().</p>\n",
    "<p>When to Use: Use search when you want to detect or locate a pattern anywhere in a string.</p>\n",
    "<p>Where to Use: Used in log scanning, text parsing, and keyword detection.</p>\n",
    "<p>Use Case: re.search(r'error', line) checks if the word “error” appears in a log line.</p>\n",
    "<p>Limitations: Only finds the first match, not all (use re.findall() if needed).</p>\n",
    "<p>Advantages: Easy way to confirm or find the presence of a pattern.</p>\n",
    "<p>Why is it Used?: It’s used to locate specific patterns in a string for further processing.</p>"
   ]
  },
  {
   "cell_type": "code",
   "execution_count": 366,
   "id": "90485dc1-60a9-4ac2-880a-eec4baa9c8e0",
   "metadata": {},
   "outputs": [
    {
     "name": "stdout",
     "output_type": "stream",
     "text": [
      "abc@gmail.com\n"
     ]
    }
   ],
   "source": [
    "# re.search()\n",
    "text = \"Contact: abc@gmail.com , admin@example.com\"\n",
    "found = re.search(r\"\\S+@\\S+\\.\\S+\", text)\n",
    "print(found.group())  "
   ]
  },
  {
   "cell_type": "code",
   "execution_count": 368,
   "id": "38557357-fbf8-4b05-8e89-b03bb5aead5a",
   "metadata": {},
   "outputs": [
    {
     "name": "stdout",
     "output_type": "stream",
     "text": [
      "$10\n",
      "$20\n",
      "$30\n"
     ]
    }
   ],
   "source": [
    "# re.finditer()\n",
    "text = \"Price: $10, $20, $30\"\n",
    "for match in re.finditer(r\"\\$\\d+\", text):\n",
    "    print(match.group())"
   ]
  },
  {
   "cell_type": "markdown",
   "id": "7d810cea-4b04-4a73-a8c7-889cebd7be68",
   "metadata": {},
   "source": [
    "### Replace\n",
    "<p>Definition:\n",
    "Replace means substituting matched parts of a string with new content using re.sub().</p>\n",
    "<p>When to Use: Use it to clean, mask, anonymize, or reformat strings based on matched patterns.</p>\n",
    "<p>Where to Use: Useful in data cleaning, content filtering, template rendering, and text transformation.</p>\n",
    "<p>Use Case: re.sub(r'\\d{4}', '****', 'Card: 1234-5678') masks sensitive digits.</p>\n",
    "<p>Limitations: Complex replacements may require custom logic or callback functions.</p>\n",
    "<p>Advantages: Offers dynamic and flexible ways to modify string content efficiently.</p>\n",
    "<p>Why is it Used?: It’s used to transform strings by replacing matched patterns with new values.</p>"
   ]
  },
  {
   "cell_type": "code",
   "execution_count": 371,
   "id": "ac9329fe-8c6d-49ef-956f-5f676a2e2cf6",
   "metadata": {},
   "outputs": [
    {
     "name": "stdout",
     "output_type": "stream",
     "text": [
      "Today is 2025/08/07\n"
     ]
    }
   ],
   "source": [
    "#re.sub(pattern, placement, string)\n",
    "text = \"Today is 07-08-2025\"\n",
    "new_text = re.sub(r\"(\\d{2})-(\\d{2})-(\\d{4})\", r\"\\3/\\2/\\1\", text)\n",
    "print(new_text)  # Today is 2025/08/07"
   ]
  },
  {
   "cell_type": "code",
   "execution_count": 373,
   "id": "4d30ee96-c1eb-4c01-918e-d5d36f2d39d7",
   "metadata": {},
   "outputs": [
    {
     "name": "stdout",
     "output_type": "stream",
     "text": [
      "******* should be censored\n"
     ]
    }
   ],
   "source": [
    "def censor(match):\n",
    "    return \"*\" * len(match.group())\n",
    "\n",
    "text = \"badword should be censored\"\n",
    "print(re.sub(r\"badword\", censor, text))  # ******* should be censored"
   ]
  },
  {
   "cell_type": "markdown",
   "id": "42af1e4e-98d9-4382-9273-286116d2fd28",
   "metadata": {},
   "source": [
    "### Groups and capturing\n",
    "<p>Definition: Groups in regular expressions allow you to extract specific parts of a matched string using parentheses () which create capturing groups.</p>\n",
    "<p>When to Use: Use capturing groups when you want to pull out substrings that match a specific part of the pattern.</p>\n",
    "<p>Where to Use: Commonly used in data extraction, parsing structured strings, or reformatting matched patterns.</p>\n",
    "<p>Use Case: re.match(r'(\\d{4})-(\\d{2})-(\\d{2})', '2025-08-07') captures year, month, and day as separate groups.</p>\n",
    "<p>Limitations: Group numbering can get confusing in nested or complex expressions, and overlapping matches aren’t captured.</p>\n",
    "<p>Advantages: Capturing groups make it easy to break down complex strings into usable parts without extra string manipulation.</p>\n",
    "<p>Why is it Used?: It’s used to extract and reuse specific matched parts of a string in processing or replacement.</p>"
   ]
  },
  {
   "cell_type": "code",
   "execution_count": 376,
   "id": "f7a9da28-bf4e-4cdb-9ef8-9ffd0a2813f5",
   "metadata": {},
   "outputs": [
    {
     "name": "stdout",
     "output_type": "stream",
     "text": [
      "key\n",
      "value\n",
      "Natasha\n",
      "2025\n"
     ]
    }
   ],
   "source": [
    "# basic grouping\n",
    "text = \"key:value:Natasha\"\n",
    "pattern = r\"(\\w+):(\\w+):(\\w+)\"  # Three capturing groups\n",
    "match = re.search(pattern, text)\n",
    "match2 = re.match(r'(\\d{4})-(\\d{2})-(\\d{2})', '2025-08-07')\n",
    "\n",
    "if match:\n",
    "    print(match.group(1))  # key\n",
    "    print(match.group(2))  # value\n",
    "    print(match.group(3)) # Natasha\n",
    "print(match2.group(1))"
   ]
  },
  {
   "cell_type": "code",
   "execution_count": 378,
   "id": "6ff0b14f-7b9f-4876-99bd-2c99b2b4e1e0",
   "metadata": {},
   "outputs": [
    {
     "name": "stdout",
     "output_type": "stream",
     "text": [
      "last first\n"
     ]
    }
   ],
   "source": [
    "# using backreferences in replacement\n",
    "text = \"first-last\"\n",
    "pattern = r\"(\\w+)-(\\w+)\"\n",
    "replacement = r\"\\2 \\1\"  # Swap first and last\n",
    "\n",
    "new = re.sub(pattern, replacement, text)\n",
    "print(new)  # Output: last first"
   ]
  },
  {
   "cell_type": "code",
   "execution_count": 380,
   "id": "32bca1b9-2317-4bcf-bfe4-19356eb72df4",
   "metadata": {},
   "outputs": [
    {
     "name": "stdout",
     "output_type": "stream",
     "text": [
      "Smith\n"
     ]
    }
   ],
   "source": [
    "# non-capturing group\n",
    "pattern = r\"(?:Mr|Ms)\\. (\\w+)\"\n",
    "text = \"Ms. Smith\"\n",
    "match = re.search(pattern, text)\n",
    "\n",
    "print(match.group(1))  # Smith"
   ]
  },
  {
   "cell_type": "code",
   "execution_count": 382,
   "id": "a83251b0-a7a9-407a-bb8e-a65ee037e0d0",
   "metadata": {},
   "outputs": [
    {
     "name": "stdout",
     "output_type": "stream",
     "text": [
      "Natasha\n",
      "Babu\n"
     ]
    }
   ],
   "source": [
    "# named groups\n",
    "pattern = r\"(?P<first>\\w+)-(?P<last>\\w+)\"\n",
    "text = \"Natasha-Babu\"\n",
    "match = re.search(pattern, text)\n",
    "\n",
    "print(match.group(\"first\"))  \n",
    "print(match.group(\"last\"))   "
   ]
  }
 ],
 "metadata": {
  "kernelspec": {
   "display_name": "Python [conda env:base] *",
   "language": "python",
   "name": "conda-base-py"
  },
  "language_info": {
   "codemirror_mode": {
    "name": "ipython",
    "version": 3
   },
   "file_extension": ".py",
   "mimetype": "text/x-python",
   "name": "python",
   "nbconvert_exporter": "python",
   "pygments_lexer": "ipython3",
   "version": "3.12.7"
  }
 },
 "nbformat": 4,
 "nbformat_minor": 5
}
