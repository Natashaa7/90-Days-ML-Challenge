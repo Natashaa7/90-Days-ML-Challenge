{
 "cells": [
  {
   "cell_type": "markdown",
   "id": "aa606e4a-5aac-436a-b53d-5cd84b339c24",
   "metadata": {},
   "source": [
    "# Expert Level"
   ]
  },
  {
   "cell_type": "markdown",
   "id": "025cb58c-a826-4b7d-b5cf-e37fa527918a",
   "metadata": {},
   "source": [
    "## 24. Packaging and Distribution"
   ]
  },
  {
   "cell_type": "markdown",
   "id": "c3f371c5-0297-45c3-8195-715c6cacbb10",
   "metadata": {},
   "source": [
    "### setuptools\n",
    "<p>📘 Definition: setuptools is a library that helps you build and distribute Python packages by defining package metadata, dependencies, and entry points.</p>\n",
    "<p>🔧 When to Use: Use it when you want to package your code for reuse or distribution, either privately or on PyPI.</p>\n",
    "<p>🌍 Where to Use: Commonly used in setup.py to configure installation and packaging for libraries, tools, or applications.</p>\n",
    "<p>💡 Use Case: A setup.py file with from setuptools import setup defines your package's name, version, and dependencies.</p>\n",
    "<p>⚠️ Limitations: Manually managing packaging with setup.py can be verbose and error-prone without proper structure.</p>\n",
    "<p>✅ Advantages: Allows customization and automation of packaging tasks, supports plugins, and integrates with other tools like wheel.</p>\n",
    "<p>❓ Why is it Used?: Used to prepare Python code for sharing and reuse, defining how others can install and run it.</p>"
   ]
  },
  {
   "cell_type": "code",
   "execution_count": 272,
   "id": "a3a0aca7-2727-45c3-9a2d-dd4f486ecc92",
   "metadata": {},
   "outputs": [
    {
     "name": "stdout",
     "output_type": "stream",
     "text": [
      "Python 3.12.7\n",
      "pip 25.2 from /opt/anaconda3/lib/python3.12/site-packages/pip (python 3.12)\n",
      "Requirement already satisfied: setuptools in /opt/anaconda3/lib/python3.12/site-packages (75.1.0)\n",
      "Requirement already satisfied: build in /opt/anaconda3/lib/python3.12/site-packages (1.3.0)\n",
      "Requirement already satisfied: packaging>=19.1 in /opt/anaconda3/lib/python3.12/site-packages (from build) (24.1)\n",
      "Requirement already satisfied: pyproject_hooks in /opt/anaconda3/lib/python3.12/site-packages (from build) (1.2.0)\n",
      "Requirement already satisfied: pip in /opt/anaconda3/lib/python3.12/site-packages (25.2)\n"
     ]
    }
   ],
   "source": [
    "#install packages for setuptools\n",
    "!python --version\n",
    "!pip --version\n",
    "!pip install setuptools\n",
    "!pip install build\n",
    "!pip install --upgrade pip"
   ]
  },
  {
   "cell_type": "code",
   "execution_count": 274,
   "id": "b98fa9ee-442e-47db-b9c4-69bd337ebf18",
   "metadata": {},
   "outputs": [
    {
     "name": "stdout",
     "output_type": "stream",
     "text": [
      "Overwriting setup.py\n"
     ]
    }
   ],
   "source": [
    "%%writefile setup.py\n",
    "from setuptools import setup, find_packages\n",
    "setup(\n",
    "    name=\"my_package\",\n",
    "    version=\"0.1.0\",\n",
    "    packages=find_packages(),\n",
    "    python_requires='>=3.6',\n",
    ")"
   ]
  },
  {
   "cell_type": "markdown",
   "id": "a01ef685-a5fb-4ee0-a93d-61bc745a6d64",
   "metadata": {},
   "source": [
    "### wheel\n",
    "<p>📘 Definition: wheel is a binary packaging format (with .whl extension) that enables faster and more efficient installation of Python packages.</p>\n",
    "<p>🔧 When to Use: Use it after building your package with setuptools to create a ready-to-install distribution file.</p>\n",
    "<p>🌍 Where to Use: Used in package build pipelines to reduce installation time and avoid running setup scripts on installation.</p>\n",
    "<p>💡 Use Case: Run python setup.py bdist_wheel or python -m build to generate a .whl file.</p>\n",
    "<p>⚠️ Limitations: Wheels are platform-dependent if the package contains compiled extensions.</p>\n",
    "<p>✅ Advantages: Provides fast, reliable installs and avoids the need to build from source during installation.</p>\n",
    "<p>❓ Why is it Used?: Used to package Python projects into binary form for quicker and cleaner installations.</p>"
   ]
  },
  {
   "cell_type": "code",
   "execution_count": 277,
   "id": "e34bd329-5249-4798-9b27-7b5d0f432db1",
   "metadata": {},
   "outputs": [
    {
     "name": "stdout",
     "output_type": "stream",
     "text": [
      "Requirement already satisfied: wheel in /opt/anaconda3/lib/python3.12/site-packages (0.44.0)\n"
     ]
    }
   ],
   "source": [
    "# install wheel package\n",
    "!pip install wheel"
   ]
  },
  {
   "cell_type": "code",
   "execution_count": 279,
   "id": "b5b6d1ef-ccb4-404a-9960-d3b954c505db",
   "metadata": {},
   "outputs": [
    {
     "name": "stdout",
     "output_type": "stream",
     "text": [
      "\u001b[1m* Creating isolated environment: venv+pip...\u001b[0m\n",
      "\u001b[1m* Installing packages in isolated environment:\u001b[0m\n",
      "  - setuptools>=61.0\n",
      "  - wheel\n",
      "\u001b[1m* Getting build dependencies for sdist...\u001b[0m\n",
      "/private/var/folders/27/22jm3g7n11183w1td1pll88m0000gn/T/build-env-ngvrio39/lib/python3.12/site-packages/setuptools/config/expand.py:128: SetuptoolsWarning: File '/Users/natashababu/Documents/internship/week1/README.md' cannot be found\n",
      "  for path in _filter_existing_files(_filepaths)\n",
      "/private/var/folders/27/22jm3g7n11183w1td1pll88m0000gn/T/build-env-ngvrio39/lib/python3.12/site-packages/setuptools/config/_apply_pyprojecttoml.py:82: SetuptoolsDeprecationWarning: `project.license` as a TOML table is deprecated\n",
      "!!\n",
      "\n",
      "        ********************************************************************************\n",
      "        Please use a simple string containing a SPDX expression for `project.license`. You can also use `project.license-files`. (Both options available on setuptools>=77.0.0).\n",
      "\n",
      "        By 2026-Feb-18, you need to update your project and remove deprecated calls\n",
      "        or your builds will no longer be supported.\n",
      "\n",
      "        See https://packaging.python.org/en/latest/guides/writing-pyproject-toml/#license for details.\n",
      "        ********************************************************************************\n",
      "\n",
      "!!\n",
      "  corresp(dist, value, root_dir)\n",
      "/private/var/folders/27/22jm3g7n11183w1td1pll88m0000gn/T/build-env-ngvrio39/lib/python3.12/site-packages/setuptools/config/_apply_pyprojecttoml.py:61: SetuptoolsDeprecationWarning: License classifiers are deprecated.\n",
      "!!\n",
      "\n",
      "        ********************************************************************************\n",
      "        Please consider removing the following classifiers in favor of a SPDX license expression:\n",
      "\n",
      "        License :: OSI Approved :: MIT License\n",
      "\n",
      "        See https://packaging.python.org/en/latest/guides/writing-pyproject-toml/#license for details.\n",
      "        ********************************************************************************\n",
      "\n",
      "!!\n",
      "  dist._finalize_license_expression()\n",
      "/private/var/folders/27/22jm3g7n11183w1td1pll88m0000gn/T/build-env-ngvrio39/lib/python3.12/site-packages/setuptools/dist.py:759: SetuptoolsDeprecationWarning: License classifiers are deprecated.\n",
      "!!\n",
      "\n",
      "        ********************************************************************************\n",
      "        Please consider removing the following classifiers in favor of a SPDX license expression:\n",
      "\n",
      "        License :: OSI Approved :: MIT License\n",
      "\n",
      "        See https://packaging.python.org/en/latest/guides/writing-pyproject-toml/#license for details.\n",
      "        ********************************************************************************\n",
      "\n",
      "!!\n",
      "  self._finalize_license_expression()\n",
      "running egg_info\n",
      "writing my_package.egg-info/PKG-INFO\n",
      "writing dependency_links to my_package.egg-info/dependency_links.txt\n",
      "writing top-level names to my_package.egg-info/top_level.txt\n",
      "reading manifest file 'my_package.egg-info/SOURCES.txt'\n",
      "writing manifest file 'my_package.egg-info/SOURCES.txt'\n",
      "\u001b[1m* Building sdist...\u001b[0m\n",
      "/private/var/folders/27/22jm3g7n11183w1td1pll88m0000gn/T/build-env-ngvrio39/lib/python3.12/site-packages/setuptools/config/expand.py:128: SetuptoolsWarning: File '/Users/natashababu/Documents/internship/week1/README.md' cannot be found\n",
      "  for path in _filter_existing_files(_filepaths)\n",
      "/private/var/folders/27/22jm3g7n11183w1td1pll88m0000gn/T/build-env-ngvrio39/lib/python3.12/site-packages/setuptools/config/_apply_pyprojecttoml.py:82: SetuptoolsDeprecationWarning: `project.license` as a TOML table is deprecated\n",
      "!!\n",
      "\n",
      "        ********************************************************************************\n",
      "        Please use a simple string containing a SPDX expression for `project.license`. You can also use `project.license-files`. (Both options available on setuptools>=77.0.0).\n",
      "\n",
      "        By 2026-Feb-18, you need to update your project and remove deprecated calls\n",
      "        or your builds will no longer be supported.\n",
      "\n",
      "        See https://packaging.python.org/en/latest/guides/writing-pyproject-toml/#license for details.\n",
      "        ********************************************************************************\n",
      "\n",
      "!!\n",
      "  corresp(dist, value, root_dir)\n",
      "/private/var/folders/27/22jm3g7n11183w1td1pll88m0000gn/T/build-env-ngvrio39/lib/python3.12/site-packages/setuptools/config/_apply_pyprojecttoml.py:61: SetuptoolsDeprecationWarning: License classifiers are deprecated.\n",
      "!!\n",
      "\n",
      "        ********************************************************************************\n",
      "        Please consider removing the following classifiers in favor of a SPDX license expression:\n",
      "\n",
      "        License :: OSI Approved :: MIT License\n",
      "\n",
      "        See https://packaging.python.org/en/latest/guides/writing-pyproject-toml/#license for details.\n",
      "        ********************************************************************************\n",
      "\n",
      "!!\n",
      "  dist._finalize_license_expression()\n",
      "/private/var/folders/27/22jm3g7n11183w1td1pll88m0000gn/T/build-env-ngvrio39/lib/python3.12/site-packages/setuptools/dist.py:759: SetuptoolsDeprecationWarning: License classifiers are deprecated.\n",
      "!!\n",
      "\n",
      "        ********************************************************************************\n",
      "        Please consider removing the following classifiers in favor of a SPDX license expression:\n",
      "\n",
      "        License :: OSI Approved :: MIT License\n",
      "\n",
      "        See https://packaging.python.org/en/latest/guides/writing-pyproject-toml/#license for details.\n",
      "        ********************************************************************************\n",
      "\n",
      "!!\n",
      "  self._finalize_license_expression()\n",
      "running sdist\n",
      "running egg_info\n",
      "writing my_package.egg-info/PKG-INFO\n",
      "writing dependency_links to my_package.egg-info/dependency_links.txt\n",
      "writing top-level names to my_package.egg-info/top_level.txt\n",
      "reading manifest file 'my_package.egg-info/SOURCES.txt'\n",
      "writing manifest file 'my_package.egg-info/SOURCES.txt'\n",
      "warning: sdist: standard file not found: should have one of README, README.rst, README.txt, README.md\n",
      "\n",
      "running check\n",
      "creating my_package-0.1.0\n",
      "creating my_package-0.1.0/my_package.egg-info\n",
      "copying files to my_package-0.1.0...\n",
      "copying pyproject.toml -> my_package-0.1.0\n",
      "copying setup.py -> my_package-0.1.0\n",
      "copying my_package.egg-info/PKG-INFO -> my_package-0.1.0/my_package.egg-info\n",
      "copying my_package.egg-info/SOURCES.txt -> my_package-0.1.0/my_package.egg-info\n",
      "copying my_package.egg-info/dependency_links.txt -> my_package-0.1.0/my_package.egg-info\n",
      "copying my_package.egg-info/top_level.txt -> my_package-0.1.0/my_package.egg-info\n",
      "copying my_package.egg-info/SOURCES.txt -> my_package-0.1.0/my_package.egg-info\n",
      "Writing my_package-0.1.0/setup.cfg\n",
      "Creating tar archive\n",
      "removing 'my_package-0.1.0' (and everything under it)\n",
      "\u001b[1m* Building wheel from sdist\u001b[0m\n",
      "\u001b[1m* Creating isolated environment: venv+pip...\u001b[0m\n",
      "\u001b[1m* Installing packages in isolated environment:\u001b[0m\n",
      "  - setuptools>=61.0\n",
      "  - wheel\n",
      "\u001b[1m* Getting build dependencies for wheel...\u001b[0m\n",
      "/private/var/folders/27/22jm3g7n11183w1td1pll88m0000gn/T/build-env-slsyvqv6/lib/python3.12/site-packages/setuptools/config/expand.py:128: SetuptoolsWarning: File '/private/var/folders/27/22jm3g7n11183w1td1pll88m0000gn/T/build-via-sdist-k39krjjl/my_package-0.1.0/README.md' cannot be found\n",
      "  for path in _filter_existing_files(_filepaths)\n",
      "/private/var/folders/27/22jm3g7n11183w1td1pll88m0000gn/T/build-env-slsyvqv6/lib/python3.12/site-packages/setuptools/config/_apply_pyprojecttoml.py:82: SetuptoolsDeprecationWarning: `project.license` as a TOML table is deprecated\n",
      "!!\n",
      "\n",
      "        ********************************************************************************\n",
      "        Please use a simple string containing a SPDX expression for `project.license`. You can also use `project.license-files`. (Both options available on setuptools>=77.0.0).\n",
      "\n",
      "        By 2026-Feb-18, you need to update your project and remove deprecated calls\n",
      "        or your builds will no longer be supported.\n",
      "\n",
      "        See https://packaging.python.org/en/latest/guides/writing-pyproject-toml/#license for details.\n",
      "        ********************************************************************************\n",
      "\n",
      "!!\n",
      "  corresp(dist, value, root_dir)\n",
      "/private/var/folders/27/22jm3g7n11183w1td1pll88m0000gn/T/build-env-slsyvqv6/lib/python3.12/site-packages/setuptools/config/_apply_pyprojecttoml.py:61: SetuptoolsDeprecationWarning: License classifiers are deprecated.\n",
      "!!\n",
      "\n",
      "        ********************************************************************************\n",
      "        Please consider removing the following classifiers in favor of a SPDX license expression:\n",
      "\n",
      "        License :: OSI Approved :: MIT License\n",
      "\n",
      "        See https://packaging.python.org/en/latest/guides/writing-pyproject-toml/#license for details.\n",
      "        ********************************************************************************\n",
      "\n",
      "!!\n",
      "  dist._finalize_license_expression()\n",
      "/private/var/folders/27/22jm3g7n11183w1td1pll88m0000gn/T/build-env-slsyvqv6/lib/python3.12/site-packages/setuptools/dist.py:759: SetuptoolsDeprecationWarning: License classifiers are deprecated.\n",
      "!!\n",
      "\n",
      "        ********************************************************************************\n",
      "        Please consider removing the following classifiers in favor of a SPDX license expression:\n",
      "\n",
      "        License :: OSI Approved :: MIT License\n",
      "\n",
      "        See https://packaging.python.org/en/latest/guides/writing-pyproject-toml/#license for details.\n",
      "        ********************************************************************************\n",
      "\n",
      "!!\n",
      "  self._finalize_license_expression()\n",
      "running egg_info\n",
      "writing my_package.egg-info/PKG-INFO\n",
      "writing dependency_links to my_package.egg-info/dependency_links.txt\n",
      "writing top-level names to my_package.egg-info/top_level.txt\n",
      "reading manifest file 'my_package.egg-info/SOURCES.txt'\n",
      "writing manifest file 'my_package.egg-info/SOURCES.txt'\n",
      "\u001b[1m* Building wheel...\u001b[0m\n",
      "/private/var/folders/27/22jm3g7n11183w1td1pll88m0000gn/T/build-env-slsyvqv6/lib/python3.12/site-packages/setuptools/config/expand.py:128: SetuptoolsWarning: File '/private/var/folders/27/22jm3g7n11183w1td1pll88m0000gn/T/build-via-sdist-k39krjjl/my_package-0.1.0/README.md' cannot be found\n",
      "  for path in _filter_existing_files(_filepaths)\n",
      "/private/var/folders/27/22jm3g7n11183w1td1pll88m0000gn/T/build-env-slsyvqv6/lib/python3.12/site-packages/setuptools/config/_apply_pyprojecttoml.py:82: SetuptoolsDeprecationWarning: `project.license` as a TOML table is deprecated\n",
      "!!\n",
      "\n",
      "        ********************************************************************************\n",
      "        Please use a simple string containing a SPDX expression for `project.license`. You can also use `project.license-files`. (Both options available on setuptools>=77.0.0).\n",
      "\n",
      "        By 2026-Feb-18, you need to update your project and remove deprecated calls\n",
      "        or your builds will no longer be supported.\n",
      "\n",
      "        See https://packaging.python.org/en/latest/guides/writing-pyproject-toml/#license for details.\n",
      "        ********************************************************************************\n",
      "\n",
      "!!\n",
      "  corresp(dist, value, root_dir)\n",
      "/private/var/folders/27/22jm3g7n11183w1td1pll88m0000gn/T/build-env-slsyvqv6/lib/python3.12/site-packages/setuptools/config/_apply_pyprojecttoml.py:61: SetuptoolsDeprecationWarning: License classifiers are deprecated.\n",
      "!!\n",
      "\n",
      "        ********************************************************************************\n",
      "        Please consider removing the following classifiers in favor of a SPDX license expression:\n",
      "\n",
      "        License :: OSI Approved :: MIT License\n",
      "\n",
      "        See https://packaging.python.org/en/latest/guides/writing-pyproject-toml/#license for details.\n",
      "        ********************************************************************************\n",
      "\n",
      "!!\n",
      "  dist._finalize_license_expression()\n",
      "/private/var/folders/27/22jm3g7n11183w1td1pll88m0000gn/T/build-env-slsyvqv6/lib/python3.12/site-packages/setuptools/dist.py:759: SetuptoolsDeprecationWarning: License classifiers are deprecated.\n",
      "!!\n",
      "\n",
      "        ********************************************************************************\n",
      "        Please consider removing the following classifiers in favor of a SPDX license expression:\n",
      "\n",
      "        License :: OSI Approved :: MIT License\n",
      "\n",
      "        See https://packaging.python.org/en/latest/guides/writing-pyproject-toml/#license for details.\n",
      "        ********************************************************************************\n",
      "\n",
      "!!\n",
      "  self._finalize_license_expression()\n",
      "running bdist_wheel\n",
      "running build\n",
      "installing to build/bdist.macosx-11.1-arm64/wheel\n",
      "running install\n",
      "running install_egg_info\n",
      "running egg_info\n",
      "writing my_package.egg-info/PKG-INFO\n",
      "writing dependency_links to my_package.egg-info/dependency_links.txt\n",
      "writing top-level names to my_package.egg-info/top_level.txt\n",
      "reading manifest file 'my_package.egg-info/SOURCES.txt'\n",
      "writing manifest file 'my_package.egg-info/SOURCES.txt'\n",
      "Copying my_package.egg-info to build/bdist.macosx-11.1-arm64/wheel/./my_package-0.1.0-py3.12.egg-info\n",
      "running install_scripts\n",
      "creating build/bdist.macosx-11.1-arm64/wheel/my_package-0.1.0.dist-info/WHEEL\n",
      "creating '/Users/natashababu/Documents/internship/week1/dist/.tmp-9mopfrw3/my_package-0.1.0-py3-none-any.whl' and adding 'build/bdist.macosx-11.1-arm64/wheel' to it\n",
      "adding 'my_package-0.1.0.dist-info/METADATA'\n",
      "adding 'my_package-0.1.0.dist-info/WHEEL'\n",
      "adding 'my_package-0.1.0.dist-info/top_level.txt'\n",
      "adding 'my_package-0.1.0.dist-info/RECORD'\n",
      "removing build/bdist.macosx-11.1-arm64/wheel\n",
      "\u001b[1m\u001b[92mSuccessfully built \u001b[4mmy_package-0.1.0.tar.gz\u001b[0m\u001b[1m\u001b[92m and \u001b[4mmy_package-0.1.0-py3-none-any.whl\u001b[0m\u001b[1m\u001b[92m\u001b[0m\n"
     ]
    }
   ],
   "source": [
    "## creating package wheel using build\n",
    "!python -m build"
   ]
  },
  {
   "cell_type": "code",
   "execution_count": 280,
   "id": "c37198d7-cb6e-4d31-bf5c-b3e899e95b0b",
   "metadata": {},
   "outputs": [
    {
     "name": "stdout",
     "output_type": "stream",
     "text": [
      "Processing ./dist/my_package-0.1.0-py3-none-any.whl\n",
      "my-package is already installed with the same version as the provided wheel. Use --force-reinstall to force an installation of the wheel.\n"
     ]
    }
   ],
   "source": [
    "## Installing built wheel file using pip\n",
    "!pip install dist/my_package-0.1.0-py3-none-any.whl"
   ]
  },
  {
   "cell_type": "markdown",
   "id": "1493238c-c1b5-4d8c-9d4d-a4da37d273b1",
   "metadata": {},
   "source": [
    "### twine\n",
    "<p>📘 Definition: twine is a tool for securely uploading Python distributions (like wheels or source tarballs) to PyPI or other repositories.</p>\n",
    "<p>🔧 When to Use: Use it to publish your package to PyPI after building it.</p>\n",
    "<p>🌍 Where to Use: Used in CI/CD pipelines or manually from the terminal when releasing a new version.</p>\n",
    "<p>💡 Use Case: Run twine upload dist/* to push your package to PyPI.</p>\n",
    "<p>⚠️ Limitations: Requires proper PyPI credentials and package configuration; mistakes in metadata can break uploads.</p>\n",
    "<p>✅ Advantages: Provides secure, standards-compliant uploading with clear error feedback and metadata validation.</p>\n",
    "<p>❓ Why is it Used?: Used to safely distribute Python packages to the Python Package Index (PyPI) or private repositories.</p>"
   ]
  },
  {
   "cell_type": "code",
   "execution_count": 284,
   "id": "ec91a437-af77-4b9e-a737-1fa632936b2a",
   "metadata": {},
   "outputs": [
    {
     "name": "stdout",
     "output_type": "stream",
     "text": [
      "Requirement already satisfied: twine in /opt/anaconda3/lib/python3.12/site-packages (6.1.0)\n",
      "Requirement already satisfied: readme-renderer>=35.0 in /opt/anaconda3/lib/python3.12/site-packages (from twine) (44.0)\n",
      "Requirement already satisfied: requests>=2.20 in /opt/anaconda3/lib/python3.12/site-packages (from twine) (2.32.3)\n",
      "Requirement already satisfied: requests-toolbelt!=0.9.0,>=0.8.0 in /opt/anaconda3/lib/python3.12/site-packages (from twine) (1.0.0)\n",
      "Requirement already satisfied: urllib3>=1.26.0 in /opt/anaconda3/lib/python3.12/site-packages (from twine) (2.2.3)\n",
      "Requirement already satisfied: keyring>=15.1 in /opt/anaconda3/lib/python3.12/site-packages (from twine) (24.3.1)\n",
      "Requirement already satisfied: rfc3986>=1.4.0 in /opt/anaconda3/lib/python3.12/site-packages (from twine) (2.0.0)\n",
      "Requirement already satisfied: rich>=12.0.0 in /opt/anaconda3/lib/python3.12/site-packages (from twine) (13.7.1)\n",
      "Requirement already satisfied: packaging>=24.0 in /opt/anaconda3/lib/python3.12/site-packages (from twine) (24.1)\n",
      "Requirement already satisfied: id in /opt/anaconda3/lib/python3.12/site-packages (from twine) (1.5.0)\n",
      "Requirement already satisfied: jaraco.classes in /opt/anaconda3/lib/python3.12/site-packages (from keyring>=15.1->twine) (3.2.1)\n",
      "Requirement already satisfied: nh3>=0.2.14 in /opt/anaconda3/lib/python3.12/site-packages (from readme-renderer>=35.0->twine) (0.3.0)\n",
      "Requirement already satisfied: docutils>=0.21.2 in /opt/anaconda3/lib/python3.12/site-packages (from readme-renderer>=35.0->twine) (0.22)\n",
      "Requirement already satisfied: Pygments>=2.5.1 in /opt/anaconda3/lib/python3.12/site-packages (from readme-renderer>=35.0->twine) (2.15.1)\n",
      "Requirement already satisfied: charset-normalizer<4,>=2 in /opt/anaconda3/lib/python3.12/site-packages (from requests>=2.20->twine) (3.3.2)\n",
      "Requirement already satisfied: idna<4,>=2.5 in /opt/anaconda3/lib/python3.12/site-packages (from requests>=2.20->twine) (3.7)\n",
      "Requirement already satisfied: certifi>=2017.4.17 in /opt/anaconda3/lib/python3.12/site-packages (from requests>=2.20->twine) (2025.1.31)\n",
      "Requirement already satisfied: markdown-it-py>=2.2.0 in /opt/anaconda3/lib/python3.12/site-packages (from rich>=12.0.0->twine) (2.2.0)\n",
      "Requirement already satisfied: mdurl~=0.1 in /opt/anaconda3/lib/python3.12/site-packages (from markdown-it-py>=2.2.0->rich>=12.0.0->twine) (0.1.0)\n",
      "Requirement already satisfied: more-itertools in /opt/anaconda3/lib/python3.12/site-packages (from jaraco.classes->keyring>=15.1->twine) (10.3.0)\n"
     ]
    }
   ],
   "source": [
    "# Installing twine\n",
    "!pip install twine"
   ]
  },
  {
   "cell_type": "code",
   "execution_count": 286,
   "id": "00f5bdfc-b131-47c4-adba-10da9b145d6b",
   "metadata": {},
   "outputs": [],
   "source": [
    "## Uploading built packages(python -m build)\n",
    "# !twine upload dist/*"
   ]
  },
  {
   "cell_type": "markdown",
   "id": "4b4be28d-6c93-455a-9dff-e9bcab24ab24",
   "metadata": {},
   "source": [
    "### pyproject.toml\n",
    "<p>📘 Definition: pyproject.toml is a standardized configuration file used to define build system requirements and settings for Python projects.</p>\n",
    "<p>🔧 When to Use: Use it when you want to build, package, or configure your project in a modern and tool-agnostic way (instead of setup.py alone).</p>\n",
    "<p>🌍 Where to Use: Included in the root directory of Python projects to configure tools like setuptools, flit, poetry, black, and isort.</p>\n",
    "<p>⚠️ Limitations: Still evolving, and not all tools fully support every section or standard yet.</p>\n",
    "<p>✅ Advantages: Enables tool interoperability, simplifies configuration, and avoids tool-specific config clutter across multiple files.</p>\n",
    "<p>❓ Why is it Used?: It’s used to modernize Python packaging and to provide a single, consistent file for configuring the build and related tooling.</p>"
   ]
  },
  {
   "cell_type": "code",
   "execution_count": 289,
   "id": "0a13eedc-ccdc-4b3a-b713-7f2670dbdee8",
   "metadata": {},
   "outputs": [
    {
     "name": "stdout",
     "output_type": "stream",
     "text": [
      "Overwriting pyproject.toml\n"
     ]
    }
   ],
   "source": [
    "%%writefile pyproject.toml\n",
    "[build-system]\n",
    "requires = [\"setuptools>=61.0\", \"wheel\"]\n",
    "build-backend = \"setuptools.build_meta\"\n",
    "\n",
    "[project]\n",
    "name = \"my_package\"\n",
    "version = \"0.1.0\"\n",
    "description = \"My example package built with pyproject.toml\"\n",
    "authors = [\n",
    "    { name = \"Your Name\", email = \"your@email.com\" }\n",
    "]\n",
    "readme = \"README.md\"\n",
    "requires-python = \">=3.6\"\n",
    "license = { text = \"MIT\" }\n",
    "classifiers = [\n",
    "    \"Programming Language :: Python :: 3\",\n",
    "    \"License :: OSI Approved :: MIT License\",\n",
    "    \"Operating System :: OS Independent\"\n",
    "]\n",
    "\n",
    "dependencies = [\n",
    "    # Example: \"requests>=2.25.1\"\n",
    "]\n",
    "\n",
    "[project.urls]\n",
    "\"Homepage\" = \"https://your-homepage.example.com\""
   ]
  },
  {
   "cell_type": "markdown",
   "id": "50fec0d0-723e-40ac-97d9-b7e49b1dace4",
   "metadata": {},
   "source": [
    "<p>This pyproject.toml file defines metadata and build configuration for your Python package called my_package. It's a modern replacement for setup.py, and it’s used to build, install, and configure your project with tools like setuptools, pip, build, and twine.</p>"
   ]
  },
  {
   "cell_type": "markdown",
   "id": "39aec488-b3bd-46fc-a24b-7cdd69092cea",
   "metadata": {},
   "source": [
    "# 25. Code Quality and Automation"
   ]
  },
  {
   "cell_type": "markdown",
   "id": "19c28aaf-1ee0-441a-b2f0-fa464f9712c5",
   "metadata": {},
   "source": [
    "### Linters \n",
    "<p>A linter is a static code analysis tool that examines source code to identify potential errors, stylistic inconsistencies, and suspicious constructs. It performs this analysis without actually executing the code.</p>"
   ]
  },
  {
   "cell_type": "markdown",
   "id": "481f686e-f932-4148-83d1-f91c279f2f58",
   "metadata": {},
   "source": [
    "### Linters (flake8)\n",
    "<p>📘 Definition: flake8 is a lightweight linter that checks for syntax errors, code style violations (PEP 8), and complexity in Python code.</p>\n",
    "<p>🔧 When to Use: Use flake8 when you want a quick, fast-check tool for maintaining clean and consistent code.</p>\n",
    "<p>🌍 Where to Use: Commonly integrated into code editors, Git hooks, or CI pipelines to run automatically on save or push.</p>\n",
    "<p>💡 Use Case: Run flake8 script.py to identify things like extra whitespace, missing imports, or long lines.</p>\n",
    "<p>⚠️ Limitations: Doesn’t catch deep logic issues or offer code suggestions like more advanced linters.</p>\n",
    "<p>✅ Advantages: Simple, fast, and easily extensible via plugins (e.g., flake8-docstrings, flake8-import-order).</p>\n",
    "<p>❓ Why is it Used?: It’s used to enforce basic style rules and prevent common syntax mistakes with minimal setup.</p>"
   ]
  },
  {
   "cell_type": "code",
   "execution_count": 295,
   "id": "eb417e8a-5630-4d5d-aac6-f21d878f7a42",
   "metadata": {},
   "outputs": [
    {
     "name": "stdout",
     "output_type": "stream",
     "text": [
      "Requirement already satisfied: flake8 in /opt/anaconda3/lib/python3.12/site-packages (7.0.0)\n",
      "Requirement already satisfied: mccabe<0.8.0,>=0.7.0 in /opt/anaconda3/lib/python3.12/site-packages (from flake8) (0.7.0)\n",
      "Requirement already satisfied: pycodestyle<2.12.0,>=2.11.0 in /opt/anaconda3/lib/python3.12/site-packages (from flake8) (2.11.1)\n",
      "Requirement already satisfied: pyflakes<3.3.0,>=3.2.0 in /opt/anaconda3/lib/python3.12/site-packages (from flake8) (3.2.0)\n"
     ]
    }
   ],
   "source": [
    "# install flake8 package\n",
    "!pip install flake8"
   ]
  },
  {
   "cell_type": "code",
   "execution_count": 297,
   "id": "17bd1a09-b2f7-4665-a315-218a48485761",
   "metadata": {},
   "outputs": [
    {
     "name": "stdout",
     "output_type": "stream",
     "text": [
      "\u001b[1mtest.py\u001b[m\u001b[36m:\u001b[m5\u001b[36m:\u001b[m1\u001b[36m:\u001b[m \u001b[1m\u001b[31mE302\u001b[m expected 2 blank lines, found 1\n"
     ]
    }
   ],
   "source": [
    "# flake8 checks error\n",
    "!flake8 test.py"
   ]
  },
  {
   "cell_type": "markdown",
   "id": "2eefbea6-c463-4be9-b19b-ccd7e1becfa4",
   "metadata": {},
   "source": [
    "### Linters (pylint)\n",
    "<p>📘 Definition: pylint is a comprehensive static code analyzer that checks for errors, style violations, code smells, and enforces coding conventions.</p>\n",
    "<p>🔧 When to Use: Use pylint when you need a thorough code review tool that scores your code and identifies design-level issues.</p>\n",
    "<p>🌍 Where to Use: Used in IDEs, pre-commit hooks, or CI systems to enforce project-wide coding standards.</p>\n",
    "<p>💡 Use Case: Run pylint nats.py to get a detailed report including missing docstrings, unused variables, and bad naming conventions.</p>\n",
    "<p>⚠️ Limitations: Can be too strict or noisy by default, requiring configuration tuning to match project needs.</p>\n",
    "<p>✅ Advantages: Offers detailed analysis, configurable rules, and even a code quality score.</p>\n",
    "<p>❓ Why is it Used?: Used to maintain high code quality, catch subtle bugs, and encourage consistent architecture and practices.</p>"
   ]
  },
  {
   "cell_type": "code",
   "execution_count": 300,
   "id": "666d2e7a-518a-4301-bd0f-cf6ff0b03de5",
   "metadata": {},
   "outputs": [
    {
     "name": "stdout",
     "output_type": "stream",
     "text": [
      "Requirement already satisfied: pylint in /opt/anaconda3/lib/python3.12/site-packages (2.16.2)\n",
      "Requirement already satisfied: platformdirs>=2.2.0 in /opt/anaconda3/lib/python3.12/site-packages (from pylint) (3.10.0)\n",
      "Requirement already satisfied: astroid<=2.16.0-dev0,>=2.14.2 in /opt/anaconda3/lib/python3.12/site-packages (from pylint) (2.14.2)\n",
      "Requirement already satisfied: isort<6,>=4.2.5 in /opt/anaconda3/lib/python3.12/site-packages (from pylint) (5.13.2)\n",
      "Requirement already satisfied: mccabe<0.8,>=0.6 in /opt/anaconda3/lib/python3.12/site-packages (from pylint) (0.7.0)\n",
      "Requirement already satisfied: tomlkit>=0.10.1 in /opt/anaconda3/lib/python3.12/site-packages (from pylint) (0.11.1)\n",
      "Requirement already satisfied: dill>=0.3.6 in /opt/anaconda3/lib/python3.12/site-packages (from pylint) (0.3.8)\n",
      "Requirement already satisfied: lazy-object-proxy>=1.4.0 in /opt/anaconda3/lib/python3.12/site-packages (from astroid<=2.16.0-dev0,>=2.14.2->pylint) (1.10.0)\n",
      "Requirement already satisfied: wrapt<2,>=1.14 in /opt/anaconda3/lib/python3.12/site-packages (from astroid<=2.16.0-dev0,>=2.14.2->pylint) (1.14.1)\n"
     ]
    }
   ],
   "source": [
    "# install pylint package\n",
    "!pip install pylint"
   ]
  },
  {
   "cell_type": "code",
   "execution_count": 302,
   "id": "bfae4f1e-6f62-49e9-af0a-6cf683b2bc23",
   "metadata": {},
   "outputs": [],
   "source": [
    "# Pylint \n",
    "code = \"\"\"a = 1\n",
    "b = 2\n",
    "print(a + b)\n",
    "\"\"\"\n",
    "\n",
    "with open(\"nats.py\", \"w\") as f:\n",
    "    f.write(code)"
   ]
  },
  {
   "cell_type": "code",
   "execution_count": 304,
   "id": "01f6a3bb-7f18-42a9-9c73-4a5d4ee0d927",
   "metadata": {},
   "outputs": [
    {
     "name": "stdout",
     "output_type": "stream",
     "text": [
      "************* Module nats\n",
      "nats.py:1:0: C0114: Missing module docstring (missing-module-docstring)\n",
      "nats.py:1:0: C0103: Constant name \"a\" doesn't conform to UPPER_CASE naming style (invalid-name)\n",
      "nats.py:2:0: C0103: Constant name \"b\" doesn't conform to UPPER_CASE naming style (invalid-name)\n",
      "\n",
      "------------------------------------------------------------------\n",
      "Your code has been rated at 0.00/10 (previous run: 0.00/10, +0.00)\n",
      "\n"
     ]
    }
   ],
   "source": [
    "!pylint nats.py # gives detailed description of the error"
   ]
  },
  {
   "cell_type": "markdown",
   "id": "537ebcd5-6405-40f9-87ff-4ccaed65776b",
   "metadata": {},
   "source": [
    "### Formatters\n",
    "<p>These are tools or programs that automatically adjust the layout and presentation of source code to adhere to predefined style guidelines and conventions. This includes consistent indentation, spacing, line breaks, and other stylistic elements.</p> \n",
    "<p>Code formatters aim to improve code readability, maintainability, and consistency across a project or team, making it easier for developers to understand and work with the codebase.</p>"
   ]
  },
  {
   "cell_type": "markdown",
   "id": "f6dfab70-d0d9-4ba8-922d-5f9bd86353b7",
   "metadata": {},
   "source": [
    "### Formatters (black)\n",
    "<p>📘 Definition: black is an uncompromising Python code formatter that automatically formats code to a consistent style with minimal configuration.</p>\n",
    "<p>🔧 When to Use: Use black when you want to automate code formatting and remove style debates from code reviews.</p>\n",
    "<p>🌍 Where to Use: Integrated into development workflows, IDEs, and CI pipelines to ensure uniform formatting.</p>\n",
    "<p>💡 Use Case: Running black script.py reformats the file according to PEP 8 with consistent indentation and line breaks.</p>\n",
    "<p>⚠️ Limitations: Offers very few customization options, which might not suit all team preferences.</p>\n",
    "<p>✅ Advantages: Ensures consistent code style, reduces bike-shedding, and speeds up code reviews.</p>\n",
    "<p>❓ Why is it Used?: It is used to standardize Python code formatting automatically, improving readability and team collaboration.</p>"
   ]
  },
  {
   "cell_type": "code",
   "execution_count": 308,
   "id": "8d8711bb-614e-436c-b61a-0613027d434b",
   "metadata": {
    "scrolled": true
   },
   "outputs": [
    {
     "name": "stdout",
     "output_type": "stream",
     "text": [
      "Requirement already satisfied: black in /opt/anaconda3/lib/python3.12/site-packages (24.8.0)\n",
      "Requirement already satisfied: click>=8.0.0 in /opt/anaconda3/lib/python3.12/site-packages (from black) (8.1.7)\n",
      "Requirement already satisfied: mypy-extensions>=0.4.3 in /opt/anaconda3/lib/python3.12/site-packages (from black) (1.0.0)\n",
      "Requirement already satisfied: packaging>=22.0 in /opt/anaconda3/lib/python3.12/site-packages (from black) (24.1)\n",
      "Requirement already satisfied: pathspec>=0.9.0 in /opt/anaconda3/lib/python3.12/site-packages (from black) (0.10.3)\n",
      "Requirement already satisfied: platformdirs>=2 in /opt/anaconda3/lib/python3.12/site-packages (from black) (3.10.0)\n"
     ]
    }
   ],
   "source": [
    "# install black package\n",
    "!pip install black"
   ]
  },
  {
   "cell_type": "code",
   "execution_count": 310,
   "id": "7c792a55-fe88-4266-aaa2-929424d8ad8f",
   "metadata": {},
   "outputs": [
    {
     "name": "stdout",
     "output_type": "stream",
     "text": [
      "\u001b[1mAll done! ✨ 🍰 ✨\u001b[0m\n",
      "\u001b[34m1 file \u001b[0mleft unchanged.\n"
     ]
    }
   ],
   "source": [
    "# Format the code file with Black\n",
    "!black nats.py # when already formatted"
   ]
  },
  {
   "cell_type": "code",
   "execution_count": 312,
   "id": "551d6f82-4614-4ab7-acb9-6952462f2fff",
   "metadata": {},
   "outputs": [],
   "source": [
    "# Create a messy Python file for formatting\n",
    "code = \"\"\"\n",
    "import numpy as np\n",
    "import sys\n",
    "from numpy import arange,argmax\n",
    "def addition(a   ,       b):\n",
    "    ans=a+      b\n",
    "    \n",
    "    return ans\n",
    "def subtraction(a   ,       b):\n",
    "    ans=a      -      b\n",
    "    return ans\n",
    "a = arange(5)\n",
    "print(a)\n",
    "print(argmax(a))\n",
    "\"\"\"\n",
    "\n",
    "# Save to blackk.py\n",
    "with open(\"blackie.py\", \"w\") as f:\n",
    "    f.write(code)"
   ]
  },
  {
   "cell_type": "code",
   "execution_count": 314,
   "id": "9c4dbaea-cdd9-4fcf-a36a-1199c7cb771b",
   "metadata": {},
   "outputs": [
    {
     "name": "stdout",
     "output_type": "stream",
     "text": [
      "\n",
      "import numpy as np\n",
      "import sys\n",
      "from numpy import arange,argmax\n",
      "def addition(a   ,       b):\n",
      "    ans=a+      b\n",
      "    \n",
      "    return ans\n",
      "def subtraction(a   ,       b):\n",
      "    ans=a      -      b\n",
      "    return ans\n",
      "a = arange(5)\n",
      "print(a)\n",
      "print(argmax(a))\n",
      "\n"
     ]
    }
   ],
   "source": [
    "# Display the original unformatted code\n",
    "with open(\"blackie.py\", \"r\") as f:\n",
    "    print(f.read())"
   ]
  },
  {
   "cell_type": "code",
   "execution_count": 316,
   "id": "019d755d-01ce-431b-bcfe-7d90711544ec",
   "metadata": {},
   "outputs": [
    {
     "name": "stdout",
     "output_type": "stream",
     "text": [
      "\u001b[1mreformatted blackie.py\u001b[0m\n",
      "\n",
      "\u001b[1mAll done! ✨ 🍰 ✨\u001b[0m\n",
      "\u001b[34m\u001b[1m1 file \u001b[0m\u001b[1mreformatted\u001b[0m.\n"
     ]
    }
   ],
   "source": [
    "# Format the code file with Black\n",
    "!black blackie.py"
   ]
  },
  {
   "cell_type": "code",
   "execution_count": 318,
   "id": "0b911b43-2f71-44dc-a42f-6975986f5eea",
   "metadata": {},
   "outputs": [
    {
     "name": "stdout",
     "output_type": "stream",
     "text": [
      "import numpy as np\n",
      "import sys\n",
      "from numpy import arange, argmax\n",
      "\n",
      "\n",
      "def addition(a, b):\n",
      "    ans = a + b\n",
      "\n",
      "    return ans\n",
      "\n",
      "\n",
      "def subtraction(a, b):\n",
      "    ans = a - b\n",
      "    return ans\n",
      "\n",
      "\n",
      "a = arange(5)\n",
      "print(a)\n",
      "print(argmax(a))\n",
      "\n"
     ]
    }
   ],
   "source": [
    "# Display the code after Black formatting\n",
    "with open(\"blackie.py\", \"r\") as f:\n",
    "    print(f.read())"
   ]
  },
  {
   "cell_type": "markdown",
   "id": "967255bc-689d-4a37-92a8-870e290a46ee",
   "metadata": {},
   "source": [
    "### Formatters (isort)\n",
    "<p>📘 Definition: isort is a Python utility that automatically sorts and organizes import statements in a consistent order.</p>\n",
    "<p>🔧 When to Use: Use isort to clean up and structure imports for better readability and maintainability.</p>\n",
    "<p>🌍 Where to Use: Commonly run as part of pre-commit hooks, IDE extensions, or CI processes.</p>\n",
    "<p>⚠️ Limitations: May require configuration to match specific project import styles or handle edge cases.</p>\n",
    "<p>✅ Advantages: Keeps import statements clean, consistent, and avoids duplication or unused imports.</p>\n",
    "<p>❓ Why is it Used?: Used to automate import management, reducing manual errors and improving code clarity.</p></p>"
   ]
  },
  {
   "cell_type": "code",
   "execution_count": 321,
   "id": "a32f9555-0450-4f1e-967a-be8cd57c660c",
   "metadata": {},
   "outputs": [
    {
     "name": "stdout",
     "output_type": "stream",
     "text": [
      "Requirement already satisfied: isort in /opt/anaconda3/lib/python3.12/site-packages (5.13.2)\n"
     ]
    }
   ],
   "source": [
    "# install insort package\n",
    "!pip install isort"
   ]
  },
  {
   "cell_type": "code",
   "execution_count": 323,
   "id": "c68b96e7-031c-4c86-a5ca-261c9bcc8c7d",
   "metadata": {},
   "outputs": [
    {
     "name": "stdout",
     "output_type": "stream",
     "text": [
      "Before sorting:\n",
      "\n",
      "\n",
      "import sys\n",
      "import os\n",
      "import numpy as np\n",
      "import json\n",
      "import pandas as pd\n",
      "lint.py\n",
      "\n"
     ]
    }
   ],
   "source": [
    "# Create a Python file with messy imports\n",
    "code = \"\"\"\n",
    "import sys\n",
    "import os\n",
    "import numpy as np\n",
    "import json\n",
    "import pandas as pd\n",
    "lint.py\n",
    "\"\"\"\n",
    "with open(\"isort.py\", \"w\") as f:\n",
    "    f.write(code)\n",
    "\n",
    "print(\"Before sorting:\\n\")\n",
    "with open(\"isort.py\", \"r\") as f:\n",
    "    print(f.read())"
   ]
  },
  {
   "cell_type": "code",
   "execution_count": 325,
   "id": "6dbf5436-fabf-4866-8065-f1bb77cc1020",
   "metadata": {},
   "outputs": [
    {
     "name": "stdout",
     "output_type": "stream",
     "text": [
      "Fixing /Users/natashababu/Documents/internship/week1/isort.py\n"
     ]
    }
   ],
   "source": [
    "# Run isort to sort imports\n",
    "!isort isort.py"
   ]
  },
  {
   "cell_type": "code",
   "execution_count": 327,
   "id": "d1bb15f7-58fd-47cf-915d-f69c2dfa02cc",
   "metadata": {},
   "outputs": [
    {
     "name": "stdout",
     "output_type": "stream",
     "text": [
      "After sorting:\n",
      "\n",
      "\n",
      "import json\n",
      "import os\n",
      "import sys\n",
      "\n",
      "import numpy as np\n",
      "import pandas as pd\n",
      "\n",
      "lint.py\n",
      "\n"
     ]
    }
   ],
   "source": [
    "# Show the sorted imports\n",
    "print(\"After sorting:\\n\")\n",
    "with open(\"isort.py\", \"r\") as f:\n",
    "    print(f.read())"
   ]
  },
  {
   "cell_type": "markdown",
   "id": "6e7acf54-63f0-4603-9031-2ab17a6c71a0",
   "metadata": {},
   "source": [
    "### Pre-commit hooks\n",
    "<p>📘 Definition: Pre-commit hooks are scripts that run automatically before a commit is finalized to check code quality, enforce formatting, run tests, or prevent bad commits.\n",
    "<p>🔧 When to Use: Use pre-commit hooks to automate code checks and prevent errors from entering version control during development.</p>\n",
    "<p>🌍 Where to Use: Integrated into Git via the .git/hooks/ folder or managed using tools like the pre-commit framework.</p>\n",
    "<p>💡 Use Case: Running black, flake8, and isort via a pre-commit hook ensures every commit is formatted, linted, and clean automatically.</p>\n",
    "<p>⚠️ Limitations: May slow down the commit process slightly and require setup per developer or repo.</p>\n",
    "<p>✅ Advantages: Helps maintain high code quality, enforces standards, and catches issues early—before they reach CI or production.</p>\n",
    "<p>❓ Why is it Used?: Used to automate repetitive checks, enforce policies, and reduce manual errors in collaborative projects.</p></p>"
   ]
  },
  {
   "cell_type": "code",
   "execution_count": 330,
   "id": "d9b9a7aa-9291-425b-887b-eb513e69f2e7",
   "metadata": {},
   "outputs": [
    {
     "name": "stdout",
     "output_type": "stream",
     "text": [
      "Requirement already satisfied: pre-commit in /opt/anaconda3/lib/python3.12/site-packages (4.2.0)\n",
      "Requirement already satisfied: cfgv>=2.0.0 in /opt/anaconda3/lib/python3.12/site-packages (from pre-commit) (3.4.0)\n",
      "Requirement already satisfied: identify>=1.0.0 in /opt/anaconda3/lib/python3.12/site-packages (from pre-commit) (2.6.12)\n",
      "Requirement already satisfied: nodeenv>=0.11.1 in /opt/anaconda3/lib/python3.12/site-packages (from pre-commit) (1.9.1)\n",
      "Requirement already satisfied: pyyaml>=5.1 in /opt/anaconda3/lib/python3.12/site-packages (from pre-commit) (6.0.1)\n",
      "Requirement already satisfied: virtualenv>=20.10.0 in /opt/anaconda3/lib/python3.12/site-packages (from pre-commit) (20.33.1)\n",
      "Requirement already satisfied: distlib<1,>=0.3.7 in /opt/anaconda3/lib/python3.12/site-packages (from virtualenv>=20.10.0->pre-commit) (0.4.0)\n",
      "Requirement already satisfied: filelock<4,>=3.12.2 in /opt/anaconda3/lib/python3.12/site-packages (from virtualenv>=20.10.0->pre-commit) (3.13.1)\n",
      "Requirement already satisfied: platformdirs<5,>=3.9.1 in /opt/anaconda3/lib/python3.12/site-packages (from virtualenv>=20.10.0->pre-commit) (3.10.0)\n"
     ]
    }
   ],
   "source": [
    "# install pre-commit package\n",
    "!pip install pre-commit"
   ]
  },
  {
   "cell_type": "code",
   "execution_count": 332,
   "id": "2ccaafef-d757-403e-961c-d1227a41ace3",
   "metadata": {},
   "outputs": [],
   "source": [
    "pre_commit_config = \"\"\"\n",
    "repos:\n",
    "- repo: https://github.com/psf/black\n",
    "  rev: 23.7.0\n",
    "  hooks:\n",
    "  - id: black\n",
    "- repo: https://github.com/PyCQA/isort\n",
    "  rev: 5.12.0\n",
    "  hooks:\n",
    "  - id: isort\n",
    "\"\"\"\n",
    "\n",
    "with open(\".pre-commit-config.yaml\", \"w\") as f:\n",
    "    f.write(pre_commit_config)"
   ]
  },
  {
   "cell_type": "code",
   "execution_count": 334,
   "id": "ec859efa-6fd7-46d9-8ec6-2df774f9b93c",
   "metadata": {},
   "outputs": [
    {
     "name": "stdout",
     "output_type": "stream",
     "text": [
      "pre-commit installed at .git/hooks/pre-commit\n",
      "black................................................(no files to check)\u001b[46;30mSkipped\u001b[m\n",
      "isort................................................(no files to check)\u001b[46;30mSkipped\u001b[m\n"
     ]
    }
   ],
   "source": [
    "# This will register the hook into your Git repository:\n",
    "!pre-commit install\n",
    "!pre-commit run --all-files"
   ]
  },
  {
   "cell_type": "code",
   "execution_count": 336,
   "id": "958a5768-f660-436a-8549-120f416e5d20",
   "metadata": {},
   "outputs": [
    {
     "data": {
      "text/plain": [
       "['my_package.egg-info',\n",
       " '.DS_Store',\n",
       " '.pytest_cache',\n",
       " 'dist',\n",
       " '.pre-commit-config.yaml',\n",
       " 'pyproject.toml',\n",
       " 'nats.py',\n",
       " 'Nat.txt',\n",
       " '__pycache__',\n",
       " 'test.py',\n",
       " 'setup.py',\n",
       " 'day2.ipynb',\n",
       " 'day4.ipynb',\n",
       " '.ipynb_checkpoints',\n",
       " 'day3.ipynb',\n",
       " 'blackie.py',\n",
       " 'day1.ipynb',\n",
       " 'day5.ipynb',\n",
       " 'isort.py',\n",
       " 'gil_demo.py']"
      ]
     },
     "execution_count": 336,
     "metadata": {},
     "output_type": "execute_result"
    }
   ],
   "source": [
    "import os\n",
    "os.listdir()"
   ]
  },
  {
   "cell_type": "code",
   "execution_count": 338,
   "id": "906803dc-eb57-44c0-8981-4cdc3ca146d8",
   "metadata": {},
   "outputs": [
    {
     "name": "stdout",
     "output_type": "stream",
     "text": [
      "\n",
      "repos:\n",
      "- repo: https://github.com/psf/black\n",
      "  rev: 23.7.0\n",
      "  hooks:\n",
      "  - id: black\n",
      "- repo: https://github.com/PyCQA/isort\n",
      "  rev: 5.12.0\n",
      "  hooks:\n",
      "  - id: isort\n"
     ]
    }
   ],
   "source": [
    "!cat .pre-commit-config.yaml"
   ]
  },
  {
   "cell_type": "markdown",
   "id": "c9923db1-1a5d-4ba7-8b21-48616151a9ef",
   "metadata": {},
   "source": [
    "# 26. Python Internals (Theory)"
   ]
  },
  {
   "cell_type": "markdown",
   "id": "961b9c5c-2ca1-4222-abc1-71c9a0481859",
   "metadata": {},
   "source": [
    "### Bytecode\n",
    "<p>📘 Definition: Bytecode is a compiled, intermediate representation of Python source code, which is then interpreted by the Python virtual machine.</p>\n",
    "<p>🔧 When to Use: Used when you want to understand Python execution under the hood or optimize performance.</p>\n",
    "<p>🌍 Where to Use: Bytecode is generated every time you run a Python script and can be viewed using the dis module.</p>\n",
    "<p>💡 Use Case: You can run dis.dis(function) to see how a function is compiled into bytecode instructions.</p>\n",
    "<p>⚠️ Limitations: Bytecode is specific to the Python version and not portable across different Python interpreters (e.g., PyPy, Jython).</p>\n",
    "<p>✅ Advantages: Provides insight into Python’s execution, helping with debugging and optimization.</p>\n",
    "<p>❓ Why is it Used?: To analyze or optimize how Python code is executed behind the scenes.</p>"
   ]
  },
  {
   "cell_type": "code",
   "execution_count": 345,
   "id": "1772ec31-42f8-4557-9811-9d4fd7d58fba",
   "metadata": {},
   "outputs": [
    {
     "name": "stdout",
     "output_type": "stream",
     "text": [
      "  5           0 RESUME                   0\n",
      "\n",
      "  6           2 LOAD_FAST                0 (a)\n",
      "              4 LOAD_FAST                1 (b)\n",
      "              6 BINARY_OP                0 (+)\n",
      "             10 RETURN_VALUE\n"
     ]
    }
   ],
   "source": [
    "# bytecode output you'd get when running your code through the CPython interpreter \n",
    "# dis.dis() function disassembles the add function into CPython bytecode instructions, which the CPython interpreter executes internally.\n",
    "import dis\n",
    "\n",
    "def add(a, b):\n",
    "    return a + b\n",
    "\n",
    "dis.dis(add)"
   ]
  },
  {
   "cell_type": "markdown",
   "id": "2299528f-6bcb-4eff-b10c-b87c11608a77",
   "metadata": {},
   "source": [
    "### CPython Interpreter\n",
    "<p>📘 Definition:CPython is the default and most widely used implementation of the Python programming language, written in C.</p>\n",
    "<p></p>\n",
    "<p>🔧 When to Use: Use CPython when running standard Python applications or when working with C extensions and native Python libraries.</p>\n",
    "<p>🌍 Where to Use: CPython is the default Python interpreter downloaded from python.org.</p>\n",
    "<p>💡 Use Case: Running any .py file from the command line (e.g., python script.py) executes the code using CPython.</p>\n",
    "<p>⚠️ Limitations: It is slower than some alternatives (like PyPy) due to the Global Interpreter Lock (GIL) limiting concurrency.</p>\n",
    "<p>✅ Advantages: Most stable and compatible interpreter, with extensive library support and active community.</p>\n",
    "<p>❓ Why is it Used?: Because it is the official reference implementation, widely supported, and suitable for general-purpose Python development.</p>"
   ]
  },
  {
   "cell_type": "markdown",
   "id": "b279fc4c-98de-49ca-a4ee-fc91b3dae2f6",
   "metadata": {},
   "source": [
    "### GIL (Global Interpreter Lock)\n",
    "<p>📘 Definition: The Global Interpreter Lock (GIL) is a mutex in CPython that allows only one thread to execute Python bytecode at a time, even on multi-core processors.</p>\n",
    "<p>🔧 When to Use: You encounter the effects of the GIL when using multithreading for CPU-bound tasks in Python.</p>\n",
    "<p>🌍 Where to Use: Relevant in CPython, especially when working with threads or analyzing performance issues in concurrent programs.</p>\n",
    "<p>💡 Use Case: When using the threading module to perform CPU-bound operations, you may notice no performance gain due to the GIL.</p>\n",
    "<p>⚠️ Limitations: Prevents true parallel execution of threads, limiting performance for CPU-bound multithreaded programs.</p>\n",
    "<p>✅ Advantages: Simplifies memory management and keeps CPython safe and stable, especially for beginners.</p>\n",
    "<p>❓ Why is it Used?: Used to avoid race conditions and simplify object memory management in the CPython interpreter.</p>"
   ]
  },
  {
   "cell_type": "code",
   "execution_count": 349,
   "id": "4b97decb-531f-4027-a8ba-13da51b5727c",
   "metadata": {},
   "outputs": [
    {
     "name": "stdout",
     "output_type": "stream",
     "text": [
      "Time taken with threads: 0.54 seconds\n"
     ]
    }
   ],
   "source": [
    "# how the GIL affects multithreading:\n",
    "# CPU-bound task with threads (slowed by GIL)# how the GIL affects multithreading:\n",
    "import threading\n",
    "import time\n",
    "\n",
    "def cpu_bound_task():\n",
    "    x = 0\n",
    "    for _ in range(10**7):\n",
    "        x += 1\n",
    "\n",
    "start = time.time()\n",
    "\n",
    "threads = []\n",
    "for _ in range(2):  # Two threads\n",
    "    t = threading.Thread(target=cpu_bound_task)\n",
    "    t.start()\n",
    "    threads.append(t)\n",
    "\n",
    "for t in threads:\n",
    "    t.join()\n",
    "\n",
    "end = time.time()\n",
    "print(f\"Time taken with threads: {end - start:.2f} seconds\")"
   ]
  },
  {
   "cell_type": "code",
   "execution_count": 351,
   "id": "1e43507d-34b1-4258-9c8e-38bd878ea6da",
   "metadata": {},
   "outputs": [],
   "source": [
    "gil_demo = \"\"\"from multiprocessing import Process\n",
    "import time\n",
    "\n",
    "def cpu_bound_task():\n",
    "    x = 0\n",
    "    for _ in range(10**7):\n",
    "        x += 1\n",
    "\n",
    "if __name__ == \"__main__\":\n",
    "    start = time.time()\n",
    "\n",
    "    processes = []\n",
    "    for _ in range(2):\n",
    "        p = Process(target=cpu_bound_task)\n",
    "        p.start()\n",
    "        processes.append(p)\n",
    "\n",
    "    for p in processes:\n",
    "        p.join()\n",
    "\n",
    "    end = time.time()\n",
    "    print(f\"Time taken with processes: {end - start:.2f} seconds\")\"\"\"\n",
    "\n",
    "with open(\"gil_demo.py\", \"w\") as g:\n",
    "    g.write(gil_demo)"
   ]
  },
  {
   "cell_type": "code",
   "execution_count": 353,
   "id": "423a08d8-11a4-4705-b515-c8dbdea05f44",
   "metadata": {},
   "outputs": [
    {
     "name": "stdout",
     "output_type": "stream",
     "text": [
      "Time taken with processes: 0.31 seconds\n"
     ]
    }
   ],
   "source": [
    "!python gil_demo.py"
   ]
  },
  {
   "cell_type": "code",
   "execution_count": 355,
   "id": "9acb25ca-c59c-45b1-be28-03fc6947b7a5",
   "metadata": {},
   "outputs": [
    {
     "name": "stdout",
     "output_type": "stream",
     "text": [
      "Time taken with processes: 0.06 seconds\n"
     ]
    },
    {
     "name": "stderr",
     "output_type": "stream",
     "text": [
      "Traceback (most recent call last):\n",
      "  File \"<string>\", line 1, in <module>\n",
      "  File \"/opt/anaconda3/lib/python3.12/multiprocessing/spawn.py\", line 122, in spawn_main\n",
      "    exitcode = _main(fd, parent_sentinel)\n",
      "               ^^^^^^^^^^^^^^^^^^^^^^^^^^\n",
      "  File \"/opt/anaconda3/lib/python3.12/multiprocessing/spawn.py\", line 132, in _main\n",
      "    self = reduction.pickle.load(from_parent)\n",
      "           ^^^^^^^^^^^^^^^^^^^^^^^^^^^^^^^^^^\n",
      "AttributeError: Can't get attribute 'cpu_bound_task' on <module '__main__' (<class '_frozen_importlib.BuiltinImporter'>)>\n",
      "Traceback (most recent call last):\n",
      "  File \"<string>\", line 1, in <module>\n",
      "  File \"/opt/anaconda3/lib/python3.12/multiprocessing/spawn.py\", line 122, in spawn_main\n",
      "    exitcode = _main(fd, parent_sentinel)\n",
      "               ^^^^^^^^^^^^^^^^^^^^^^^^^^\n",
      "  File \"/opt/anaconda3/lib/python3.12/multiprocessing/spawn.py\", line 132, in _main\n",
      "    self = reduction.pickle.load(from_parent)\n",
      "           ^^^^^^^^^^^^^^^^^^^^^^^^^^^^^^^^^^\n",
      "AttributeError: Can't get attribute 'cpu_bound_task' on <module '__main__' (<class '_frozen_importlib.BuiltinImporter'>)>\n"
     ]
    }
   ],
   "source": [
    "# error due to execution in jupyter notebook\n",
    "#  Using multiprocessing to bypass GIL:\n",
    "from multiprocessing import Process\n",
    "import time\n",
    "\n",
    "def cpu_bound_task():\n",
    "    x = 0\n",
    "    for _ in range(10**7):\n",
    "        x += 1\n",
    "\n",
    "if __name__ == \"__main__\":\n",
    "    start = time.time()\n",
    "\n",
    "    processes = []\n",
    "    for _ in range(2):\n",
    "        p = Process(target=cpu_bound_task)\n",
    "        p.start()\n",
    "        processes.append(p)\n",
    "\n",
    "    for p in processes:\n",
    "        p.join()\n",
    "\n",
    "    end = time.time()\n",
    "    print(f\"Time taken with processes: {end - start:.2f} seconds\")"
   ]
  },
  {
   "cell_type": "markdown",
   "id": "d92c5ccd-26f9-4ac7-8fce-49ab2f1ff375",
   "metadata": {},
   "source": [
    "### Memory Model\n",
    "<p>📘 Definition: Python’s memory model defines how memory is allocated, managed, and accessed for variables, objects, and data structures during execution.\n",
    "\n",
    "\n",
    "\n",
    "\n",
    "\n",
    "</p>\n",
    "<p>🔧 When to Use: Understanding it helps when debugging memory leaks, optimizing performance, or working with mutable and immutable types.</p>\n",
    "<p>🌍 Where to Use: It’s relevant when working with reference types, variable assignments, or memory profiling tools like sys.getsizeof().</p>\n",
    "<p>💡 Use Case: Knowing that variables are references to objects helps avoid unexpected bugs when modifying mutable data structures like lists or dicts.</p>\n",
    "<p>⚠️ Limitations: The model is implementation-dependent (varies between CPython, PyPy, etc.) and can be non-intuitive for beginners.</p>\n",
    "<p>✅ Advantages: Helps understand variable behavior, memory efficiency, and how garbage collection works in Python.</p>\n",
    "<p>❓ Why is it Used?: To understand how Python stores and shares objects, aiding in more predictable and efficient coding.</p>"
   ]
  },
  {
   "cell_type": "markdown",
   "id": "492c2c80-de56-4531-a1cb-c242b253c2a8",
   "metadata": {},
   "source": [
    "### Object Lifecycle\n",
    "<p>📘 Definition: An object’s lifecycle in Python spans from its creation (instantiation) to its destruction (garbage collection).</p>\n",
    "<p>🔧 When to Use: Important to understand when managing resources like files or network connections, or using __del__() or context managers.</p>\n",
    "<p>🌍 Where to Use: Used in classes with custom constructors and destructors, or when working with resource-heavy applications.</p>\n",
    "<p>💡 Use Case: Using __init__ to initialize and __del__ or with statements to manage and release resources at the right time.</p>\n",
    "<p>⚠️ Limitations: Over-reliance on __del__() can be risky, as object destruction timing is not guaranteed in Python.</p>\n",
    "<p>✅ Advantages: Gives control over initialization, cleanup, and helps manage resources predictably.</p>\n",
    "<p>❓ Why is it Used?: To control how and when an object is created, used, and destroyed, ensuring better resource and memory management.</p>"
   ]
  }
 ],
 "metadata": {
  "kernelspec": {
   "display_name": "Python [conda env:base] *",
   "language": "python",
   "name": "conda-base-py"
  },
  "language_info": {
   "codemirror_mode": {
    "name": "ipython",
    "version": 3
   },
   "file_extension": ".py",
   "mimetype": "text/x-python",
   "name": "python",
   "nbconvert_exporter": "python",
   "pygments_lexer": "ipython3",
   "version": "3.12.7"
  }
 },
 "nbformat": 4,
 "nbformat_minor": 5
}
