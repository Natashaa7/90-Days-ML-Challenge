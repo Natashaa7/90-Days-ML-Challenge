{
 "cells": [
  {
   "cell_type": "markdown",
   "id": "4bf619c4-0cb0-43ff-85d1-38ad76cd8772",
   "metadata": {},
   "source": [
    "### Python intermediate level"
   ]
  },
  {
   "cell_type": "code",
   "execution_count": 35,
   "id": "ba2f2135-6941-4e75-9684-21d431473305",
   "metadata": {},
   "outputs": [
    {
     "name": "stdout",
     "output_type": "stream",
     "text": [
      "Requirement already satisfied: import-ipynb in /opt/anaconda3/lib/python3.12/site-packages (0.2)\n",
      "Requirement already satisfied: IPython in /opt/anaconda3/lib/python3.12/site-packages (from import-ipynb) (8.27.0)\n",
      "Requirement already satisfied: nbformat in /opt/anaconda3/lib/python3.12/site-packages (from import-ipynb) (5.10.4)\n",
      "Requirement already satisfied: decorator in /opt/anaconda3/lib/python3.12/site-packages (from IPython->import-ipynb) (5.1.1)\n",
      "Requirement already satisfied: jedi>=0.16 in /opt/anaconda3/lib/python3.12/site-packages (from IPython->import-ipynb) (0.19.1)\n",
      "Requirement already satisfied: matplotlib-inline in /opt/anaconda3/lib/python3.12/site-packages (from IPython->import-ipynb) (0.1.6)\n",
      "Requirement already satisfied: prompt-toolkit<3.1.0,>=3.0.41 in /opt/anaconda3/lib/python3.12/site-packages (from IPython->import-ipynb) (3.0.43)\n",
      "Requirement already satisfied: pygments>=2.4.0 in /opt/anaconda3/lib/python3.12/site-packages (from IPython->import-ipynb) (2.15.1)\n",
      "Requirement already satisfied: stack-data in /opt/anaconda3/lib/python3.12/site-packages (from IPython->import-ipynb) (0.2.0)\n",
      "Requirement already satisfied: traitlets>=5.13.0 in /opt/anaconda3/lib/python3.12/site-packages (from IPython->import-ipynb) (5.14.3)\n",
      "Requirement already satisfied: pexpect>4.3 in /opt/anaconda3/lib/python3.12/site-packages (from IPython->import-ipynb) (4.8.0)\n",
      "Requirement already satisfied: fastjsonschema>=2.15 in /opt/anaconda3/lib/python3.12/site-packages (from nbformat->import-ipynb) (2.16.2)\n",
      "Requirement already satisfied: jsonschema>=2.6 in /opt/anaconda3/lib/python3.12/site-packages (from nbformat->import-ipynb) (4.23.0)\n",
      "Requirement already satisfied: jupyter-core!=5.0.*,>=4.12 in /opt/anaconda3/lib/python3.12/site-packages (from nbformat->import-ipynb) (5.7.2)\n",
      "Requirement already satisfied: parso<0.9.0,>=0.8.3 in /opt/anaconda3/lib/python3.12/site-packages (from jedi>=0.16->IPython->import-ipynb) (0.8.3)\n",
      "Requirement already satisfied: attrs>=22.2.0 in /opt/anaconda3/lib/python3.12/site-packages (from jsonschema>=2.6->nbformat->import-ipynb) (23.1.0)\n",
      "Requirement already satisfied: jsonschema-specifications>=2023.03.6 in /opt/anaconda3/lib/python3.12/site-packages (from jsonschema>=2.6->nbformat->import-ipynb) (2023.7.1)\n",
      "Requirement already satisfied: referencing>=0.28.4 in /opt/anaconda3/lib/python3.12/site-packages (from jsonschema>=2.6->nbformat->import-ipynb) (0.30.2)\n",
      "Requirement already satisfied: rpds-py>=0.7.1 in /opt/anaconda3/lib/python3.12/site-packages (from jsonschema>=2.6->nbformat->import-ipynb) (0.10.6)\n",
      "Requirement already satisfied: platformdirs>=2.5 in /opt/anaconda3/lib/python3.12/site-packages (from jupyter-core!=5.0.*,>=4.12->nbformat->import-ipynb) (3.10.0)\n",
      "Requirement already satisfied: ptyprocess>=0.5 in /opt/anaconda3/lib/python3.12/site-packages (from pexpect>4.3->IPython->import-ipynb) (0.7.0)\n",
      "Requirement already satisfied: wcwidth in /opt/anaconda3/lib/python3.12/site-packages (from prompt-toolkit<3.1.0,>=3.0.41->IPython->import-ipynb) (0.2.5)\n",
      "Requirement already satisfied: executing in /opt/anaconda3/lib/python3.12/site-packages (from stack-data->IPython->import-ipynb) (0.8.3)\n",
      "Requirement already satisfied: asttokens in /opt/anaconda3/lib/python3.12/site-packages (from stack-data->IPython->import-ipynb) (2.0.5)\n",
      "Requirement already satisfied: pure-eval in /opt/anaconda3/lib/python3.12/site-packages (from stack-data->IPython->import-ipynb) (0.2.2)\n",
      "Requirement already satisfied: six in /opt/anaconda3/lib/python3.12/site-packages (from asttokens->stack-data->IPython->import-ipynb) (1.16.0)\n"
     ]
    }
   ],
   "source": [
    "!pip install import-ipynb\n",
    "import import_ipynb\n",
    "from day1 import eligible"
   ]
  },
  {
   "cell_type": "code",
   "execution_count": 32,
   "id": "db0e442c-86ce-489e-a1e6-e33fd66b90cb",
   "metadata": {},
   "outputs": [
    {
     "data": {
      "text/plain": [
       "'Not eligible'"
      ]
     },
     "execution_count": 32,
     "metadata": {},
     "output_type": "execute_result"
    }
   ],
   "source": [
    "eligible(16)"
   ]
  },
  {
   "cell_type": "markdown",
   "id": "a364ce0f-2342-4e40-b3b9-e47df0f04344",
   "metadata": {},
   "source": [
    "### 8. Error handling"
   ]
  },
  {
   "cell_type": "code",
   "execution_count": 50,
   "id": "fba5a17a-ca90-4873-b603-cb7569dc2e49",
   "metadata": {},
   "outputs": [
    {
     "name": "stdin",
     "output_type": "stream",
     "text": [
      "Enter a number:  7\n"
     ]
    },
    {
     "name": "stdout",
     "output_type": "stream",
     "text": [
      "The answer is:  1.4285714285714286\n"
     ]
    }
   ],
   "source": [
    "try:\n",
    "    n = int(input(\"Enter a number: \"))\n",
    "    x = 10/n\n",
    "    print(\"The answer is: \", x)\n",
    "except ZeroDivisionError:\n",
    "    print(\"Division by zero is not allowed\")"
   ]
  },
  {
   "cell_type": "code",
   "execution_count": 54,
   "id": "3ad44ee2-a9bf-4b07-ba8d-ebbaf30d9013",
   "metadata": {},
   "outputs": [
    {
     "name": "stdin",
     "output_type": "stream",
     "text": [
      "Enter a number:  ds\n"
     ]
    },
    {
     "name": "stdout",
     "output_type": "stream",
     "text": [
      "That's not a valid number.\n",
      "Execution completed.\n"
     ]
    }
   ],
   "source": [
    "try:\n",
    "    num = int(input(\"Enter a number: \"))\n",
    "    res = 10 / num\n",
    "except ZeroDivisionError:\n",
    "    print(\"You can't divide by zero.\")\n",
    "except ValueError:\n",
    "    print(\"That's not a valid number.\")\n",
    "else:\n",
    "    print(\"Result is:\", res)\n",
    "finally:\n",
    "    print(\"Execution completed.\")"
   ]
  },
  {
   "cell_type": "code",
   "execution_count": 70,
   "id": "ac4f0263-64ed-41a3-a199-c6e652ddfa34",
   "metadata": {},
   "outputs": [
    {
     "name": "stdin",
     "output_type": "stream",
     "text": [
      "Enter your age:  -1\n"
     ]
    },
    {
     "ename": "ValueError",
     "evalue": "Age cannot be negative",
     "output_type": "error",
     "traceback": [
      "\u001b[0;31m---------------------------------------------------------------------------\u001b[0m",
      "\u001b[0;31mValueError\u001b[0m                                Traceback (most recent call last)",
      "Cell \u001b[0;32mIn[70], line 4\u001b[0m\n\u001b[1;32m      1\u001b[0m age \u001b[38;5;241m=\u001b[39m \u001b[38;5;28mint\u001b[39m(\u001b[38;5;28minput\u001b[39m(\u001b[38;5;124m\"\u001b[39m\u001b[38;5;124mEnter your age: \u001b[39m\u001b[38;5;124m\"\u001b[39m))\n\u001b[1;32m      3\u001b[0m \u001b[38;5;28;01mif\u001b[39;00m age \u001b[38;5;241m<\u001b[39m \u001b[38;5;241m0\u001b[39m:\n\u001b[0;32m----> 4\u001b[0m     \u001b[38;5;28;01mraise\u001b[39;00m \u001b[38;5;167;01mValueError\u001b[39;00m(\u001b[38;5;124m\"\u001b[39m\u001b[38;5;124mAge cannot be negative\u001b[39m\u001b[38;5;124m\"\u001b[39m)\n\u001b[1;32m      5\u001b[0m \u001b[38;5;28;01melse\u001b[39;00m:\n\u001b[1;32m      6\u001b[0m     \u001b[38;5;28mprint\u001b[39m(\u001b[38;5;124m\"\u001b[39m\u001b[38;5;124mAge is valid\u001b[39m\u001b[38;5;124m\"\u001b[39m)\n",
      "\u001b[0;31mValueError\u001b[0m: Age cannot be negative"
     ]
    }
   ],
   "source": [
    "age = int(input(\"Enter your age: \"))\n",
    "\n",
    "if age < 0:\n",
    "    raise ValueError(\"Age cannot be negative\")\n",
    "else:\n",
    "    print(\"Age is valid\")"
   ]
  },
  {
   "cell_type": "code",
   "execution_count": 92,
   "id": "7d0ac598-21fb-4dfb-aa88-d9e0279fdd18",
   "metadata": {},
   "outputs": [
    {
     "name": "stdin",
     "output_type": "stream",
     "text": [
      "Enter your age:  17\n"
     ]
    },
    {
     "name": "stdout",
     "output_type": "stream",
     "text": [
      "Custom Error Caught: Age 17 is too young to register.\n"
     ]
    }
   ],
   "source": [
    "class TooYoungError(Exception):\n",
    "    def __init__(self, age):\n",
    "        super().__init__(f\"Age {age} is too young to register.\")\n",
    "\n",
    "def register(age):\n",
    "    if age < 18:\n",
    "        raise TooYoungError(age)\n",
    "    print(\"Registration successful.\")\n",
    "\n",
    "try:\n",
    "    age = int(input(\"Enter your age: \"))\n",
    "    register(age)\n",
    "except TooYoungError as e:\n",
    "    print(\"Custom Error Caught:\", e)"
   ]
  },
  {
   "cell_type": "markdown",
   "id": "d91f666f-1362-486f-84bf-e3e38a0b34af",
   "metadata": {},
   "source": [
    "### 9. Object Oriented Programming(OOP)"
   ]
  },
  {
   "cell_type": "code",
   "execution_count": 160,
   "id": "7080386d-27b4-4e92-b89e-c513ab69f8a7",
   "metadata": {},
   "outputs": [
    {
     "name": "stdin",
     "output_type": "stream",
     "text": [
      "Enter dog's name:  corazon\n",
      "Enter dog's age:  4\n"
     ]
    },
    {
     "name": "stdout",
     "output_type": "stream",
     "text": [
      "corazon 4 Golden Retriever\n",
      "Golden Retriever\n",
      "The dog's name is corazon and they are 4 years old.\n"
     ]
    }
   ],
   "source": [
    "# Define a class\n",
    "class Dog:\n",
    "    species = \"Golden Retriever\" # Class attribute\n",
    "    def __init__(self, name, age):\n",
    "        self.name = name   # instance variable\n",
    "        self.age = age\n",
    "\n",
    "    def info(self):\n",
    "        print(f\"The dog's name is {self.name} and they are {self.age} years old.\")\n",
    "\n",
    "# Take input from the user\n",
    "name = input(\"Enter dog's name: \")\n",
    "age = int(input(\"Enter dog's age: \"))\n",
    "\n",
    "# Create an object using input values\n",
    "d = Dog(name, age)\n",
    "print(d.name, d.age, d.species) #Access instance and object\n",
    "print(Dog.species) #Access class attribute directly\n",
    "d.info()"
   ]
  },
  {
   "cell_type": "code",
   "execution_count": 21,
   "id": "36ddb8c6-3259-40c2-a502-e1ef2f89a039",
   "metadata": {},
   "outputs": [
    {
     "name": "stdout",
     "output_type": "stream",
     "text": [
      "The dog's name is Bam and they are 4 years old.\n",
      "None\n",
      "Doberman\n"
     ]
    }
   ],
   "source": [
    "#Modify the class and instance variables\n",
    "d.name = \"Bam\"\n",
    "d.species = \"Doberman\"\n",
    "print(d.info())\n",
    "print(d.species)"
   ]
  },
  {
   "cell_type": "code",
   "execution_count": 29,
   "id": "799dcdd1-def6-4ee3-9987-3fca3e4a1c8b",
   "metadata": {},
   "outputs": [
    {
     "name": "stdout",
     "output_type": "stream",
     "text": [
      "Dog's Name: Corazon\n",
      "Golden retriever has long shiny golden retriever.\n",
      "Dog's Name: Tannie\n",
      "Tannie Guides the way!\n",
      "Dog's Name: Bam\n",
      "Friendly!\n",
      "Doberman Barks\n"
     ]
    }
   ],
   "source": [
    "# Single Inheritance\n",
    "class Dog:\n",
    "    def __init__(self, name):\n",
    "        self.name = name\n",
    "\n",
    "    def display_name(self):\n",
    "        print(f\"Dog's Name: {self.name}\")\n",
    "\n",
    "class Goldy(Dog):  # Single Inheritance\n",
    "    def trait(self):\n",
    "        print(\"Golden retriever has long shiny golden retriever.\")\n",
    "\n",
    "# Multilevel Inheritance\n",
    "class GuideDog(Goldy):  # Multilevel Inheritance\n",
    "    def guide(self):\n",
    "        print(f\"{self.name} Guides the way!\")\n",
    "\n",
    "# Multiple Inheritance\n",
    "class Friendly:\n",
    "    def greet(self):\n",
    "        print(\"Friendly!\")\n",
    "\n",
    "class Doberman(Dog, Friendly):  # Multiple Inheritance\n",
    "    def sound(self):\n",
    "        print(\"Doberman Barks\")\n",
    "\n",
    "# Example Usage\n",
    "gold = Goldy(\"Corazon\")\n",
    "gold.display_name()\n",
    "gold.trait()\n",
    "\n",
    "guide_dog = GuideDog(\"Tannie\")\n",
    "guide_dog.display_name()\n",
    "guide_dog.guide()\n",
    "\n",
    "dob = Doberman(\"Bam\")\n",
    "dob.display_name()\n",
    "dob.greet()\n",
    "dob.sound()"
   ]
  },
  {
   "cell_type": "code",
   "execution_count": 49,
   "id": "6e83ea65-6943-443f-8353-c6191298d646",
   "metadata": {},
   "outputs": [
    {
     "name": "stdout",
     "output_type": "stream",
     "text": [
      "Four wheels\n",
      "Four wheels\n",
      "Horse logo\n",
      "Porsche AG\n"
     ]
    }
   ],
   "source": [
    "#Method overriding\n",
    "class Car():\n",
    "    #Constructor\n",
    "    def __init__(self):\n",
    "        self.value = \"Four wheels\"\n",
    "\n",
    "    #Parent's show method\n",
    "    def show(self):\n",
    "        print(self.value)\n",
    "\n",
    "class Company():\n",
    "    #Constructor\n",
    "    def display(self):\n",
    "        print(\"Porsche AG\")\n",
    "\n",
    "class Porsche(Car, Company):\n",
    "    #Constructor\n",
    "    def __init__(self):\n",
    "        super().__init__() #Call parent constructor\n",
    "        super().show()\n",
    "        self.value = \"Horse logo\"\n",
    "\n",
    "    #Child's show method\n",
    "    def show(self):\n",
    "        print(self.value)\n",
    "\n",
    "#Driver's code\n",
    "c = Car()\n",
    "p = Porsche()\n",
    "\n",
    "c.show()\n",
    "p.show()\n",
    "p.display()"
   ]
  },
  {
   "cell_type": "code",
   "execution_count": 158,
   "id": "39048e83-8793-4b77-8e7d-97efeb5486f4",
   "metadata": {},
   "outputs": [
    {
     "name": "stdout",
     "output_type": "stream",
     "text": [
      "718 Cayman\n",
      "Porsche\n",
      "1234567\n",
      "Name: 718 Cayman, Brand: Porsche, Price: 1345678\n"
     ]
    }
   ],
   "source": [
    "#Encapsulation\n",
    "class Car():\n",
    "    #Constructor\n",
    "    def __init__(self, name, brand, price):\n",
    "        self.name = name # Public attribute\n",
    "        self._brand = brand # Protected attribute\n",
    "        self.__price = price #P rivate attribute\n",
    "\n",
    "    #Public method\n",
    "    def get_info(self):\n",
    "        return f\"Name: {self.name}, Brand: {self._brand}, Price: {self.__price}\"\n",
    "\n",
    "    # getter and setter for private attributes\n",
    "    def get_price(self):\n",
    "        return self.__price\n",
    "\n",
    "    def set_price(self, price):\n",
    "        if price > 120000:\n",
    "            self.__price = price\n",
    "        else:\n",
    "            print(\"Price too low\")\n",
    "\n",
    "car = Car(\"718 Cayman\", \"Porsche\", 1234567)\n",
    "\n",
    "# accessing public member\n",
    "print(car.name)\n",
    "\n",
    "# accessing protected member\n",
    "print(car._brand)\n",
    "\n",
    "# accessing private member using getter and setter\n",
    "print(car.get_price())\n",
    "\n",
    "# modifying private member using setter\n",
    "car.set_price(1345678)\n",
    "print(car.get_info())"
   ]
  },
  {
   "cell_type": "code",
   "execution_count": 61,
   "id": "88f57890-42c2-4f29-aaac-856307bf4881",
   "metadata": {},
   "outputs": [
    {
     "name": "stdout",
     "output_type": "stream",
     "text": [
      "Car's Name: tes\n",
      "Tesla goes smoothhh\n",
      "Car's Name: ferr\n",
      "Ferrari produces a loud sound\n"
     ]
    }
   ],
   "source": [
    "from abc import ABC, abstractmethod\n",
    "\n",
    "class Car(ABC):  # Abstract Class\n",
    "    def __init__(self, name):\n",
    "        self.name = name\n",
    "\n",
    "    @abstractmethod\n",
    "    def sound(self):  # Abstract Method\n",
    "        pass\n",
    "\n",
    "    def display_name(self):  # Concrete Method\n",
    "        print(f\"Car's Name: {self.name}\")\n",
    "\n",
    "class Tesla(Car):  # Partial Abstraction\n",
    "    def sound(self):\n",
    "        print(\"Tesla goes smoothhh\")\n",
    "\n",
    "class Ferrari(Car):  # Partial Abstraction\n",
    "    def sound(self):\n",
    "        print(\"Ferrari produces a loud sound\")\n",
    "\n",
    "# Example Usage\n",
    "cars = [Tesla(\"tes\"), Ferrari(\"ferr\")]\n",
    "for car in cars:\n",
    "    car.display_name()  # Calls concrete method\n",
    "    car.sound()  # Calls implemented abstract method"
   ]
  },
  {
   "cell_type": "code",
   "execution_count": 63,
   "id": "017cbce2-1384-4190-86e3-2dd4ecc3baa6",
   "metadata": {},
   "outputs": [
    {
     "name": "stdout",
     "output_type": "stream",
     "text": [
      "['__abs__', '__add__', '__and__', '__bool__', '__ceil__', '__class__', '__delattr__', '__dir__', '__divmod__', '__doc__', '__eq__', '__float__', '__floor__', '__floordiv__', '__format__', '__ge__', '__getattribute__', '__getnewargs__', '__getstate__', '__gt__', '__hash__', '__index__', '__init__', '__init_subclass__', '__int__', '__invert__', '__le__', '__lshift__', '__lt__', '__mod__', '__mul__', '__ne__', '__neg__', '__new__', '__or__', '__pos__', '__pow__', '__radd__', '__rand__', '__rdivmod__', '__reduce__', '__reduce_ex__', '__repr__', '__rfloordiv__', '__rlshift__', '__rmod__', '__rmul__', '__ror__', '__round__', '__rpow__', '__rrshift__', '__rshift__', '__rsub__', '__rtruediv__', '__rxor__', '__setattr__', '__sizeof__', '__str__', '__sub__', '__subclasshook__', '__truediv__', '__trunc__', '__xor__', 'as_integer_ratio', 'bit_count', 'bit_length', 'conjugate', 'denominator', 'from_bytes', 'imag', 'is_integer', 'numerator', 'real', 'to_bytes']\n"
     ]
    }
   ],
   "source": [
    "#Magic methods\n",
    "print(dir(int))"
   ]
  },
  {
   "cell_type": "code",
   "execution_count": 81,
   "id": "004b55d3-79b2-42f5-8bbc-4fa60eee4bcf",
   "metadata": {},
   "outputs": [
    {
     "name": "stdin",
     "output_type": "stream",
     "text": [
      "Enter the name:  Harry potter\n",
      "Enter the number of pages:  235\n",
      "Enter the number of copies:  23\n",
      "Enter the code:  32\n"
     ]
    },
    {
     "name": "stdout",
     "output_type": "stream",
     "text": [
      "Harry potter 235 23 32\n",
      "The book's name is Harry potter\n",
      "235\n",
      "The total copies are 26\n",
      "Is the book authentic?: False\n"
     ]
    }
   ],
   "source": [
    "# magic methods\n",
    "class Book():\n",
    "    def __init__(self, name, pages, copies, auth):\n",
    "        self.name = name\n",
    "        self.pages = pages\n",
    "        self.copies = copies\n",
    "        self.auth = auth\n",
    "\n",
    "    def __str__(self):\n",
    "        return f\"The book's name is {self.name}\"\n",
    "\n",
    "    def __len__(self):\n",
    "        return self.pages  # Must return int for len()\n",
    "\n",
    "    def __add__(self, other):\n",
    "        return f\"The total copies are {self.copies + other.copies}\"\n",
    "\n",
    "    def __eq__(self, other):\n",
    "        return f\"Is the book authentic?: {self.auth == other.auth}\"\n",
    "\n",
    "# Input for first book\n",
    "name = input(\"Enter the name: \")\n",
    "pages = int(input(\"Enter the number of pages: \"))\n",
    "copies = int(input(\"Enter the number of copies: \"))\n",
    "auth = int(input(\"Enter the code: \"))\n",
    "\n",
    "b = Book(name, pages, copies, auth)\n",
    "\n",
    "print(b.name, b.pages, b.copies, b.auth)  \n",
    "print(str(b))                             # __str__ method\n",
    "print(len(b))                             # __len__ method\n",
    "\n",
    "\n",
    "b2 = Book(\"Other Book\", 200, 3, 12)\n",
    "print(b + b2)                             # __add__ method\n",
    "print(b == b2)                            # __eq__ method"
   ]
  },
  {
   "cell_type": "markdown",
   "id": "7b4e8634-b695-47a6-80e1-e610c4016d2b",
   "metadata": {},
   "source": [
    "### 10. Iterators and Generators"
   ]
  },
  {
   "cell_type": "code",
   "execution_count": 98,
   "id": "34bee934-3c66-4785-b798-1a15ff1cda26",
   "metadata": {},
   "outputs": [
    {
     "name": "stdout",
     "output_type": "stream",
     "text": [
      "Reading page 1\n",
      "Reading page 2\n",
      "Reading page 3\n",
      "Reading page 4\n",
      "Reading page 5\n",
      "Reading page 6\n",
      "Reading page 7\n",
      "Reading page 8\n",
      "Reading page 9\n"
     ]
    }
   ],
   "source": [
    "# __iter__() and __next__()\n",
    "class Book:\n",
    "    def __init__(self, name, pages):\n",
    "        self.name = name\n",
    "        self.pages = pages\n",
    "        self.current_page = 1\n",
    "\n",
    "    def __iter__(self):\n",
    "        self.current_page = 1  # Reset for new iteration\n",
    "        return self\n",
    "\n",
    "    def __next__(self):\n",
    "        if self.current_page <= self.pages:\n",
    "            page = self.current_page\n",
    "            self.current_page += 1\n",
    "            return f\"Reading page {page}\"\n",
    "        else:\n",
    "            raise StopIteration\n",
    "\n",
    "b = Book(\"Python Guide\", 9)\n",
    "\n",
    "for page in b:\n",
    "    print(page)"
   ]
  },
  {
   "cell_type": "code",
   "execution_count": 108,
   "id": "f2d312f5-0676-402b-ba6e-4bd234a7ad7c",
   "metadata": {},
   "outputs": [
    {
     "name": "stdout",
     "output_type": "stream",
     "text": [
      "1\n",
      "2\n",
      "3\n",
      "4\n",
      "5\n",
      "Reading page 1\n",
      "Reading page 2\n",
      "Reading page 3\n"
     ]
    }
   ],
   "source": [
    "# Generator functions with yield\n",
    "def count(n):\n",
    "    i = 1\n",
    "    while i <= n:\n",
    "        yield i\n",
    "        i += 1\n",
    "        \n",
    "gen = count(5)\n",
    "\n",
    "for num in gen:\n",
    "    print(num)\n",
    "\n",
    "# another example\n",
    "def pages(total_pages):\n",
    "    for i in range(1, total_pages + 1):\n",
    "        yield f\"Reading page {i}\"\n",
    "\n",
    "# Using the generator\n",
    "for page in pages(3):\n",
    "    print(page)"
   ]
  },
  {
   "cell_type": "code",
   "execution_count": 112,
   "id": "184d5d32-8a81-4d82-8b1c-737c21da4f02",
   "metadata": {},
   "outputs": [
    {
     "name": "stdout",
     "output_type": "stream",
     "text": [
      "1\n",
      "4\n",
      "27\n",
      "256\n",
      "3125\n"
     ]
    }
   ],
   "source": [
    "# generator expression\n",
    "squares = (x ** x for x in range(1, 6))\n",
    "\n",
    "for num in squares:\n",
    "    print(num)"
   ]
  },
  {
   "cell_type": "code",
   "execution_count": 114,
   "id": "20d338fa-d4b1-44e5-9896-4917ef307992",
   "metadata": {},
   "outputs": [
    {
     "name": "stdout",
     "output_type": "stream",
     "text": [
      "Sum is: 15\n"
     ]
    }
   ],
   "source": [
    "total = sum(x for x in range(1, 6))  # 1+2+3+4+5\n",
    "print(\"Sum is:\", total)"
   ]
  },
  {
   "cell_type": "markdown",
   "id": "06fd8e9d-72bc-4704-8e8d-f9a941de7bca",
   "metadata": {},
   "source": [
    "### 11. Decorators and Closures"
   ]
  },
  {
   "cell_type": "code",
   "execution_count": 118,
   "id": "8c99b88f-8840-4557-9c2c-bab7462880f5",
   "metadata": {},
   "outputs": [
    {
     "name": "stdout",
     "output_type": "stream",
     "text": [
      "I'm the outer function.\n",
      "I'm the inner function.\n"
     ]
    }
   ],
   "source": [
    "# inner functions\n",
    "def outer():\n",
    "    print(\"I'm the outer function.\")\n",
    "\n",
    "    def inner():\n",
    "        print(\"I'm the inner function.\")\n",
    "    inner()\n",
    "outer()"
   ]
  },
  {
   "cell_type": "code",
   "execution_count": 124,
   "id": "375f37f3-9465-41b8-bf7f-1fe6fdcb16ed",
   "metadata": {},
   "outputs": [
    {
     "name": "stdout",
     "output_type": "stream",
     "text": [
      "x = 10\n"
     ]
    }
   ],
   "source": [
    "#closure\n",
    "def outer(x):\n",
    "    def inner():\n",
    "        print(f\"x = {x}\")  # uses x from outer\n",
    "    return inner  # returns inner function\n",
    "\n",
    "closure_func = outer(10)\n",
    "closure_func()  "
   ]
  },
  {
   "cell_type": "code",
   "execution_count": 130,
   "id": "41916c77-25ef-45b0-a756-7ca8ef921f92",
   "metadata": {},
   "outputs": [
    {
     "name": "stdout",
     "output_type": "stream",
     "text": [
      "Before the function runs\n",
      "Hello!\n",
      "After the function runs\n"
     ]
    }
   ],
   "source": [
    "# decorators\n",
    "def my_decorator(func):\n",
    "    def wrapper():\n",
    "        print(\"Before the function runs\")\n",
    "        func()\n",
    "        print(\"After the function runs\")\n",
    "    return wrapper\n",
    "\n",
    "@my_decorator  # This is equivalent to: greet = my_decorator(greet)\n",
    "def greet():\n",
    "    print(\"Hello!\")\n",
    "\n",
    "greet()"
   ]
  },
  {
   "cell_type": "code",
   "execution_count": 136,
   "id": "63a84a4d-e9d3-46c5-bd36-d9a68abd5820",
   "metadata": {},
   "outputs": [
    {
     "name": "stdout",
     "output_type": "stream",
     "text": [
      "Calling say_hi\n",
      "Hi!\n",
      "say_hi\n",
      "This function says hi.\n"
     ]
    }
   ],
   "source": [
    "# @functools.wraps\n",
    "import functools\n",
    "\n",
    "def my_decorator(func):\n",
    "    @functools.wraps(func)\n",
    "    def wrapper():\n",
    "        \"\"\"Wrapper function for logging.\"\"\"\n",
    "        print(\"Calling\", func.__name__)\n",
    "        return func()\n",
    "    return wrapper\n",
    "\n",
    "@my_decorator\n",
    "def say_hi():\n",
    "    \"\"\"This function says hi.\"\"\"\n",
    "    print(\"Hi!\")\n",
    "\n",
    "say_hi()\n",
    "\n",
    "print(say_hi.__name__)  \n",
    "print(say_hi.__doc__)   "
   ]
  },
  {
   "cell_type": "markdown",
   "id": "a281e879-5237-4c4b-83c4-b7235c1790ca",
   "metadata": {},
   "source": [
    "### 12. Comprehensions & Functional Programming"
   ]
  },
  {
   "cell_type": "code",
   "execution_count": 142,
   "id": "2c478df9-16fb-4e86-9ddf-4a71d89e4b25",
   "metadata": {},
   "outputs": [
    {
     "name": "stdout",
     "output_type": "stream",
     "text": [
      "[1, 4, 9, 16]\n"
     ]
    }
   ],
   "source": [
    "# map\n",
    "nums = [1, 2, 3, 4]\n",
    "\n",
    "def square(x):\n",
    "    return x * x\n",
    "\n",
    "squared = list(map(square, nums))\n",
    "print(squared)  \n",
    "\n",
    "squared = list(map(lambda x: x * x, nums)) # using lambda"
   ]
  },
  {
   "cell_type": "code",
   "execution_count": 152,
   "id": "93370dd1-7109-46e0-963b-e2b9047ae6e6",
   "metadata": {},
   "outputs": [
    {
     "name": "stdout",
     "output_type": "stream",
     "text": [
      "[2, 4, 6]\n"
     ]
    }
   ],
   "source": [
    "# filter\n",
    "nums = [1, 2, 3, 4, 5, 6]\n",
    "\n",
    "def is_even(x):\n",
    "    return x % 2 == 0\n",
    "\n",
    "evens = list(filter(is_even, nums))\n",
    "print(evens)  \n",
    "\n",
    "evens = list(filter(lambda x: x % 2 == 0, nums)) # lambda function"
   ]
  },
  {
   "cell_type": "code",
   "execution_count": 154,
   "id": "0c8e052d-3ec3-461d-9a27-e8f8cfa1a5fc",
   "metadata": {},
   "outputs": [
    {
     "name": "stdout",
     "output_type": "stream",
     "text": [
      "10\n"
     ]
    }
   ],
   "source": [
    "# reduce\n",
    "from functools import reduce\n",
    "\n",
    "nums = [1, 2, 3, 4]\n",
    "\n",
    "def add(x, y):\n",
    "    return x + y\n",
    "\n",
    "total = reduce(add, nums)\n",
    "print(total)  "
   ]
  },
  {
   "cell_type": "code",
   "execution_count": null,
   "id": "3f95352b-5878-4749-a0b2-eb39fa7ae1df",
   "metadata": {},
   "outputs": [],
   "source": []
  }
 ],
 "metadata": {
  "kernelspec": {
   "display_name": "Python [conda env:base] *",
   "language": "python",
   "name": "conda-base-py"
  },
  "language_info": {
   "codemirror_mode": {
    "name": "ipython",
    "version": 3
   },
   "file_extension": ".py",
   "mimetype": "text/x-python",
   "name": "python",
   "nbconvert_exporter": "python",
   "pygments_lexer": "ipython3",
   "version": "3.12.7"
  }
 },
 "nbformat": 4,
 "nbformat_minor": 5
}
